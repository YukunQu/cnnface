{
 "cells": [
  {
   "cell_type": "code",
   "execution_count": 144,
   "outputs": [],
   "source": [
    "import numpy as np\n",
    "import seaborn as sns\n",
    "import matplotlib.pyplot as plt\n",
    "\n",
    "\n",
    "sns.set_style('darkgrid')\n",
    "\n",
    "\n",
    "def class_boundary(female_prob, male_prob, female_act, male_act,title,savepath):\n",
    "    \n",
    "    x = np.arange(1, len(female_prob)+1)\n",
    "    sns.lineplot(x, female_prob)\n",
    "    sns.lineplot(x, male_prob)\n",
    "    sns.lineplot(x, female_act)\n",
    "    sns.lineplot(x, male_act)\n",
    "    \n",
    "    plt.legend(['female_prob', 'male_prob','female_act','male_act'],prop={'size':14})\n",
    "    plt.title(title)\n",
    "    plt.xlabel('Image number')\n",
    "    plt.ylabel('Probability')\n",
    "\n",
    "    plt.savefig(savepath,dpi= 300)\n",
    "    plt.show()\n",
    "    \n",
    "    \n",
    "def diff_image(female_prob, male_prob, female_act, male_act,savepath):\n",
    "     x = np.arange(1, len(female_prob)+1)\n",
    "     \n",
    "     fig, ax1 = plt.subplots()\n",
    "     \n",
    "     ax1.set_xlabel('Image number')\n",
    "     ax1.set_ylabel('Probability')\n",
    "     ax1.plot(x,female_prob,color='darksalmon')\n",
    "     ax1.plot(x,male_prob,color='cornflowerblue')\n",
    "     ax1.legend(['female probability', ' male   probability'], bbox_to_anchor=(0.55,1.2),loc=\"upper left\")\n",
    "     \n",
    "     ax2 = ax1.twinx()\n",
    "     ax2.set_ylabel('Activation')\n",
    "     ax2.plot(x,female_act,color='red')\n",
    "     ax2.plot(x,male_act,color='blue')\n",
    "     ax2.legend(['female activation',' male   activation'],bbox_to_anchor=(0.45,1.2),loc=\"upper right\")\n",
    "     \n",
    "     fig.tight_layout()\n",
    "     plt.savefig(savepath,dpi= 300)\n",
    "     plt.show()"
   ],
   "metadata": {
    "collapsed": false,
    "pycharm": {
     "name": "#%% \n",
     "is_executing": false
    }
   }
  },
  {
   "cell_type": "code",
   "execution_count": 48,
   "outputs": [],
   "source": [
    "import pandas as pd\n",
    "\n",
    "data = pd.read_csv(r'D:\\cnnface\\gender_analysis\\supplementray_analysis\\morph_face_output/morphface_result.csv')\n",
    "female_prob = data['female_probability']  \n",
    "male_prob = data['male_probability']\n",
    "female_act = data['female_activation']  \n",
    "male_act = data['male_activation']\n"
   ],
   "metadata": {
    "collapsed": false,
    "pycharm": {
     "name": "#%%\n",
     "is_executing": false
    }
   }
  },
  {
   "cell_type": "code",
   "execution_count": 145,
   "outputs": [],
   "source": [
    "#title = 'The classification activation and probability of 500 morph faces'\n",
    "savepath = 'D:\\cnnface\\gender_analysis\\supplementray_analysis\\plot/' \\\n",
    "           'The classification activation and probability of 500 morph faces.png'\n",
    "\n",
    "diff_image(female_prob, male_prob, female_act, male_act,savepath)"
   ],
   "metadata": {
    "collapsed": false,
    "pycharm": {
     "name": "#%%\n",
     "is_executing": false
    }
   }
  },
  {
   "cell_type": "code",
   "execution_count": null,
   "outputs": [],
   "source": [
    "# \n",
    "import numpy as np\n",
    "import pandas as pd\n",
    "\n",
    "label = np.load(r'D:\\cnnface\\gender_analysis\\noise_stimulus\\label/gender_label_20000.npy')\n",
    "label_prob = np.load(r'D:\\cnnface\\gender_analysis\\noise_stimulus\\label/gender_label_pro_20000.npy')\n",
    "dnn_act = np.load(r'D:\\cnnface\\gender_analysis\\noise_stimulus\\label/gender_label_act_20000.npy')\n",
    "\n",
    "noiseface_result = pd.DataFrame({'label':label,\n",
    "                                'female_probability':label_prob[:,0],\n",
    "                                'male_probability':label_prob[:,1],\n",
    "                                'female_activation':dnn_act[:,0],\n",
    "                                'male_activation':dnn_act[:,1]})\n",
    "noiseface_result.to_csv(r'D:\\cnnface\\gender_analysis\\noise_stimulus\\label/noiseface_result.csv')"
   ],
   "metadata": {
    "collapsed": false,
    "pycharm": {
     "name": "#%%\n"
    }
   }
  },
  {
   "cell_type": "code",
   "execution_count": 11,
   "outputs": [],
   "source": [
    "import numpy as np\n",
    "import matplotlib.pyplot as plt\n",
    "from cnnface.analysis.generate_ci import cal_paramci,generateCI\n",
    "# calculate the different frequency scale cis for human \n",
    "param_ci = np.load(r'D:\\cnnface\\gender_analysis\\CI_analysis/param_ci_cnn.npy')\n",
    "scale = [2,4,8,16,32]\n",
    "cis = generateCI(param_ci,level=scale)\n",
    "\n",
    "for ci, s in zip(cis,scale):\n",
    "    plt.imshow(ci,cmap='jet')\n",
    "    plt.axis('off')\n",
    "    plt.title(s)\n",
    "    plt.savefig(r'D:\\cnnface\\gender_analysis\\CI_analysis\\CIs\\cis_img/{}.png'.format(s),dpi=300)\n",
    "    plt.show()\n",
    "np.save(r'D:\\cnnface\\gender_analysis\\CI_analysis\\CIs/cis_vgg.npy',cis)"
   ],
   "metadata": {
    "collapsed": false,
    "pycharm": {
     "name": "#%%\n",
     "is_executing": false
    }
   }
  },
  {
   "cell_type": "code",
   "execution_count": 16,
   "outputs": [],
   "source": [
    "import numpy as np\n",
    "from cnnface.stimuli.image_manipulate import img_similarity\n",
    "# calculate the correlation between cis of human and cis of alexnet\n",
    "\n",
    "cis_alexnet = np.load(r'D:\\cnnface\\gender_analysis\\supplementray_analysis\\ci_result/cis_alexnet.npy')\n",
    "cis_vggface = np.load(r'D:\\cnnface\\gender_analysis\\human_result\\CIs/cis_human.npy')\n",
    "\n",
    "imgs_similarity = []\n",
    "for ci_alex,ci_vggface in zip(cis_alexnet,cis_vggface):\n",
    "    similarity = img_similarity(ci_alex,ci_vggface,method='pearsonr')\n",
    "    imgs_similarity.append(similarity)"
   ],
   "metadata": {
    "collapsed": false,
    "pycharm": {
     "name": "#%%\n",
     "is_executing": false
    }
   }
  },
  {
   "cell_type": "code",
   "execution_count": 17,
   "outputs": [],
   "source": [
    "for i in imgs_similarity:\n",
    "    print(i)\n",
    "np.save(r'D:\\cnnface\\gender_analysis\\supplementray_analysis\\cis_correlation/correlationBetweenHuman2Alexnet.npy',imgs_similarity)"
   ],
   "metadata": {
    "collapsed": false,
    "pycharm": {
     "name": "#%%\n",
     "is_executing": false
    }
   }
  },
  {
   "cell_type": "code",
   "execution_count": 19,
   "outputs": [],
   "source": [
    "import numpy as np\n",
    "from cnnface.stimuli.image_manipulate import img_similarity\n",
    "ci_vgg = np.load(r'D:\\cnnface\\gender_analysis\\CI_analysis/ci_cnn.npy')\n",
    "ci_alexnet = np.load(r'D:\\cnnface\\gender_analysis\\supplementray_analysis\\ci_result/ci_alexnet.npy')\n",
    "similarity = img_similarity(ci_alexnet,ci_vgg,method='pearsonr')\n",
    "\n",
    "print(similarity)"
   ],
   "metadata": {
    "collapsed": false,
    "pycharm": {
     "name": "#%%\n",
     "is_executing": false
    }
   }
  },
  {
   "cell_type": "code",
   "execution_count": 22,
   "outputs": [],
   "source": [
    "plt.imshow(ci_alexnet,'jet')\n"
   ],
   "metadata": {
    "collapsed": false,
    "pycharm": {
     "name": "#%%\n",
     "is_executing": false
    }
   }
  },
  {
   "cell_type": "code",
   "execution_count": 8,
   "outputs": [],
   "source": [
    "# rebuld the ci-face from alexnet_gender ci\n",
    "import numpy as np\n",
    "from PIL import Image\n",
    "from cnnface.analysis.generate_ci import cal_paramci,generateCI,recon_face"
   ],
   "metadata": {
    "collapsed": false,
    "pycharm": {
     "name": "#%%\n",
     "is_executing": false
    }
   }
  },
  {
   "cell_type": "code",
   "execution_count": null,
   "outputs": [],
   "source": [
    "# rebuild the category face\n",
    "baseface = Image.open(r'D:\\cnnface\\gender_analysis\\face_template\\gray/baseface.jpg')\n",
    "ci = np.load(r'D:\\cnnface\\gender_analysis\\supplementray_analysis\\ci_result/ci_alexnet.npy')\n",
    "\n",
    "img_add, img_sub = recon_face(baseface,ci,50)\n",
    "img_add.save(r'D:\\cnnface\\gender_analysis\\supplementray_analysis\\reconstruct_face/bf_add.jpg')\n",
    "img_sub.save(r'D:\\cnnface\\gender_analysis\\supplementray_analysis\\reconstruct_face/bf_sub.jpg')"
   ],
   "metadata": {
    "collapsed": false,
    "pycharm": {
     "name": "#%%\n"
    }
   }
  },
  {
   "cell_type": "code",
   "execution_count": 31,
   "outputs": [],
   "source": [
    "# rebuild the category face in each scale\n",
    "baseface = Image.open(r'D:\\cnnface\\gender_analysis\\face_template\\gray/baseface.jpg')\n",
    "cis = np.load(r'D:\\cnnface\\gender_analysis\\supplementray_analysis\\ci_result/cis_alexnet.npy')\n",
    "\n",
    "level = (2, 4, 8, 16, 32)\n",
    "\n",
    "for i, l in enumerate(level):\n",
    "    print(cis[i, :, :].max())\n",
    "    print(cis[i, :, :].min())\n",
    "    img_add, img_sub = recon_face(baseface, cis[i, :, :],100)\n",
    "    img_add.save(r'D:\\cnnface\\gender_analysis\\supplementray_analysis\\reconstruct_face\\scales_68/bf_add100_%04d.jpg' % l)\n",
    "    img_sub.save(r'D:\\cnnface\\gender_analysis\\supplementray_analysis\\reconstruct_face\\scales_68/bf_sub100_%04d.jpg' % l)\n"
   ],
   "metadata": {
    "collapsed": false,
    "pycharm": {
     "name": "#%%\n",
     "is_executing": false
    }
   }
  },
  {
   "cell_type": "code",
   "execution_count": null,
   "outputs": [],
   "source": [
    "# get activation of different scale cis.\n"
   ],
   "metadata": {
    "collapsed": false,
    "pycharm": {
     "name": "#%%\n"
    }
   }
  },
  {
   "cell_type": "code",
   "execution_count": 30,
   "outputs": [],
   "source": [
    "# plot activation \n",
    "import pandas as pd\n",
    "import matplotlib.pyplot as plt\n",
    "import seaborn as sns\n",
    "\n",
    "# load the data of activation when cnn categorizing reconstructed face\n",
    "resultAlexFace = pd.read_csv(r'D:\\cnnface\\gender_analysis\\supplementray_analysis\\reconstruct_face/alex_gender_result.csv')\n",
    "# the first figure : bar plot x = scale, y = human_male_act, and cnn_male_act\n",
    "actAlexMale = resultAlexFace['male_activation'][5:]\n",
    "actAlexFemale = resultAlexFace['female_activation'][:5]\n",
    "\n",
    "#act = actAlexFemale\n",
    "act = actAlexFemale\n",
    "Scale = [2,4,8,16,32] \n",
    "\n",
    "sns.set_style('darkgrid')\n",
    "sns.barplot(x=Scale,y=act)\n",
    "plt.show()"
   ],
   "metadata": {
    "collapsed": false,
    "pycharm": {
     "name": "#%%\n",
     "is_executing": false
    }
   }
  },
  {
   "cell_type": "code",
   "execution_count": 44,
   "outputs": [],
   "source": [
    "import pandas as pd\n",
    "import numpy as np\n",
    "import matplotlib.pyplot as plt\n",
    "import seaborn as sns\n",
    "\n",
    "noiseface_data = pd.read_csv(r'D:\\cnnface\\gender_analysis\\noise_stimulus\\label/noiseface_result.csv')\n",
    "\n",
    "male_activation = np.array(noiseface_data['male_activation'])\n",
    "male_baseline = np.mean(male_activation)\n",
    "\n",
    "female_activation = np.array(noiseface_data['female_activation'])\n",
    "female_baseline = np.mean(female_activation)\n",
    "\n",
    "image = list(range(20000))*4\n",
    "female_activation  = list(female_activation)\n",
    "female_activation  = [-i for i in female_activation]\n",
    "act =   [female_baseline]*20000 + [0]*20000 + list(male_activation) +female_activation \n",
    "hue =  ['act_baseline']*20000 + ['origin_baseline']*20000 + ['male_activation']*20000 +['female_activation']*20000 \n",
    "pl = sns.lineplot(x=image,y=act,hue=hue)\n",
    "pl.text(10, 5, \"act_baseline={}\".format(round(female_baseline,2)), size='medium', color='black')\n",
    "plt.savefig(r'D:\\cnnface\\gender_analysis\\supplementray_analysis\\difference_act_prob_method/female_male_activation.jpg',dpi=300)\n",
    "plt.show()"
   ],
   "metadata": {
    "collapsed": false,
    "pycharm": {
     "name": "#%%",
     "is_executing": false
    }
   }
  },
  {
   "cell_type": "code",
   "execution_count": 42,
   "outputs": [],
   "source": [
    "len(hue)"
   ],
   "metadata": {
    "collapsed": false,
    "pycharm": {
     "name": "#%%\n",
     "is_executing": false
    }
   }
  },
  {
   "cell_type": "code",
   "execution_count": 31,
   "outputs": [],
   "source": [
    "male_activation_wave = male_activation - male_baseline\n",
    "male_label = np.array([1 if a > 0 else 0 for a in male_activation_wave])\n",
    "\n",
    "female_activation_wave = female_activation - female_baseline\n",
    "female_label = np.array([0 if a > 0 else 1 for a in female_activation_wave])"
   ],
   "metadata": {
    "collapsed": false,
    "pycharm": {
     "name": "#%%\n",
     "is_executing": false
    }
   }
  },
  {
   "cell_type": "code",
   "execution_count": 32,
   "outputs": [],
   "source": [
    "overlap = [1 if m ==f else 0 for m,f in zip(male_label,female_label)]"
   ],
   "metadata": {
    "collapsed": false,
    "pycharm": {
     "name": "#%%\n",
     "is_executing": false
    }
   }
  },
  {
   "cell_type": "code",
   "execution_count": 36,
   "outputs": [],
   "source": [
    "print(sum(overlap)/20000)\n",
    "\n"
   ],
   "metadata": {
    "collapsed": false,
    "pycharm": {
     "name": "#%%\n",
     "is_executing": false
    }
   }
  }
 ],
 "metadata": {
  "kernelspec": {
   "display_name": "Python 3",
   "language": "python",
   "name": "python3"
  },
  "language_info": {
   "codemirror_mode": {
    "name": "ipython",
    "version": 2
   },
   "file_extension": ".py",
   "mimetype": "text/x-python",
   "name": "python",
   "nbconvert_exporter": "python",
   "pygments_lexer": "ipython2",
   "version": "2.7.6"
  },
  "pycharm": {
   "stem_cell": {
    "cell_type": "raw",
    "source": [],
    "metadata": {
     "collapsed": false
    }
   }
  }
 },
 "nbformat": 4,
 "nbformat_minor": 0
}