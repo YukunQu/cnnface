{
 "cells": [
  {
   "cell_type": "code",
   "execution_count": 1,
   "metadata": {
    "pycharm": {
     "is_executing": false
    }
   },
   "outputs": [],
   "source": [
    "#create folder in batchs\n",
    "import os, sys\n",
    "path1 = 'D:\\VGGface2\\overlap_vggface1_2/'  #指定名称文件夹所在路径\n",
    "path2 = 'D:/cnnface/female_male_test_51_addnoise/noise_0.05/'    #新建文件夹所在路径\n",
    " \n",
    "def MkDir():\n",
    "    dirs = os.listdir(path1)\n",
    "    for dir in dirs:\n",
    "        file_name = path2 + str(dir)\n",
    "        os.mkdir(file_name)\n",
    "        \n",
    "MkDir()"
   ]
  },
  {
   "cell_type": "code",
   "execution_count": null,
   "metadata": {
    "pycharm": {
     "is_executing": false
    }
   },
   "outputs": [],
   "source": [
    "#extract dnn_activation\n",
    "import argparse\n",
    "from torchvision import transforms\n",
    "from torch.utils.data import DataLoader\n",
    "from dnnbrain.dnn import analyzer\n",
    "from dnnbrain.dnn import io as dnn_io\n",
    "\n",
    "stim = 'D:/cnnface/female_male_test_51_addnoise/Face_template.csv'\n",
    "netloader = dnn_io.NetLoader('vggface')\n",
    "imgcropsize = netloader.img_size\n",
    "transform = transforms.Compose([transforms.Resize(imgcropsize),\n",
    "                                    transforms.ToTensor()])  \n",
    "picdataset = dnn_io.PicDataset(stim, transform=transform)\n",
    "picdataloader = DataLoader(picdataset, batch_size=8, shuffle=False)\n",
    "dnn_act = analyzer.dnn_activation(picdataloader, 'vggface', 'fc3')\n"
   ]
  },
  {
   "cell_type": "code",
   "execution_count": null,
   "metadata": {
    "pycharm": {
     "is_executing": false
    }
   },
   "outputs": [],
   "source": [
    "#Get classification result of network.\n",
    "import numpy as np\n",
    "import torch\n",
    "from torchvision import transforms\n",
    "\n",
    "from dnnbrain.dnn.models import dnn_test_model\n",
    "from dnnbrain.dnn.io import PicDataset,NetLoader,DataLoader\n",
    "from cnnface.core.vgg_identity_recons import Vgg_identity\n",
    "\n",
    "vggid = Vgg_identity()\n",
    "vggid.load_state_dict(torch.load('F:/Code/pretrained_model/vgg_male_female_CrossEntro.pth'))\n",
    "\n",
    "imgcsv_path = 'D:\\cnnface/female_male_test_51_addnoise/sinusoid_frame40_1000.csv'\n",
    "transform = transforms.Compose([transforms.Resize((224,224)),\n",
    "                                transforms.ToTensor()])\n",
    "PicSet = PicDataset(imgcsv_path,transform)\n",
    "Picloader = DataLoader(PicSet,batch_size=32)\n",
    "\n",
    "output = dnn_test_model(Picloader,vggid)\n",
    "\n",
    "#save label to txt file\n",
    "label = output[0]\n",
    "label_f = np.argwhere(label==0)\n",
    "label_m = np.argwhere(label==1)\n",
    "\n",
    "np.savetxt('D:/cnnface/female_male_test_51_addnoise/label_sinusoid_frame40_f.txt',label_f)\n",
    "np.savetxt('D:/cnnface/female_male_test_51_addnoise/label_frame40_m.txt',label_m)\n"
   ]
  },
  {
   "cell_type": "code",
   "execution_count": null,
   "metadata": {
    "pycharm": {
     "is_executing": false
    }
   },
   "outputs": [],
   "source": [
    "# \n",
    "import numpy as np\n",
    "from dnnbrain.dnn import io\n",
    "import os\n",
    "from PIL import Image \n",
    "import sys\n",
    "sys.path.append(\"..\")\n",
    "from cnnface.core.Image_processing import average_img\n",
    "\n",
    "csv_file = 'D:/cnnface/female_male_test_51_addnoise/rcicr_gabor_noise.csv'\n",
    "index_f = np.loadtxt('D:/cnnface/female_male_test_51_addnoise/label_garbo_f.txt').astype('int64')\n",
    "index_m = np.loadtxt('D:/cnnface/female_male_test_51_addnoise/label_garbo_m.txt').astype('int64')\n",
    "\n",
    "savepath_aver_f = 'D:/cnnface/female_male_test_51_addnoise/Face_template/classification_noise/female_aver_garbo.jpg'\n",
    "savepath_aver_m = 'D:/cnnface/female_male_test_51_addnoise/Face_template/classification_noise/male_aver_garbo.jpg'\n",
    "savepath_CI = 'D:/cnnface/female_male_test_51_addnoise/Face_template/classification_noise/CI_garbo_5.jpg'\n",
    "\n",
    "#Get pictures path from stim_csv and label txt.\n",
    "picset= io.PicDataset(csv_file)\n",
    "pre_picpath = picset.picpath\n",
    "sub_picpath = picset.picname\n",
    "\n",
    "f_picpath = [os.path.join(pre_picpath,sub_picpath[i]) for i in index_f]\n",
    "m_picpath = [os.path.join(pre_picpath,sub_picpath[i]) for i in index_m]\n",
    "\n",
    "#average all of the pictures as their label.\n",
    "aver_img_f = average_img(f_picpath)\n",
    "aver_img_m = average_img(m_picpath)\n",
    "\n",
    "#calculate the CI and superimpose image and subtract image.\n",
    "ci = aver_img_f.astype('int64') - aver_img_m.astype('int64')\n",
    "ci = ci -ci.min()\n",
    "ci = ci *5 "
   ]
  },
  {
   "cell_type": "code",
   "execution_count": null,
   "metadata": {
    "scrolled": true,
    "pycharm": {
     "is_executing": false
    }
   },
   "outputs": [],
   "source": [
    "\n",
    "\n",
    "(Image.fromarray(aver_img_f.astype('uint8'))).save(savepath_aver_f,quality=95)\n",
    "(Image.fromarray(aver_img_m.astype('uint8'))).save(savepath_aver_m,quality=95)\n",
    "(Image.fromarray(ci.astype('uint8'))).save(savepath_CI,quality=95)"
   ]
  },
  {
   "cell_type": "code",
   "execution_count": null,
   "metadata": {
    "pycharm": {
     "is_executing": false
    }
   },
   "outputs": [],
   "source": []
  },
  {
   "cell_type": "code",
   "execution_count": null,
   "metadata": {
    "scrolled": true,
    "pycharm": {
     "is_executing": false
    }
   },
   "outputs": [],
   "source": [
    "#calculate the CI and superimpose image and subtract image.\n",
    "ci = aver_img_f.astype('int64') - aver_img_m.astype('int64')\n"
   ]
  },
  {
   "cell_type": "code",
   "execution_count": null,
   "metadata": {
    "pycharm": {
     "is_executing": false
    }
   },
   "outputs": [],
   "source": [
    "import numpy as np\n",
    "from PIL import Image\n",
    "\n",
    "usecols = list(range(513))\n",
    "usecols.remove(0)\n",
    "sinusoid = np.loadtxt('D:/cnnface/rcrci/sinusoid/cycle/sinuoid_4.csv',delimiter=',',skiprows=1,usecols=usecols)\n",
    "sinusoid = ((sinusoid - sinusoid.min())/(sinusoid.max() - sinusoid.min()))*255\n",
    "img_sinu = Image.fromarray(sinusoid)\n",
    "img_sinu.show()"
   ]
  },
  {
   "cell_type": "code",
   "execution_count": null,
   "metadata": {
    "scrolled": false,
    "pycharm": {
     "is_executing": false
    }
   },
   "outputs": [],
   "source": [
    "#generateSinusoid\n",
    "from PIL import Image\n",
    "import numpy as np\n",
    "\n",
    "img_size = 512/2\n",
    "cycles = 2\n",
    "angle = [0,30,60,90,120,150]\n",
    "phase = [0,np.pi/2]\n",
    "\n",
    "def generateSingleSinusoid(img_size, cycles, angle, phase):\n",
    "    angle = np.radians(angle)\n",
    "    sinepath = (np.linspace(0,cycles,img_size))[:,np.newaxis].repeat(img_size,axis=1)\n",
    "    sinusoid = (sinepath*np.sin(angle) + sinepath.T*np.cos(angle)) * 2 *np.pi\n",
    "    sinusoid = np.sin(sinusoid + phase)\n",
    "    return sinusoid\n",
    "\n",
    "\n",
    "def generateCombinSinusoid(img_size,cycles,angle,phase):\n",
    "    sinusoid_combined = []\n",
    "    for p in phase:\n",
    "        for a in angle:\n",
    "            sinusoid = generateSingleSinusoid(img_size,cycles,a,p)\n",
    "            sinusoid = np.random.randn() * sinusoid\n",
    "            sinusoid_combined.append(sinusoid)\n",
    "    sinusoid_combined = np.array(sinusoid_combined)\n",
    "    sinusoid_combined = np.sum(sinusoid_combined,axis=0)\n",
    "    sinusoid_combined = (sinusoid_combined - sinusoid_combined.min()) / (sinusoid_combined.max() - sinusoid_combined.min())\n",
    "    sinusoid_combined = sinusoid_combined *255\n",
    "    return sinusoid_combined\n",
    "\n",
    "\n",
    "scales = [(2**i)**2 for i in range(5)]\n",
    "img_size = [512,256,128,64,32]\n",
    "sinusoid_1 = generateCombinSinusoid(img_size[0],cycles,angle,phase)\n",
    "sinusoid_2 = [generateCombinSinusoid(img_size[1],cycles,angle,phase) for i in range(4)]\n",
    "sinusoid_3 = [generateCombinSinusoid(img_size[1],cycles,angle,phase) for i in 16]\n",
    "sinusoid_4 = [generateCombinSinusoid(img_size[1],cycles,angle,phase) for i in 64]\n",
    "sinusoid_5 = [generateCombinSinusoid(img_size[1],cycles,angle,phase) for i in 256]\n",
    "\n",
    "for col in range(8):\n",
    "    for row in range(8):\n",
    "        sinusoid_com = sinusoid_3[col] + sinusoid_3[col+1]\n",
    "sinusoid_com1 = np.vstack((sinusoid_2[0],sinusoid_2[1]))\n",
    "sinusoid_com2 = np.vstack((sinusoid_2[2],sinusoid_2[3]))\n",
    "print(sinusoid_com1.shape)\n",
    "print(sinusoid_com2.shape)\n",
    "sinusoid_com = np.hstack((sinusoid_com1,sinusoid_com2))\n",
    "\n",
    "img_sinu = Image.fromarray(sinusoid_com)\n",
    "img_sinu.show()"
   ]
  },
  {
   "cell_type": "code",
   "execution_count": null,
   "metadata": {
    "pycharm": {
     "is_executing": false
    }
   },
   "outputs": [],
   "source": [
    "# convert picture to L"
   ]
  },
  {
   "cell_type": "code",
   "execution_count": null,
   "metadata": {
    "scrolled": false,
    "pycharm": {
     "is_executing": false
    }
   },
   "outputs": [],
   "source": [
    "import sys\n",
    "sys.path.append(\"..\")\n",
    "from cnnface.core import Image_processing\n",
    "\n",
    "CI_ori_p = 'D:/cnnface/female_male_test_51_addnoise\\Face_template/classification_noise/CI_ori.jpg'\n",
    "CI_ori_5 = 'D:/cnnface/female_male_test_51_addnoise\\Face_template/classification_noise/CI_ori_5.jpg'\n",
    "CI_ori_20 = 'D:/cnnface/female_male_test_51_addnoise\\Face_template/classification_noise/CI_ori_20.jpg'\n",
    "CI_sinusoid_nor = 'D:/cnnface/female_male_test_51_addnoise\\Face_template/classification_noise/CI_sinusoid_nor.jpg'\n",
    "CI_sinusoid5_nor = 'D:/cnnface/female_male_test_51_addnoise\\Face_template/classification_noise/CI_sinusoid5_nor.jpg'\n",
    "\n",
    "# Image_processing.image_freq_hist_plot(CI_ori_p)\n",
    "# Image_processing.image_freq_hist_plot(CI_ori_5)\n",
    "# Image_processing.image_freq_hist_plot(CI_ori_20)\n",
    "# Image_processing.image_freq_hist_plot(CI_sinusoid_nor)\n",
    "# Image_processing.image_freq_hist_plot(CI_sinusoid5_nor)\n",
    "\n",
    "\n",
    "Image_processing.img_zmap(CI_ori_p)\n",
    "Image_processing.img_zmap(CI_ori_5)\n",
    "Image_processing.img_zmap(CI_ori_20)\n",
    "Image_processing.img_zmap(CI_sinusoid_nor)"
   ]
  },
  {
   "cell_type": "code",
   "execution_count": null,
   "metadata": {
    "scrolled": false,
    "pycharm": {
     "is_executing": false
    }
   },
   "outputs": [],
   "source": [
    "import numpy as np\n",
    "from PIL import Image\n",
    "import matplotlib.pyplot as plt\n",
    "import matplotlib.image as pg\n",
    "\n",
    "CI_sinusoid_nor = 'D:/cnnface/female_male_test_51_addnoise\\Face_template/classification_noise/CI_sinusoid_nor.jpg'\n",
    "CI = Image.open(CI_sinusoid_nor)\n",
    "CI_arr = np.array(CI)\n",
    "\n",
    "ci_map = plt.imshow(CI_arr,cmap = 'jet',interpolation='nearest')\n",
    "save_path  ='D:/cnnface/female_male_test_51_addnoise/Face_template/classification_noise/CI_jet.jpg'\n",
    "pg.imsave(save_path,CI_arr,cmap = 'jet',format='jpg',dpi=1000)\n",
    "\n"
   ]
  },
  {
   "cell_type": "code",
   "execution_count": null,
   "metadata": {
    "scrolled": false,
    "pycharm": {
     "is_executing": false
    }
   },
   "outputs": [],
   "source": [
    "import os\n",
    "import numpy as np\n",
    "import pandas as pd\n",
    "from PIL import Image\n",
    "\n",
    "import matplotlib.pyplot as plt\n",
    "\n",
    "#read image path from csv.file\n",
    "csv_file = 'D:/cnnface/female_male_test_51_addnoise/rcicr_sinusoid_noise.csv'\n",
    "pd = pd.read_csv(csv_file,skiprows=1)\n",
    "stimID = np.array(pd['stimID'])\n",
    "with open(csv_file,'r') as f:\n",
    "    picpath = f.readline().rstrip()\n",
    "    \n",
    "#read base img \n",
    "base_img = Image.open('D:/cnnface/female_male_test_51_addnoise/Face_template/face_template/frame054_gray_512.jpg')\n",
    "baseimg_arr = np.array(base_img).astype('int32')\n",
    "img_min = []\n",
    "img_mean = []\n",
    "img_max = []\n",
    "\n",
    "#read image from array\n",
    "#calculate the min mean max of singal pictures\n",
    "for x,i in enumerate(stimID):\n",
    "    picimg = Image.open(os.path.join(picpath, i))\n",
    "    picimg_arr = np.array(picimg).astype('int32')\n",
    "    contrast = picimg_arr - baseimg_arr\n",
    "    # - base image to get the pixel (positive and negative)\n",
    "    con_min = contrast.min()\n",
    "    con_mean = contrast.mean()\n",
    "    con_max = contrast.max()\n",
    "    \n",
    "    if x <5:\n",
    "        plt.hist(contrast)\n",
    "        plt.show()\n",
    "    img_min.append(con_min)\n",
    "    img_mean.append(con_mean)\n",
    "    img_max.append(con_max)\n",
    "#sum and plot the hist of min ,mean,max of all pictures\n",
    "\n",
    "plt.hist(img_min)\n",
    "plt.show()\n",
    "plt.hist(img_mean)\n",
    "plt.show()\n",
    "plt.hist(img_max)\n",
    "plt.show()"
   ]
  },
  {
   "cell_type": "code",
   "execution_count": null,
   "metadata": {
    "scrolled": true,
    "pycharm": {
     "is_executing": false
    }
   },
   "outputs": [],
   "source": [
    "#load RData file to python\n",
    "import rpy2.robjects as robjects\n",
    "import numpy as np\n",
    "robjects.r['load'](\"D:/cnnface/female_male_test_51_addnoise/Face_template/meta_data/pythonRead/sinusoid1000_patches.RData\")\n",
    "\n",
    "x = robjects.r['patches']\n",
    "print(np.array(x))"
   ]
  },
  {
   "cell_type": "code",
   "execution_count": null,
   "metadata": {
    "scrolled": false,
    "pycharm": {
     "is_executing": false
    }
   },
   "outputs": [],
   "source": [
    "#convert .RData to npy file\n",
    "import rpy2.robjects as robjects\n",
    "import numpy as np\n",
    "\n",
    "robjects.r['load'](\"D:/cnnface/female_male_test_51_addnoise/Face_template/meta_data/rcic_seed_1_time_9月_18_2019_10_07.Rdata\")\n",
    "params = robjects.r['stimuli_params'][0]\n",
    "\n",
    "params_1000 = np.array(params)\n",
    "\n",
    "robjects.r['load'](\"D:/cnnface/female_male_test_51_addnoise/Face_template/meta_data/rcic_seed_1_time_9月_18_2019_10_30.Rdata\")\n",
    "params = robjects.r['stimuli_params'][0]\n",
    "\n",
    "params_2000 = np.array(params)\n",
    "\n",
    "robjects.r['load'](\"D:/cnnface/female_male_test_51_addnoise/Face_template/meta_data/rcic_seed_1_time_9月_18_2019_10_45.Rdata\")\n",
    "params = robjects.r['stimuli_params'][0]\n",
    "\n",
    "params_3000 = np.array(params)\n",
    "\n",
    "robjects.r['load'](\"D:/cnnface/female_male_test_51_addnoise/Face_template/meta_data/rcic_seed_1_time_9月_18_2019_11_02.Rdata\")\n",
    "params = robjects.r['stimuli_params'][0]\n",
    "\n",
    "params_4000 = np.array(params)\n",
    "\n",
    "robjects.r['load'](\"D:/cnnface/female_male_test_51_addnoise/Face_template/meta_data/rcic_seed_1_time_9月_18_2019_11_22.Rdata\")\n",
    "params = robjects.r['stimuli_params'][0]\n",
    "\n",
    "params_5000 = np.array(params)\n",
    "\n",
    "p = np.concatenate((params_1000,params_2000),axis=0)\n",
    "p = np.concatenate((p,params_3000),axis=0)\n",
    "p = np.concatenate((p,params_4000),axis=0)\n",
    "p = np.concatenate((p,params_5000),axis=0)\n",
    "\n",
    "np.save('D:/cnnface/female_male_test_51_addnoise/Face_template/meta_data/params_5000',p)\n",
    "\n"
   ]
  },
  {
   "cell_type": "code",
   "execution_count": null,
   "metadata": {
    "pycharm": {
     "is_executing": false,
     "name": "#%%\n"
    }
   },
   "outputs": [],
   "source": [
    "#convert .RData to npy file\n",
    "import rpy2.robjects as robjects\n",
    "import numpy as np\n",
    "\n",
    "robjects.r['load'](\"D:/cnnface/female_male_test_51_addnoise/Face_template/meta_data/rcic_seed_1_time_9月_18_2019_10_07.Rdata\")\n",
    "p = robjects.r['p']\n",
    "print(p.names)\n",
    "patches = p[0]\n",
    "patchidx = p[1]\n",
    "\n",
    "patches = np.array(patches)\n",
    "patchidx = np.array(patchidx)\n",
    "\n",
    "np.save('D:/cnnface/female_male_test_51_addnoise/Face_template/meta_data/patches.npy',patches)\n",
    "np.save('D:/cnnface/female_male_test_51_addnoise/Face_template/meta_data/patchidx.npy',patchidx)\n",
    "\n",
    "\n"
   ]
  }
 ],
 "metadata": {
  "kernelspec": {
   "name": "python3",
   "language": "python",
   "display_name": "Python 3"
  },
  "language_info": {
   "codemirror_mode": {
    "name": "ipython",
    "version": 3
   },
   "file_extension": ".py",
   "mimetype": "text/x-python",
   "name": "python",
   "nbconvert_exporter": "python",
   "pygments_lexer": "ipython3",
   "version": "3.7.0"
  },
  "pycharm": {
   "stem_cell": {
    "cell_type": "raw",
    "source": [],
    "metadata": {
     "collapsed": false
    }
   }
  }
 },
 "nbformat": 4,
 "nbformat_minor": 2
}