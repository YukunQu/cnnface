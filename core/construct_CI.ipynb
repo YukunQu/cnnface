{
 "cells": [
  {
   "cell_type": "markdown",
   "metadata": {
    "collapsed": true,
    "pycharm": {
     "name": "#%% md\n"
    }
   },
   "source": [
    "# 1.face average of two class separately\n",
    "AC path : D:\\cnnface\\femaletrain\\n00000068\n",
    "NC path : D:\\cnnface\\femaletrain\\n00002085\n",
    "\n",
    "\n",
    "D:\\VGGface2\\overlap_vggface1_2\\n002724\n",
    "\n",
    "average command:\n",
    "\n",
    "\n",
    "# 2.Morph face average images of two class and get baseFace \n",
    "\n",
    "morph command:\n",
    "python morpher.py --images=D:\\cnnface\\Identity_analysis\\face_template \n",
    "--out_frames=D:\\cnnface\\Identity_analysis\\face_template\\morph_face \n",
    "--num=103 --width=512 --height=512 --background=transparent\n",
    "\n",
    "# 3.add sinusoid noise to baseFace\n",
    "base_face_files <- list('base_face' = 'D:/cnnface/Identity_analysis/face_template/identity2_morph.jpg')\n",
    "\n",
    "generateStimuli2IFC(base_face_files,n_trials = 1000, stimulus_path = 'D:/cnnface/Identity_analysis/bf_noise')\n",
    "\n",
    "# 4.give net to classify image with noise\n",
    "\n",
    "\n",
    "\n",
    "5."
   ]
  },
  {
   "cell_type": "code",
   "execution_count": 5,
   "outputs": [],
   "source": [
    "from cnnface.core.Image_processing import img2gray\n",
    "\n",
    "oripath = 'D:\\cnnface\\Identity_analysis/face_template\\morph_face/frame050.png'\n",
    "outpath = 'D:\\cnnface\\Identity_analysis/face_template/identity2_morph.jpg'\n",
    "img2gray(oripath,outpath)\n",
    "\n"
   ],
   "metadata": {
    "collapsed": false,
    "pycharm": {
     "name": "#%%\n",
     "is_executing": false
    }
   }
  }
 ],
 "metadata": {
  "kernelspec": {
   "display_name": "Python 3",
   "language": "python",
   "name": "python3"
  },
  "language_info": {
   "codemirror_mode": {
    "name": "ipython",
    "version": 2
   },
   "file_extension": ".py",
   "mimetype": "text/x-python",
   "name": "python",
   "nbconvert_exporter": "python",
   "pygments_lexer": "ipython2",
   "version": "2.7.6"
  },
  "pycharm": {
   "stem_cell": {
    "cell_type": "raw",
    "source": [],
    "metadata": {
     "collapsed": false
    }
   }
  }
 },
 "nbformat": 4,
 "nbformat_minor": 0
}