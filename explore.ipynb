{
 "cells": [
  {
   "cell_type": "code",
   "execution_count": null,
   "outputs": [],
   "source": [
    "from cnnface.stimulus.Image_process import img_similarity,nor\n",
    "from PIL import Image\n",
    "import matplotlib.pyplot as plt\n",
    "import numpy as np\n",
    "import seaborn as sns\n",
    "import os"
   ],
   "metadata": {
    "collapsed": false,
    "pycharm": {
     "name": "#%%\n",
     "is_executing": false
    }
   }
  },
  {
   "cell_type": "code",
   "execution_count": null,
   "outputs": [],
   "source": [
    "# 在anconda的python3.6里运行, 记录 平均面孔的代码\n",
    "\n",
    "from facemorpher import averager,list_imgpaths\n",
    "import os\n",
    "\n",
    "prepath = r'D:\\cnnface\\gender_analysis\\train_stimulus\\male'\n",
    "imgs_path = os.listdir(prepath)\n",
    "target_prepath = r'D:\\cnnface\\gender_analysis\\face_template'\n",
    "\n",
    "for img_path in imgs_path:\n",
    "    target_path = os.path.join(target_prepath, img_path + '.png')\n",
    "    img_path = os.path.join(prepath, img_path)\n",
    "    averager(list_imgpaths(img_path), None, int(512), int(512), 'transparent', True, target_path)\n",
    "    "
   ],
   "metadata": {
    "collapsed": false,
    "pycharm": {
     "name": "#%%\n",
     "is_executing": false
    }
   }
  },
  {
   "cell_type": "code",
   "execution_count": null,
   "outputs": [],
   "source": [
    "# 批量移动文件\n",
    "import os\n",
    "import shutil\n",
    "\n",
    "ori_path =r'D:\\RAF\\RAF\\basic\\Image\\aligned\\aligned'\n",
    "sub_list= os.listdir(ori_path)\n",
    "\n",
    "i = 1\n",
    "for sub in sub_list:\n",
    "   sub_path = os.path.join(ori_path,sub)\n",
    "   img_list = os.listdir(sub_path)\n",
    "   for img in img_list:\n",
    "       img_path = os.path.join(sub_path,img)\n",
    "       i_str = str(i).zfill(6)\n",
    "       tar_path = 'D:\\VGGface2\\overlap_male/{}.jpg'.format(i_str)\n",
    "       i = i + 1 \n",
    "       shutil.move(img_path,tar_path)\n",
    "\n"
   ],
   "metadata": {
    "collapsed": false,
    "pycharm": {
     "name": "#%%\n",
     "is_executing": false
    }
   }
  },
  {
   "cell_type": "code",
   "execution_count": null,
   "outputs": [],
   "source": [
    "# 计算 roc 曲线\n",
    "    \n",
    "import numpy as np\n",
    "from sklearn.metrics import roc_curve, auc\n",
    "import matplotlib.pyplot as plt\n",
    "\n",
    "actual_label = np.random.choice((0,1),(100,))\n",
    "y_score = np.ones(100)\n",
    "y_score[:50] = 0\n",
    "\n",
    "fpr, tpr, threshold = roc_curve(actual_label,y_score)\n",
    "auc_value = auc(fpr,tpr)\n",
    "print(auc_value)\n",
    "\n",
    "plt.figure()\n",
    "lw = 2\n",
    "plt.figure(figsize=(10, 10))\n",
    "plt.plot(fpr, tpr, color='darkorange',\n",
    "         lw=lw, label='ROC curve (area = %0.3f)' % auc_value)  # 假正率为横坐标，真正率为纵坐标做曲线\n",
    "plt.plot([0, 1], [0, 1], color='navy', lw=lw, linestyle='--')\n",
    "plt.xlim([0.0, 1.0])\n",
    "plt.ylim([0.0, 1.05])\n",
    "plt.xlabel('False Positive Rate')\n",
    "plt.ylabel('True Positive Rate')\n",
    "plt.title('Receiver operating characteristic example')\n",
    "plt.legend(loc=\"lower right\")\n",
    "plt.show()\n"
   ],
   "metadata": {
    "collapsed": false,
    "pycharm": {
     "name": "#%%\n",
     "is_executing": false
    }
   }
  },
  {
   "cell_type": "code",
   "execution_count": null,
   "outputs": [],
   "source": [
    "## 批量移除rcicr生成的 inv 文件\n",
    "import os\n",
    "for i in range(9,21):\n",
    "    prepath = r'D:\\cnnface\\gender_analysis\\noise_stimulus\\baseface\\part{}'.format(i)\n",
    "    imgs_list = os.listdir(prepath)\n",
    "    for img in imgs_list:\n",
    "        img_split = img.split('_')\n",
    "        if 'inv.png' in img_split:\n",
    "            img_path = os.path.join(prepath,img)\n",
    "            os.remove(img_path)\n"
   ],
   "metadata": {
    "collapsed": false,
    "pycharm": {
     "name": "#%%\n",
     "is_executing": false
    }
   }
  },
  {
   "cell_type": "code",
   "execution_count": null,
   "outputs": [],
   "source": [
    "# 生成不同数量label 生成的ci\n",
    "from cnnface.analysis.generate_ci import cal_paramci,generateCI\n",
    "from cnnface.stimulus.Image_process import nor\n",
    "from PIL import Image\n",
    "import numpy as np\n",
    "from cnnface.stimulus.Image_process import img_similarity\n",
    "import seaborn as sns\n",
    "import matplotlib.pyplot as plt\n",
    "\n",
    "param_20000 = np.load(r'D:\\cnnface\\gender_analysis\\human_result\\exp\\gender\\label/param_exp.npy')\n",
    "label = np.load(r'D:\\cnnface\\gender_analysis\\human_result\\exp\\gender\\label/label_sum.npy')\n",
    "target_path = r'D:\\cnnface\\gender_analysis\\CI_analysis\\CIs_img\\CIs/ci{}.jpg'\n",
    "cis = []\n",
    "for i in range(16000):\n",
    "    if i%50 == 0 and i > 100:\n",
    "        param_part = param_20000[:i]\n",
    "        label_part = label[:i]\n",
    "        param_ci = cal_ci(param_part, label_part)\n",
    "        ci = generateCI(param_ci)\n",
    "        ci_nor = nor(ci) *255\n",
    "        cis.append(ci_nor)\n",
    "        #ci_img = Image.fromarray(ci_nor).convert('RGB')\n",
    "        #save_path = target_path.format(i)\n",
    "        #ci_img.save(save_path)\n",
    "\n",
    "#  绘制不同trials重建的CI 跟最优的CI的相关变化曲线，从而说说明多少trials 图像就较为稳定了。\n",
    "sns.set_style('darkgrid')\n",
    "\n",
    "ci_max = cis[-1]\n",
    "cors = []\n",
    "for c in cis:\n",
    "    cor = img_similarity(ci_max,c,method='pearson')\n",
    "    cors.append(cor)\n",
    "\n",
    "bins = range(1,16000)\n",
    "x = [b  for b in bins if b%50 == 0 and b > 100]\n",
    "x.append(16000)\n",
    "cors.append(1)\n",
    "fig = sns.lineplot(x,cors)\n",
    "plt.savefig('D:\\cnnface\\gender_analysis\\CI_analysis\\CIs_img\\CIs/corr16000.png',dpi=800)"
   ],
   "metadata": {
    "collapsed": false,
    "pycharm": {
     "name": "#%%\n",
     "is_executing": false
    }
   }
  },
  {
   "cell_type": "code",
   "execution_count": null,
   "outputs": [],
   "source": [
    "import numpy as np\n",
    "import pandas as pd\n",
    "import os\n",
    "from cnnface.analysis.generate_ci import generateCI, cal_ci\n",
    "import matplotlib.pyplot as plt\n",
    "\n",
    "def hum_csv2label(csvfile_path):\n",
    "    humanData = pd.read_csv(csvfile_path, skiprows=1)\n",
    "    rating = humanData['Rating']\n",
    "    label_sub = np.array([1 if r == -1 or r == -0.1 else 0 for r in rating])\n",
    "    return label_sub\n",
    "\n",
    "prepath = 'D:\\cnnface\\gender_analysis\\human_result\\exp\\gender\\only/part{}'\n",
    "param_5000 = np.load(r'D:\\cnnface\\gender_analysis\\noise_stimulus\\metadata/params_5000.npy')\n",
    "for i in range(1, 6):\n",
    "    part_path = prepath.format(i)\n",
    "    part_sub = os.listdir(part_path)\n",
    "    for sub in part_sub:\n",
    "        csv_file_path = os.path.join(part_path, sub)\n",
    "        label_sub = hum_csv2label(csv_file_path)\n",
    "        name = sub.split('_')[-1].split('.')[0]\n",
    "        np.save(r'D:\\cnnface\\gender_analysis\\human_result\\CIs\\subject/label/label_{}'.format(name),label_sub)\n",
    "        param_sub = param_5000[(i-1)*1000:i*1000]\n",
    "        param_ci = cal_ci(param_sub, label_sub)\n",
    "        np.save(r'D:\\cnnface\\gender_analysis\\human_result\\CIs\\subject\\param_ci/param_ci_{}'.format(name),param_ci)\n",
    "        ci = generateCI(param_ci)\n",
    "        np.save(r'D:\\cnnface\\gender_analysis\\human_result\\CIs\\subject\\ci/ci_{}'.format(name),ci)\n",
    "        plt.imshow(ci,cmap='jet')\n",
    "        plt.colorbar()\n",
    "        plt.axis('off')\n",
    "        plt.show()\n",
    "        plt.imsave(r'D:\\cnnface\\gender_analysis\\human_result\\CIs\\subject\\ci_img/ci_{}.jpg'.format(name),ci,cmap='jet')"
   ],
   "metadata": {
    "collapsed": false,
    "pycharm": {
     "name": "#%%\n"
    }
   }
  },
  {
   "cell_type": "code",
   "execution_count": null,
   "outputs": [],
   "source": [
    "# 叠加平均 CI\n",
    "import numpy as np\n",
    "import os\n",
    "from cnnface.stimulus.Image_process import nor\n",
    "\n",
    "prepath_ci= r'D:\\cnnface\\gender_analysis\\human_result\\CIs\\subject\\ci'\n",
    "ci_list = os.listdir(prepath_ci)\n",
    "cis = []\n",
    "for ci in ci_list:\n",
    "    ci_path = os.path.join(prepath_ci,ci)\n",
    "    ci = np.load(ci_path)\n",
    "    ci_nor = nor(ci) * 255\n",
    "    cis.append(ci)\n",
    "cis = np.array(cis)\n",
    "ci_sum = cis.sum(axis=0)"
   ],
   "metadata": {
    "collapsed": false,
    "pycharm": {
     "name": "#%%\n",
     "is_executing": false
    }
   }
  },
  {
   "cell_type": "code",
   "execution_count": null,
   "outputs": [],
   "source": [
    "import matplotlib.pyplot as plt\n",
    "\n",
    "plt.imshow(ci_sum,cmap='jet')\n",
    "plt.imsave(r'D:\\cnnface\\gender_analysis\\human_result\\CIs\\subject/ci_sum.jpg',ci_sum,cmap='jet')"
   ],
   "metadata": {
    "collapsed": false,
    "pycharm": {
     "name": "#%%\n",
     "is_executing": false
    }
   }
  },
  {
   "cell_type": "code",
   "execution_count": null,
   "outputs": [],
   "source": [
    "# 叠加平均 CI\n",
    "import numpy as np\n",
    "import os\n",
    "from cnnface.stimulus.Image_process import nor\n",
    "from cnnface.analysis.generate_ci import generateCI, cal_ci\n",
    "import matplotlib.pyplot as plt\n",
    "\n",
    "prepath_ci= r'D:\\cnnface\\gender_analysis\\human_result\\CIs\\subject\\param_ci\\param4'\n",
    "ci_list = os.listdir(prepath_ci)\n",
    "p_cis = []\n",
    "for ci in ci_list:\n",
    "    ci_path = os.path.join(prepath_ci,ci)\n",
    "    ci = np.load(ci_path)\n",
    "    ci_nor = nor(ci) * 255\n",
    "    p_cis.append(ci)\n",
    "p_cis = np.array(p_cis)\n",
    "p_ci_sum = p_cis.sum(axis=0)\n",
    "cixxx = generateCI(p_ci_sum)\n",
    "plt.imshow(cixxx,cmap='jet')"
   ],
   "metadata": {
    "collapsed": false,
    "pycharm": {
     "name": "#%%\n",
     "is_executing": false
    }
   }
  },
  {
   "cell_type": "code",
   "execution_count": null,
   "outputs": [],
   "source": [
    "# 计算两张平均脸的物理差异\n",
    "import numpy as np\n",
    "from PIL import Image\n",
    "\n",
    "female_aver = np.array(Image.open(r'D:\\cnnface\\gender_analysis\\face_template\\gray/female_average_gray_enhance.jpg')).astype('int32')\n",
    "male_aver = np.array(Image.open(r'D:\\cnnface\\gender_analysis\\face_template\\gray/male_average_gray_enhance.jpg')).astype('int32')\n",
    "\n",
    "from cnnface.stimulus.Image_process import nor,image_freq_hist_plot\n",
    "contrast = nor(female_aver - male_aver)\n",
    "contrast_img = Image.fromarray(contrast).convert('L')\n",
    "\n",
    "import matplotlib.pyplot as plt\n",
    "import seaborn as sns\n",
    "plt.imshow(contrast,cmap='jet')\n",
    "plt.axis('off')\n",
    "plt.show()\n",
    "sns.set_style('dark')\n",
    "hist_arr = contrast.reshape(-1) \n",
    "sns.distplot(hist_arr)"
   ],
   "metadata": {
    "collapsed": false,
    "pycharm": {
     "name": "#%%\n",
     "is_executing": false
    }
   }
  },
  {
   "cell_type": "code",
   "execution_count": null,
   "outputs": [],
   "source": [
    "# 整理RAF数据库图片\n",
    "import pandas as pd\n",
    "\n",
    "import os\n",
    "import shutil\n",
    "\n",
    "ori_path =r'D:\\RAF\\RAF\\basic\\Image\\aligned\\aligned'\n",
    "img_list= os.listdir(ori_path)\n",
    "\n",
    "\n",
    "for img in img_list:\n",
    "   img_path = os.path.join(ori_path,img)\n",
    "   img_strip = img.replace('_aligned','')\n",
    "\n",
    "   tar_path = r'D:\\RAF\\RAF\\basic\\Image\\aligned\\aligned/{}'.format(img_strip)\n",
    "   shutil.move(img_path,tar_path)\n",
    "\n",
    "label_file = pd.read_table(r'D:\\RAF\\RAF\\basic\\EmoLabel/list_patition_label.txt',sep=' ')\n",
    "\n",
    "happy = label_file[label_file.label==4]['picname']\n",
    "sad = label_file[label_file.label==5]['picname']\n",
    "neutral = label_file[label_file.label==7]['picname']\n",
    "\n",
    "\n",
    "prepath = r'D:\\RAF\\RAF\\basic\\Image\\aligned\\aligned'\n",
    "pretarget_path = r'D:\\RAF\\RAF'\n",
    "emotion = ['happy','sad','neutral']\n",
    "for e in emotion:\n",
    "    if os.path.exists(os.path.join(pretarget_path,e,'train')) == False:\n",
    "        os.mkdir(os.path.join(pretarget_path,e,'train'))\n",
    "    if os.path.exists(os.path.join(pretarget_path,e,'test')) == False:\n",
    "        os.mkdir(os.path.join(pretarget_path,e,'test'))\n",
    "    for picname in eval(e):\n",
    "        picpath = os.path.join(prepath, picname)\n",
    "        if 'train' in picname:\n",
    "            target_path = os.path.join(pretarget_path,e,'train',picname)\n",
    "        elif 'test' in picname:\n",
    "            target_path = os.path.join(pretarget_path,e,'test',picname)\n",
    "\n",
    "        shutil.move(picpath,target_path)"
   ],
   "metadata": {
    "collapsed": false,
    "pycharm": {
     "name": "#%%\n",
     "is_executing": false
    }
   }
  },
  {
   "cell_type": "code",
   "execution_count": 3,
   "outputs": [
    {
     "traceback": [
      "\u001b[1;31m---------------------------------------------------------------------------\u001b[0m",
      "\u001b[1;31mAttributeError\u001b[0m                            Traceback (most recent call last)",
      "\u001b[1;32mE:\\Anaconda_new\\lib\\site-packages\\seaborn\\utils.py\u001b[0m in \u001b[0;36mcategorical_order\u001b[1;34m(values, order)\u001b[0m\n\u001b[0;32m    525\u001b[0m             \u001b[1;32mtry\u001b[0m\u001b[1;33m:\u001b[0m\u001b[1;33m\u001b[0m\u001b[1;33m\u001b[0m\u001b[0m\n\u001b[1;32m--> 526\u001b[1;33m                 \u001b[0morder\u001b[0m \u001b[1;33m=\u001b[0m \u001b[0mvalues\u001b[0m\u001b[1;33m.\u001b[0m\u001b[0mcat\u001b[0m\u001b[1;33m.\u001b[0m\u001b[0mcategories\u001b[0m\u001b[1;33m\u001b[0m\u001b[1;33m\u001b[0m\u001b[0m\n\u001b[0m\u001b[0;32m    527\u001b[0m             \u001b[1;32mexcept\u001b[0m \u001b[1;33m(\u001b[0m\u001b[0mTypeError\u001b[0m\u001b[1;33m,\u001b[0m \u001b[0mAttributeError\u001b[0m\u001b[1;33m)\u001b[0m\u001b[1;33m:\u001b[0m\u001b[1;33m\u001b[0m\u001b[1;33m\u001b[0m\u001b[0m\n",
      "\u001b[1;31mAttributeError\u001b[0m: 'list' object has no attribute 'cat'",
      "\nDuring handling of the above exception, another exception occurred:\n",
      "\u001b[1;31mAttributeError\u001b[0m                            Traceback (most recent call last)",
      "\u001b[1;32mE:\\Anaconda_new\\lib\\site-packages\\seaborn\\utils.py\u001b[0m in \u001b[0;36mcategorical_order\u001b[1;34m(values, order)\u001b[0m\n\u001b[0;32m    528\u001b[0m                 \u001b[1;32mtry\u001b[0m\u001b[1;33m:\u001b[0m\u001b[1;33m\u001b[0m\u001b[1;33m\u001b[0m\u001b[0m\n\u001b[1;32m--> 529\u001b[1;33m                     \u001b[0morder\u001b[0m \u001b[1;33m=\u001b[0m \u001b[0mvalues\u001b[0m\u001b[1;33m.\u001b[0m\u001b[0munique\u001b[0m\u001b[1;33m(\u001b[0m\u001b[1;33m)\u001b[0m\u001b[1;33m\u001b[0m\u001b[1;33m\u001b[0m\u001b[0m\n\u001b[0m\u001b[0;32m    530\u001b[0m                 \u001b[1;32mexcept\u001b[0m \u001b[0mAttributeError\u001b[0m\u001b[1;33m:\u001b[0m\u001b[1;33m\u001b[0m\u001b[1;33m\u001b[0m\u001b[0m\n",
      "\u001b[1;31mAttributeError\u001b[0m: 'list' object has no attribute 'unique'",
      "\nDuring handling of the above exception, another exception occurred:\n",
      "\u001b[1;31mTypeError\u001b[0m                                 Traceback (most recent call last)",
      "\u001b[1;32m<ipython-input-3-1688e581996b>\u001b[0m in \u001b[0;36m<module>\u001b[1;34m\u001b[0m\n\u001b[0;32m     55\u001b[0m \u001b[0msns\u001b[0m\u001b[1;33m.\u001b[0m\u001b[0mset_style\u001b[0m\u001b[1;33m(\u001b[0m\u001b[1;34m'darkgrid'\u001b[0m\u001b[1;33m)\u001b[0m\u001b[1;33m\u001b[0m\u001b[1;33m\u001b[0m\u001b[0m\n\u001b[0;32m     56\u001b[0m \u001b[0mscale\u001b[0m\u001b[1;33m=\u001b[0m \u001b[1;33m[\u001b[0m\u001b[1;36m2\u001b[0m\u001b[1;33m,\u001b[0m\u001b[1;36m4\u001b[0m\u001b[1;33m,\u001b[0m\u001b[1;36m8\u001b[0m\u001b[1;33m,\u001b[0m\u001b[1;36m16\u001b[0m\u001b[1;33m,\u001b[0m\u001b[1;36m32\u001b[0m\u001b[1;33m]\u001b[0m\u001b[1;33m\u001b[0m\u001b[1;33m\u001b[0m\u001b[0m\n\u001b[1;32m---> 57\u001b[1;33m \u001b[0msns\u001b[0m\u001b[1;33m.\u001b[0m\u001b[0mbarplot\u001b[0m\u001b[1;33m(\u001b[0m\u001b[0md_cnnScale\u001b[0m\u001b[1;33m,\u001b[0m\u001b[0msimilarityScale\u001b[0m\u001b[1;33m)\u001b[0m\u001b[1;33m\u001b[0m\u001b[1;33m\u001b[0m\u001b[0m\n\u001b[0m\u001b[0;32m     58\u001b[0m \u001b[0mplt\u001b[0m\u001b[1;33m.\u001b[0m\u001b[0mshow\u001b[0m\u001b[1;33m(\u001b[0m\u001b[1;33m)\u001b[0m\u001b[1;33m\u001b[0m\u001b[1;33m\u001b[0m\u001b[0m\n",
      "\u001b[1;32mE:\\Anaconda_new\\lib\\site-packages\\seaborn\\categorical.py\u001b[0m in \u001b[0;36mbarplot\u001b[1;34m(x, y, hue, data, order, hue_order, estimator, ci, n_boot, units, orient, color, palette, saturation, errcolor, errwidth, capsize, dodge, ax, **kwargs)\u001b[0m\n\u001b[0;32m   3147\u001b[0m                           \u001b[0mestimator\u001b[0m\u001b[1;33m,\u001b[0m \u001b[0mci\u001b[0m\u001b[1;33m,\u001b[0m \u001b[0mn_boot\u001b[0m\u001b[1;33m,\u001b[0m \u001b[0munits\u001b[0m\u001b[1;33m,\u001b[0m\u001b[1;33m\u001b[0m\u001b[1;33m\u001b[0m\u001b[0m\n\u001b[0;32m   3148\u001b[0m                           \u001b[0morient\u001b[0m\u001b[1;33m,\u001b[0m \u001b[0mcolor\u001b[0m\u001b[1;33m,\u001b[0m \u001b[0mpalette\u001b[0m\u001b[1;33m,\u001b[0m \u001b[0msaturation\u001b[0m\u001b[1;33m,\u001b[0m\u001b[1;33m\u001b[0m\u001b[1;33m\u001b[0m\u001b[0m\n\u001b[1;32m-> 3149\u001b[1;33m                           errcolor, errwidth, capsize, dodge)\n\u001b[0m\u001b[0;32m   3150\u001b[0m \u001b[1;33m\u001b[0m\u001b[0m\n\u001b[0;32m   3151\u001b[0m     \u001b[1;32mif\u001b[0m \u001b[0max\u001b[0m \u001b[1;32mis\u001b[0m \u001b[1;32mNone\u001b[0m\u001b[1;33m:\u001b[0m\u001b[1;33m\u001b[0m\u001b[1;33m\u001b[0m\u001b[0m\n",
      "\u001b[1;32mE:\\Anaconda_new\\lib\\site-packages\\seaborn\\categorical.py\u001b[0m in \u001b[0;36m__init__\u001b[1;34m(self, x, y, hue, data, order, hue_order, estimator, ci, n_boot, units, orient, color, palette, saturation, errcolor, errwidth, capsize, dodge)\u001b[0m\n\u001b[0;32m   1605\u001b[0m         \u001b[1;34m\"\"\"Initialize the plotter.\"\"\"\u001b[0m\u001b[1;33m\u001b[0m\u001b[1;33m\u001b[0m\u001b[0m\n\u001b[0;32m   1606\u001b[0m         self.establish_variables(x, y, hue, data, orient,\n\u001b[1;32m-> 1607\u001b[1;33m                                  order, hue_order, units)\n\u001b[0m\u001b[0;32m   1608\u001b[0m         \u001b[0mself\u001b[0m\u001b[1;33m.\u001b[0m\u001b[0mestablish_colors\u001b[0m\u001b[1;33m(\u001b[0m\u001b[0mcolor\u001b[0m\u001b[1;33m,\u001b[0m \u001b[0mpalette\u001b[0m\u001b[1;33m,\u001b[0m \u001b[0msaturation\u001b[0m\u001b[1;33m)\u001b[0m\u001b[1;33m\u001b[0m\u001b[1;33m\u001b[0m\u001b[0m\n\u001b[0;32m   1609\u001b[0m         \u001b[0mself\u001b[0m\u001b[1;33m.\u001b[0m\u001b[0mestimate_statistic\u001b[0m\u001b[1;33m(\u001b[0m\u001b[0mestimator\u001b[0m\u001b[1;33m,\u001b[0m \u001b[0mci\u001b[0m\u001b[1;33m,\u001b[0m \u001b[0mn_boot\u001b[0m\u001b[1;33m)\u001b[0m\u001b[1;33m\u001b[0m\u001b[1;33m\u001b[0m\u001b[0m\n",
      "\u001b[1;32mE:\\Anaconda_new\\lib\\site-packages\\seaborn\\categorical.py\u001b[0m in \u001b[0;36mestablish_variables\u001b[1;34m(self, x, y, hue, data, orient, order, hue_order, units)\u001b[0m\n\u001b[0;32m    201\u001b[0m \u001b[1;33m\u001b[0m\u001b[0m\n\u001b[0;32m    202\u001b[0m                 \u001b[1;31m# Get the order on the categorical axis\u001b[0m\u001b[1;33m\u001b[0m\u001b[1;33m\u001b[0m\u001b[1;33m\u001b[0m\u001b[0m\n\u001b[1;32m--> 203\u001b[1;33m                 \u001b[0mgroup_names\u001b[0m \u001b[1;33m=\u001b[0m \u001b[0mcategorical_order\u001b[0m\u001b[1;33m(\u001b[0m\u001b[0mgroups\u001b[0m\u001b[1;33m,\u001b[0m \u001b[0morder\u001b[0m\u001b[1;33m)\u001b[0m\u001b[1;33m\u001b[0m\u001b[1;33m\u001b[0m\u001b[0m\n\u001b[0m\u001b[0;32m    204\u001b[0m \u001b[1;33m\u001b[0m\u001b[0m\n\u001b[0;32m    205\u001b[0m                 \u001b[1;31m# Group the numeric data\u001b[0m\u001b[1;33m\u001b[0m\u001b[1;33m\u001b[0m\u001b[1;33m\u001b[0m\u001b[0m\n",
      "\u001b[1;32mE:\\Anaconda_new\\lib\\site-packages\\seaborn\\utils.py\u001b[0m in \u001b[0;36mcategorical_order\u001b[1;34m(values, order)\u001b[0m\n\u001b[0;32m    529\u001b[0m                     \u001b[0morder\u001b[0m \u001b[1;33m=\u001b[0m \u001b[0mvalues\u001b[0m\u001b[1;33m.\u001b[0m\u001b[0munique\u001b[0m\u001b[1;33m(\u001b[0m\u001b[1;33m)\u001b[0m\u001b[1;33m\u001b[0m\u001b[1;33m\u001b[0m\u001b[0m\n\u001b[0;32m    530\u001b[0m                 \u001b[1;32mexcept\u001b[0m \u001b[0mAttributeError\u001b[0m\u001b[1;33m:\u001b[0m\u001b[1;33m\u001b[0m\u001b[1;33m\u001b[0m\u001b[0m\n\u001b[1;32m--> 531\u001b[1;33m                     \u001b[0morder\u001b[0m \u001b[1;33m=\u001b[0m \u001b[0mpd\u001b[0m\u001b[1;33m.\u001b[0m\u001b[0munique\u001b[0m\u001b[1;33m(\u001b[0m\u001b[0mvalues\u001b[0m\u001b[1;33m)\u001b[0m\u001b[1;33m\u001b[0m\u001b[1;33m\u001b[0m\u001b[0m\n\u001b[0m\u001b[0;32m    532\u001b[0m                 \u001b[1;32mtry\u001b[0m\u001b[1;33m:\u001b[0m\u001b[1;33m\u001b[0m\u001b[1;33m\u001b[0m\u001b[0m\n\u001b[0;32m    533\u001b[0m                     \u001b[0mnp\u001b[0m\u001b[1;33m.\u001b[0m\u001b[0masarray\u001b[0m\u001b[1;33m(\u001b[0m\u001b[0mvalues\u001b[0m\u001b[1;33m)\u001b[0m\u001b[1;33m.\u001b[0m\u001b[0mastype\u001b[0m\u001b[1;33m(\u001b[0m\u001b[0mnp\u001b[0m\u001b[1;33m.\u001b[0m\u001b[0mfloat\u001b[0m\u001b[1;33m)\u001b[0m\u001b[1;33m\u001b[0m\u001b[1;33m\u001b[0m\u001b[0m\n",
      "\u001b[1;32mE:\\Anaconda_new\\lib\\site-packages\\pandas\\core\\algorithms.py\u001b[0m in \u001b[0;36munique\u001b[1;34m(values)\u001b[0m\n\u001b[0;32m    403\u001b[0m \u001b[1;33m\u001b[0m\u001b[0m\n\u001b[0;32m    404\u001b[0m     \u001b[0mtable\u001b[0m \u001b[1;33m=\u001b[0m \u001b[0mhtable\u001b[0m\u001b[1;33m(\u001b[0m\u001b[0mlen\u001b[0m\u001b[1;33m(\u001b[0m\u001b[0mvalues\u001b[0m\u001b[1;33m)\u001b[0m\u001b[1;33m)\u001b[0m\u001b[1;33m\u001b[0m\u001b[1;33m\u001b[0m\u001b[0m\n\u001b[1;32m--> 405\u001b[1;33m     \u001b[0muniques\u001b[0m \u001b[1;33m=\u001b[0m \u001b[0mtable\u001b[0m\u001b[1;33m.\u001b[0m\u001b[0munique\u001b[0m\u001b[1;33m(\u001b[0m\u001b[0mvalues\u001b[0m\u001b[1;33m)\u001b[0m\u001b[1;33m\u001b[0m\u001b[1;33m\u001b[0m\u001b[0m\n\u001b[0m\u001b[0;32m    406\u001b[0m     \u001b[0muniques\u001b[0m \u001b[1;33m=\u001b[0m \u001b[0m_reconstruct_data\u001b[0m\u001b[1;33m(\u001b[0m\u001b[0muniques\u001b[0m\u001b[1;33m,\u001b[0m \u001b[0mdtype\u001b[0m\u001b[1;33m,\u001b[0m \u001b[0moriginal\u001b[0m\u001b[1;33m)\u001b[0m\u001b[1;33m\u001b[0m\u001b[1;33m\u001b[0m\u001b[0m\n\u001b[0;32m    407\u001b[0m     \u001b[1;32mreturn\u001b[0m \u001b[0muniques\u001b[0m\u001b[1;33m\u001b[0m\u001b[1;33m\u001b[0m\u001b[0m\n",
      "\u001b[1;32mpandas\\_libs\\hashtable_class_helper.pxi\u001b[0m in \u001b[0;36mpandas._libs.hashtable.PyObjectHashTable.unique\u001b[1;34m()\u001b[0m\n",
      "\u001b[1;32mpandas\\_libs\\hashtable_class_helper.pxi\u001b[0m in \u001b[0;36mpandas._libs.hashtable.PyObjectHashTable._unique\u001b[1;34m()\u001b[0m\n",
      "\u001b[1;31mTypeError\u001b[0m: unhashable type: 'numpy.ndarray'"
     ],
     "ename": "TypeError",
     "evalue": "unhashable type: 'numpy.ndarray'",
     "output_type": "error"
    }
   ],
   "source": [
    "# 不同频率参数d的相关\n",
    "import numpy as np\n",
    "import matplotlib.pyplot as plt\n",
    "import seaborn as sns\n",
    "from scipy import stats\n",
    "\n",
    "def cnnParamContrib2humanSum(d_cnn,d_human,threshold):\n",
    "    # calculate the sum of contribution and calculate the contribution percentage of signal parameter.\n",
    "    sumContrib_cnn = d_cnn.sum()\n",
    "    percentContrib_cnn = d_cnn / sumContrib_cnn\n",
    "\n",
    "    # sort the contribution and calculate the cumulative contribution along the decreasing with contribution.\n",
    "    paramContribSortIndex = np.argsort(-percentContrib_cnn)\n",
    "    paramContribSorted_cnn = percentContrib_cnn[np.argsort(-percentContrib_cnn)]\n",
    "    cumSumContrib_cnn = np.cumsum(paramContribSorted_cnn)\n",
    "\n",
    "    # find the parameters which occupy 80% contribution and more informative than others.\n",
    "    # return the high informative parameters Index\n",
    "    paramOver = len(np.argwhere(cumSumContrib_cnn < threshold))+1\n",
    "    paramIndexOver = paramContribSortIndex[:paramOver]\n",
    "\n",
    "    # calculate the sum of contribution and calculate the contribution percentage of signal parameter.(human)\n",
    "    sumContrib_human = d_human.sum()\n",
    "    percentContrib_human = d_human / sumContrib_human\n",
    "\n",
    "    # Calculate the contribution of high informative parameters of cnn for human using the high informative parameters Index\n",
    "    cnnParamContrib2human = percentContrib_human[paramIndexOver]\n",
    "\n",
    "    # sum up the contribution percentages of the parameters\n",
    "    cnnParamContrib2humanSum = cnnParamContrib2human.sum()\n",
    "\n",
    "    x= d_cnn[paramIndexOver]\n",
    "    y= d_human[paramIndexOver]\n",
    "    paramContriSimilarity = stats.spearmanr(x,y)\n",
    "\n",
    "    return cnnParamContrib2humanSum, paramContriSimilarity\n",
    "\n",
    "d_cnn = np.array(np.load(r'D:\\cnnface\\Data_sorted\\vggface\\param_analysis\\data/d_abs.npy'))\n",
    "d_human = np.load(r'D:\\cnnface\\gender_analysis\\human_result\\para_significant/cohensd_sum.npy')\n",
    "\n",
    "def dScale(d):\n",
    "    dScale = []\n",
    "    dScale.append(d[:12])\n",
    "    dScale.append(d[12:60])\n",
    "    dScale.append(d[60:252])\n",
    "    dScale.append(d[252:1020])\n",
    "    dScale.append(d[1020:])\n",
    "    return dScale\n",
    "\n",
    "d_cnnScale = dScale(d_cnn)\n",
    "d_humanScale = dScale(d_human)\n",
    "\n",
    "similarityScale = [cnnParamContrib2humanSum(cnn,human,1.0)[1][0] for cnn,human in zip(d_cnnScale, d_humanScale)]\n",
    "\n",
    "sns.set_style('darkgrid')\n",
    "scale= [2,4,8,16,32]\n",
    "sns.barplot(d_cnnScale,similarityScale)\n",
    "plt.show()"
   ],
   "metadata": {
    "collapsed": false,
    "pycharm": {
     "name": "#%%\n",
     "is_executing": false
    }
   }
  },
  {
   "cell_type": "code",
   "execution_count": 4,
   "outputs": [
    {
     "data": {
      "text/plain": "<Figure size 432x288 with 1 Axes>",
      "image/png": "[encoded data removed]"
     },
     "metadata": {},
     "output_type": "display_data"
    },
    {
     "data": {
      "text/plain": "<Figure size 432x288 with 1 Axes>",
      "image/png": "[encoded data removed]"
     },
     "metadata": {},
     "output_type": "display_data"
    },
    {
     "data": {
      "text/plain": "<Figure size 432x288 with 1 Axes>",
      "image/png": "[encoded data removed]"
     },
     "metadata": {},
     "output_type": "display_data"
    }
   ],
   "source": [
    "# calculate the\n",
    "import numpy as np\n",
    "import pandas as pd\n",
    "import matplotlib.pyplot as plt\n",
    "import seaborn as sns\n",
    "from scipy.stats import spearmanr\n",
    "\n",
    "\n",
    "data = pd.read_csv(r'D:\\cnnface\\gender_analysis\\Result\\similarity of parameter contribution/data.csv')\n",
    "cnn_contri = data.contribution_cnn\n",
    "human_contri = data.contribution_human\n",
    "indexOver80 = np.array(data.index[data.Over80 == 1])\n",
    "\n",
    "def data2diffscale(data,index=None):\n",
    "    dataSubScale = []\n",
    "    if type(index) is np.ndarray:\n",
    "        dataSubScale.append(data[index[index<12]])\n",
    "        dataSubScale.append(data[index[(index>=12) & (index<60)]])\n",
    "        dataSubScale.append(data[index[(index>=60) & (index<252)]])\n",
    "        dataSubScale.append(data[index[(index>=252) & (index<1020)]])\n",
    "        dataSubScale.append(data[index[(index>=1020) & (index<4092)]])\n",
    "    else:\n",
    "        dataSubScale.append(data[:12])\n",
    "        dataSubScale.append(data[12:60])\n",
    "        dataSubScale.append(data[60:252])\n",
    "        dataSubScale.append(data[252:1020])\n",
    "        dataSubScale.append(data[1020:])\n",
    "\n",
    "    return dataSubScale\n",
    "\n",
    "def index2diffscale(index):\n",
    "    indexSubScale = []\n",
    "    indexSubScale.append(index[index<12])\n",
    "    indexSubScale.append(index[(index>=12) & (index<60)])\n",
    "    indexSubScale.append(index[(index>=60) & (index<252)])\n",
    "    indexSubScale.append(index[(index>=252) & (index<1020)])\n",
    "    indexSubScale.append(index[(index>=1020) & (index<4092)])\n",
    "    return indexSubScale\n",
    "\n",
    "cnnContriFreq = data2diffscale(cnn_contri,indexOver80)\n",
    "humanContriFreq = data2diffscale(human_contri,indexOver80)\n",
    "correlation = [spearmanr(cnn,human)[0] for cnn, human in zip(cnnContriFreq,humanContriFreq)]\n",
    "sns.set_style('darkgrid')\n",
    "sns.barplot([2,4,8,16,32],correlation)\n",
    "plt.ylabel('Correlation')\n",
    "plt.show()\n",
    "\n",
    "cnnContriFreq = [con.sum() for con in cnnContriFreq]\n",
    "humanContriFreq = [con.sum() for con in humanContriFreq]\n",
    "\n",
    "scale = [2,4,8,16,32] * 2\n",
    "contribution = cnnContriFreq + humanContriFreq\n",
    "hue = ['CNN'] * 5 + ['Human'] *5\n",
    "\n",
    "sns.barplot(scale,contribution,hue=hue)\n",
    "plt.ylabel('Contribution degree')\n",
    "plt.show()\n",
    "\n",
    "change = [cnn - human for cnn, human in zip(cnnContriFreq,humanContriFreq)]\n",
    "sns.barplot([2,4,8,16,32],change)\n",
    "plt.title('Difference contribution for the high informative parameters of cnn')\n",
    "plt.ylabel('Difference')\n",
    "plt.show()"
   ],
   "metadata": {
    "collapsed": false,
    "pycharm": {
     "name": "#%%\n",
     "is_executing": false
    }
   }
  },
  {
   "cell_type": "code",
   "execution_count": 1,
   "outputs": [],
   "source": [
    "import numpy as np\n",
    "import pandas as pd\n",
    "import matplotlib.pyplot as plt\n",
    "import seaborn as sns\n",
    "from scipy.stats import spearmanr\n",
    "sns.set_style('darkgrid')\n",
    "\n",
    "d = np.load(r'D:\\cnnface\\gender_analysis\\human_result\\para_significant/cohensd_sum.npy')\n",
    "pSignIndex = np.load(r'D:\\cnnface\\gender_analysis\\human_result\\para_significant/p_signIndex.npy')\n",
    "\n",
    "dSignScale = data2diffscale(d,pSignIndex)\n",
    "numdSignScale = [len(d) for d in dSignScale]\n",
    "scale = [2,4,8,16,32]\n",
    "sns.barplot(scale,numdSignScale)\n",
    "for x, y in enumerate(numdSignScale):\n",
    "    plt.text(x, y+0.2, \"%s\" %y)\n",
    "plt.title(' The significant parameters of human ')\n",
    "plt.show()"
   ],
   "metadata": {
    "collapsed": false,
    "pycharm": {
     "name": "#%%\n",
     "is_executing": false
    }
   }
  },
  {
   "cell_type": "code",
   "execution_count": null,
   "outputs": [],
   "source": [
    "# 生成只有差异比较大的参数的ci\n",
    "import numpy as np\n",
    "from cnnface.analysis.generate_ci import generateCI\n",
    "import matplotlib.pyplot as plt\n",
    "\n",
    "diffdValue = np.load(r'D:\\cnnface\\gender_analysis\\Result\\difference/diffValue.npy')\n",
    "\n",
    "diffValueAbs = np.abs(diffdValue)\n",
    "highDiffIndex = np.argwhere(diffValueAbs > 2.4)\n",
    "\n",
    "param_ci = np.load(r'D:\\cnnface\\gender_analysis\\human_result\\CIs/param_ci_human.npy')\n",
    "highDiff_paramci = np.zeros(4092)\n",
    "highDiff_paramci[highDiffIndex] = param_ci[highDiffIndex]\n",
    "\n",
    "sclae= [2,4,8,16,32]\n"
   ],
   "metadata": {
    "collapsed": false,
    "pycharm": {
     "name": "#%%\n"
    }
   }
  },
  {
   "cell_type": "code",
   "execution_count": null,
   "outputs": [],
   "source": [
    "# 生成只有差异比较大的参数的ci\n",
    "import numpy as np\n",
    "from cnnface.analysis.generate_ci import generateCI\n",
    "import matplotlib.pyplot as plt\n",
    "\n",
    "\n",
    "diffdValue = np.load(r'D:\\cnnface\\gender_analysis\\Result\\difference/diffValue.npy')\n",
    "\n",
    "diffValueAbs = np.abs(diffdValue)\n",
    "highDiffIndex = np.argwhere(diffValueAbs > 2.4)\n",
    "\n",
    "param_ci = np.load(r'D:\\cnnface\\gender_analysis\\human_result\\CIs/param_ci_human.npy')\n",
    "highDiff_paramci = np.zeros(4092)\n",
    "highDiff_paramci[highDiffIndex] = param_ci[highDiffIndex]\n",
    "\n",
    "scale= [2,4,8,16,32]\n",
    "highDiff_ci = generateCI(param_ci,level=[2,4,8,16,32])\n",
    "for ci,s in zip(highDiff_ci,scale):\n",
    "    plt.imshow(ci,cmap='jet')\n",
    "    plt.axis('off')\n",
    "    plt.title('Scale {}'.format(s))\n",
    "    plt.show()"
   ],
   "metadata": {
    "collapsed": false,
    "pycharm": {
     "name": "#%%\n"
    }
   }
  },
  {
   "cell_type": "code",
   "execution_count": null,
   "outputs": [],
   "source": [
    "# 计算所有噪声的实际强度\n",
    "import os\n",
    "import numpy as np\n",
    "import pandas as pd\n",
    "from PIL import Image\n",
    "import seaborn as sns\n",
    "\n",
    "baseface = Image.open(r'D:\\cnnface\\gender_analysis\\face_template\\gray/baseface.jpg')\n",
    "bf_arr = np.array(baseface).astype('float32')\n",
    "\n",
    "csv_file_path = r'D:\\cnnface\\gender_analysis\\noise_stimulus/baseface_20000.csv'\n",
    "with open(csv_file_path,'r') as f:\n",
    "    picprepath = f.readline().rstrip()\n",
    "csv_file = pd.read_csv(csv_file_path,skiprows=1)\n",
    "picname = list(csv_file['stimID'])\n",
    "\n",
    "noise_all = []\n",
    "for pic in picname:\n",
    "    picpath = os.path.join(picprepath,pic)\n",
    "    picimg = np.array(Image.open(picpath)).astype('float32')\n",
    "    noise = picimg - bf_arr\n",
    "    noise_all.append(noise)\n",
    "sns.distplot(np.array(noise_all))"
   ],
   "metadata": {
    "collapsed": false,
    "pycharm": {
     "name": "#%%\n",
     "is_executing": true
    }
   }
  },
  {
   "cell_type": "code",
   "execution_count": null,
   "outputs": [],
   "source": [
    "import numpy as np\n",
    "def dice(a1,a2):\n",
    "    intersect = np.intersect1d(a1,a2)\n",
    "    son = 2 *len(intersect)\n",
    "    mother = len(a1) + len(a2)\n",
    "    diceIndex = son/mother\n",
    "    return diceIndex\n",
    "\n",
    "paraIndexOver80_human = np.load(r'D:\\cnnface\\gender_analysis\\Result\\difference/paraIndexOver80_human.npy')\n",
    "paraIndexOver80_cnn = np.load(r'D:\\cnnface\\gender_analysis\\Result\\difference/paraIndexOver80_cnn.npy')"
   ],
   "metadata": {
    "collapsed": false,
    "pycharm": {
     "name": "#%%\n"
    }
   }
  },
  {
   "cell_type": "code",
   "execution_count": null,
   "outputs": [],
   "source": [
    "def dice_coefficient(a, b):\n",
    "    \"\"\"dice coefficient 2nt/na + nb.\"\"\"\n",
    "    a_bigrams = set(a)\n",
    "    b_bigrams = set(b)\n",
    "    overlap = len(a_bigrams & b_bigrams)\n",
    "    return overlap * 2.0/(len(a_bigrams) + len(b_bigrams))"
   ],
   "metadata": {
    "collapsed": false,
    "pycharm": {
     "name": "#%%\n"
    }
   }
  },
  {
   "cell_type": "code",
   "execution_count": null,
   "outputs": [],
   "source": [
    "humanConFre = data2diffscale(d_human,paraIndexOver80_human)\n",
    "cnnConFre = data2diffscale(d_cnn,paraIndexOver80_human)\n",
    "human_correlation = [stats.spearmanr(cnn,human) for cnn, human in zip(cnnConFre,humanConFre)]"
   ],
   "metadata": {
    "collapsed": false,
    "pycharm": {
     "name": "#%%\n"
    }
   }
  },
  {
   "cell_type": "code",
   "execution_count": null,
   "outputs": [],
   "source": [],
   "metadata": {
    "collapsed": false,
    "pycharm": {
     "name": "#%%\n"
    }
   }
  }
 ],
 "metadata": {
  "kernelspec": {
   "display_name": "Python 3",
   "language": "python",
   "name": "python3"
  },
  "language_info": {
   "codemirror_mode": {
    "name": "ipython",
    "version": 3
   },
   "file_extension": ".py",
   "mimetype": "text/x-python",
   "name": "python",
   "nbconvert_exporter": "python",
   "pygments_lexer": "ipython3",
   "version": "3.7.0"
  },
  "pycharm": {
   "stem_cell": {
    "cell_type": "raw",
    "source": [],
    "metadata": {
     "collapsed": false
    }
   }
  }
 },
 "nbformat": 4,
 "nbformat_minor": 1
}