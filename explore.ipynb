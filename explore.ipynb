{
 "cells": [
  {
   "cell_type": "code",
   "execution_count": 2,
   "outputs": [],
   "source": [
    "from cnnface.stimulus.Image_process import img_similarity,nor\n",
    "from PIL import Image\n",
    "import matplotlib.pyplot as plt\n",
    "import numpy as np\n",
    "import seaborn as sns\n",
    "import os"
   ],
   "metadata": {
    "collapsed": false,
    "pycharm": {
     "name": "#%%\n",
     "is_executing": false
    }
   }
  },
  {
   "cell_type": "code",
   "execution_count": null,
   "outputs": [],
   "source": [
    "baseimg = np.array(Image.open(r'D:\\cnnface\\female_male_test_51_addnoise\\Morph_face_gray/frame001.png'))\n",
    "imgs_name = os.listdir(r'D:\\cnnface\\female_male_test_51_addnoise\\Morph_face_gray')\n",
    "imgs_path = [os.path.join(r'D:\\cnnface\\female_male_test_51_addnoise\\Morph_face_gray',name) for name in imgs_name]\n",
    "imgs = [np.array(Image.open(path)) for path in imgs_path]\n",
    "similarity = [img_similarity(baseimg, img, 'SSIM') for img in imgs]\n",
    "\n",
    "sns.set_style('darkgrid')\n",
    "bins = np.arange(0,101,1)\n",
    "sns.lineplot(x=bins,y=similarity)\n",
    "plt.show()"
   ],
   "metadata": {
    "collapsed": false,
    "pycharm": {
     "name": "#%%\n"
    }
   }
  },
  {
   "cell_type": "code",
   "execution_count": 3,
   "outputs": [
    {
     "data": {
      "text/plain": "<matplotlib.axes._subplots.AxesSubplot at 0x245c7eb63c8>"
     },
     "metadata": {},
     "output_type": "execute_result",
     "execution_count": 3
    },
    {
     "data": {
      "text/plain": "<Figure size 432x288 with 1 Axes>",
      "image/png": "[encoded data removed]"
     },
     "metadata": {},
     "output_type": "display_data"
    }
   ],
   "source": [
    "from cnnface.analysis.generate_ci import generateCI\n",
    "sns.set_style('darkgrid')\n",
    "female = np.array(Image.open(r'D:\\cnnface\\female_male_test_51_addnoise\\Face_template\\face_template/female_average_face_gray_512.jpg').convert('L'))\n",
    "male = np.array(Image.open(r'D:\\cnnface\\female_male_test_51_addnoise\\Face_template\\face_template/male_average_face_gray_512.jpg').convert('L'))\n",
    "\n",
    "bi = np.array(Image.open(r'D:\\cnnface\\female_male_test_51_addnoise\\Face_template\\face_template/frame054_gray_512.jpg')).astype('int64')\n",
    "para_ci = np.load(r'D:\\cnnface\\female_male_test_51_addnoise\\Face_template\\meta_data/paras_ci.npy')\n",
    "ci = generateCI(para_ci)\n",
    "scales = np.arange(0,100,1)\n",
    "\n",
    "bi_add = [bi+ci*scale for scale in scales]\n",
    "bi_sub = [bi-ci*scale for scale in scales]\n",
    "\n",
    "simis_add = []\n",
    "simis_sub = []\n",
    "for i,_ in enumerate(bi_add):\n",
    "    b_add = bi_add[i]\n",
    "    b_add[b_add>255] = 255\n",
    "    b_add[b_add<0] = 0\n",
    "    \n",
    "    \n",
    "    b_sub = bi_sub[i] \n",
    "    b_sub[b_sub>255] = 255\n",
    "    b_sub[b_sub<0] = 0\n",
    "    \n",
    "    addimg = Image.fromarray(nor(b_add)*200).convert('L')\n",
    "    subimg = Image.fromarray(nor(b_sub)*200).convert('L')\n",
    "    \n",
    "    addimg.save(r'D:\\cnnface\\female_male_test_51_addnoise\\Face_template\\classification_noise\\different_scale_ci/morescale//add/ci_add_%04d.jpg' %i)\n",
    "    subimg.save(r'D:\\cnnface\\female_male_test_51_addnoise\\Face_template\\classification_noise\\different_scale_ci/morescale/sub/ci_sub_%04d.jpg' %i)\n",
    "    \n",
    "    simi_add = img_similarity(female,b_add,'pearson')\n",
    "    simi_sub = img_similarity(male, b_sub, 'pearson')\n",
    "    \n",
    "    simis_add.append(simi_add)\n",
    "    simis_sub.append(simi_sub)\n",
    "    \n",
    "scales = np.tile(scales,(2,))\n",
    "simis = simis_add + simis_sub\n",
    "add  =  ['add'] * 100\n",
    "sub =  ['sub'] * 100\n",
    "hue = add + sub\n",
    "sns.lineplot(scales,simis,hue=hue)"
   ],
   "metadata": {
    "collapsed": false,
    "pycharm": {
     "name": "#%%\n",
     "is_executing": false
    }
   }
  },
  {
   "cell_type": "code",
   "execution_count": 45,
   "outputs": [
    {
     "name": "stdout",
     "text": [
      "[[13]]",
      "\n"
     ],
     "output_type": "stream"
    }
   ],
   "source": [
    "barfsas = np.array(simis_add)\n",
    "print(np.argwhere(barfsas==barfsas.max()))"
   ],
   "metadata": {
    "collapsed": false,
    "pycharm": {
     "name": "#%%\n",
     "is_executing": false
    }
   }
  },
  {
   "cell_type": "markdown",
   "source": [
    "Plot Manhattan map of distance which measure the distance of two distributions"
   ],
   "metadata": {
    "collapsed": false,
    "pycharm": {
     "name": "#%% md\n",
     "is_executing": false
    }
   }
  },
  {
   "cell_type": "code",
   "execution_count": null,
   "outputs": [],
   "source": [
    "import numpy as np\n",
    "import matplotlib.pyplot as plt\n",
    "import seaborn as sns\n",
    "\n",
    "sns.set_style('darkgrid')\n",
    "# load data \n",
    "params_5000 = np.load('D:\\cnnface/female_male_test_51_addnoise\\Face_template\\meta_data/params_5000.npy')\n",
    "label_f = np.loadtxt('D:\\cnnface/female_male_test_51_addnoise/label_sinusoid_f.txt').astype('int64')\n",
    "label_m = np.loadtxt('D:\\cnnface/female_male_test_51_addnoise/label_sinusoid_m.txt').astype('int64')\n",
    "\n",
    "# Calculate the distance of two distributions\n",
    "# distance can be t-Statistic , KL divergence, Js divergence, Wasserstein distance\n",
    "dis_sum = [] \n",
    "for i in range(4092):\n",
    "    x_5000 = params_5000[:,i]\n",
    "    x_f = x_5000[label_f]\n",
    "    x_m = x_5000[label_m]\n",
    "    \n",
    "    # dis = stats.ttest_ind(x_f,x_m)    \n",
    "    \n",
    "    d = lambda x1,x2: (x1.mean() - x2.mean()) / np.sqrt(((np.std(x1))**2 + (np.std(x2))**2)/2)\n",
    "    dis = np.abs(d(x_f,x_m))\n",
    "\n",
    "    dis_sum.append(dis)\n",
    "    \n",
    "\n",
    "dis_sum = np.array(dis_sum)\n",
    "\n",
    "scale2 = ['scale2'] * 12\n",
    "scale4 = ['scale4'] * 48\n",
    "scale8 = ['scale8'] * 192\n",
    "scale16 = ['scale16'] * 768\n",
    "scale32 = ['scale32'] * 3072\n",
    "scale = scale2 + scale4 + scale8 + scale16 + scale32\n",
    "\n",
    "\n",
    "# plot the manhattan map\n",
    "snsplt =sns.swarmplot(x=scale,y=dis_sum)\n",
    "plt.tick_params(labelsize=12)\n",
    "# plot the significant line\n",
    "bin = np.arange(0,5)\n",
    "y = np.full((5,),dis_sum[2216])\n",
    "snsplt = sns.lineplot(x=bin,y=y)\n",
    "\n",
    "fig =snsplt.get_figure()\n",
    "fig.savefig('D:\\cnnface/female_male_test_51_addnoise\\Face_template\\CI_analysis/Manhatannx_cohensd.jpg')\n",
    "plt.show()\n"
   ],
   "metadata": {
    "collapsed": false,
    "pycharm": {
     "name": "#%%\n"
    }
   }
  },
  {
   "cell_type": "code",
   "execution_count": 5,
   "outputs": [
    {
     "name": "stdout",
     "text": [
      "46.55512921059445",
      "\n",
      "-61.8623196923683",
      "\n"
     ],
     "output_type": "stream"
    }
   ],
   "source": [
    "print(ci.max()*34)\n",
    "print(ci.min()*34)"
   ],
   "metadata": {
    "collapsed": false,
    "pycharm": {
     "name": "#%%\n",
     "is_executing": false
    }
   }
  },
  {
   "cell_type": "code",
   "source": [
    "'将ci分成五个空间频率水平加到base face上，检测网络对五个水平的判断概率'"
   ],
   "metadata": {
    "collapsed": false,
    "pycharm": {
     "name": "#%% md \n"
    }
   },
   "execution_count": null,
   "outputs": []
  },
  {
   "cell_type": "code",
   "execution_count": 64,
   "outputs": [],
   "source": [
    "import numpy as np\n",
    "import matplotlib.pyplot as plt\n",
    "import seaborn as sns\n",
    "\n",
    "act = np.squeeze(np.load(r'D:\\cnnface\\female_male_test_51_addnoise\\Face_template\\classification_noise\\different_level_CI/34_act.npy'))\n",
    "label = np.squeeze(np.load(r'D:\\cnnface\\female_male_test_51_addnoise\\Face_template\\classification_noise\\different_level_CI/34_label.npy'))\n",
    "label_prob = np.squeeze(np.load(r'D:\\cnnface\\female_male_test_51_addnoise\\Face_template\\classification_noise\\different_level_CI/34_label_prob.npy'))\n",
    "\n",
    "act_add = act[:5][:,0]\n",
    "act_sub = act[5:10][:,1]\n",
    "\n",
    "label_prob_add = label_prob[:5][:,0]\n",
    "label_prob_sub = label_prob[5:10][:,1]\n"
   ],
   "metadata": {
    "collapsed": false,
    "pycharm": {
     "name": "#%%\n",
     "is_executing": false
    }
   }
  },
  {
   "cell_type": "code",
   "execution_count": 65,
   "outputs": [
    {
     "data": {
      "text/plain": "<matplotlib.axes._subplots.AxesSubplot at 0x245e3af46d8>"
     },
     "metadata": {},
     "output_type": "execute_result",
     "execution_count": 65
    },
    {
     "data": {
      "text/plain": "<Figure size 432x288 with 1 Axes>",
      "image/png": "[encoded data removed]"
     },
     "metadata": {},
     "output_type": "display_data"
    }
   ],
   "source": [
    "category = [2,4,8,16,32]\n",
    "sns.lineplot(x=category, y= act_add)\n",
    "sns.lineplot(x=category, y= act_sub)"
   ],
   "metadata": {
    "collapsed": false,
    "pycharm": {
     "name": "#%%\n",
     "is_executing": false
    }
   }
  },
  {
   "cell_type": "code",
   "execution_count": 62,
   "outputs": [
    {
     "data": {
      "text/plain": "<matplotlib.axes._subplots.AxesSubplot at 0x245e3a360f0>"
     },
     "metadata": {},
     "output_type": "execute_result",
     "execution_count": 62
    },
    {
     "data": {
      "text/plain": "<Figure size 432x288 with 1 Axes>",
      "image/png": "[encoded data removed]"
     },
     "metadata": {},
     "output_type": "display_data"
    }
   ],
   "source": [
    "category = [2,4,8,16,32]\n",
    "sns.lineplot(x=category, y= label_prob_add)\n",
    "sns.lineplot(x=category, y= label_prob_sub)"
   ],
   "metadata": {
    "collapsed": false,
    "pycharm": {
     "name": "#%%\n",
     "is_executing": false
    }
   }
  },
  {
   "cell_type": "code",
   "execution_count": 49,
   "outputs": [
    {
     "data": {
      "text/plain": "array([0.6581514, 2.0425024, 2.504952 , 3.1816106, 0.0912202],\n      dtype=float32)"
     },
     "metadata": {},
     "output_type": "execute_result",
     "execution_count": 49
    }
   ],
   "source": [
    "act_sub\n"
   ],
   "metadata": {
    "collapsed": false,
    "pycharm": {
     "name": "#%%\n",
     "is_executing": false
    }
   }
  },
  {
   "cell_type": "code",
   "execution_count": 1,
   "outputs": [
    {
     "traceback": [
      "\u001b[1;31m---------------------------------------------------------------------------\u001b[0m",
      "\u001b[1;31mOSError\u001b[0m                                   Traceback (most recent call last)",
      "\u001b[1;32m<ipython-input-1-6ea3e133765d>\u001b[0m in \u001b[0;36m<module>\u001b[1;34m\u001b[0m\n\u001b[0;32m      2\u001b[0m \u001b[1;33m\u001b[0m\u001b[0m\n\u001b[0;32m      3\u001b[0m \u001b[1;32mfrom\u001b[0m \u001b[0mpsychopy\u001b[0m \u001b[1;32mimport\u001b[0m \u001b[0mvisual\u001b[0m\u001b[1;33m,\u001b[0m \u001b[0mcore\u001b[0m\u001b[1;33m\u001b[0m\u001b[0m\n\u001b[1;32m----> 4\u001b[1;33m \u001b[0mwin\u001b[0m \u001b[1;33m=\u001b[0m \u001b[0mvisual\u001b[0m\u001b[1;33m.\u001b[0m\u001b[0mWindow\u001b[0m\u001b[1;33m(\u001b[0m\u001b[0msize\u001b[0m \u001b[1;33m=\u001b[0m \u001b[1;33m(\u001b[0m\u001b[1;36m1000\u001b[0m\u001b[1;33m,\u001b[0m\u001b[1;36m600\u001b[0m\u001b[1;33m)\u001b[0m\u001b[1;33m,\u001b[0m \u001b[0mcolor\u001b[0m \u001b[1;33m=\u001b[0m \u001b[1;33m(\u001b[0m\u001b[1;33m-\u001b[0m\u001b[1;36m1\u001b[0m\u001b[1;33m,\u001b[0m\u001b[1;33m-\u001b[0m\u001b[1;36m1\u001b[0m\u001b[1;33m,\u001b[0m\u001b[1;33m-\u001b[0m\u001b[1;36m1\u001b[0m\u001b[1;33m)\u001b[0m\u001b[1;33m,\u001b[0m \u001b[0mfullscr\u001b[0m \u001b[1;33m=\u001b[0m \u001b[1;32mFalse\u001b[0m \u001b[1;33m)\u001b[0m\u001b[1;33m\u001b[0m\u001b[0m\n\u001b[0m\u001b[0;32m      5\u001b[0m text_1 = visual.TextStim(win, text = u'Hello, Psycho!',\n\u001b[0;32m      6\u001b[0m                                \u001b[0mheight\u001b[0m \u001b[1;33m=\u001b[0m \u001b[1;36m0.1\u001b[0m\u001b[1;33m,\u001b[0m\u001b[1;33m\u001b[0m\u001b[0m\n",
      "\u001b[1;32mc:\\users\\qu199\\appdata\\local\\programs\\python\\python37\\lib\\site-packages\\psychopy\\visual\\window.py\u001b[0m in \u001b[0;36m__init__\u001b[1;34m(self, size, pos, color, colorSpace, rgb, dkl, lms, fullscr, allowGUI, monitor, bitsMode, winType, units, gamma, blendMode, screen, viewScale, viewPos, viewOri, waitBlanking, allowStencil, multiSample, numSamples, stereo, name, checkTiming, useFBO, useRetina, autoLog, gammaErrorPolicy, *args, **kwargs)\u001b[0m\n\u001b[0;32m    414\u001b[0m \u001b[1;33m\u001b[0m\u001b[0m\n\u001b[0;32m    415\u001b[0m         \u001b[1;31m# setup the context\u001b[0m\u001b[1;33m\u001b[0m\u001b[1;33m\u001b[0m\u001b[0m\n\u001b[1;32m--> 416\u001b[1;33m         \u001b[0mself\u001b[0m\u001b[1;33m.\u001b[0m\u001b[0mbackend\u001b[0m \u001b[1;33m=\u001b[0m \u001b[0mbackends\u001b[0m\u001b[1;33m.\u001b[0m\u001b[0mgetBackend\u001b[0m\u001b[1;33m(\u001b[0m\u001b[0mwin\u001b[0m\u001b[1;33m=\u001b[0m\u001b[0mself\u001b[0m\u001b[1;33m,\u001b[0m \u001b[1;33m*\u001b[0m\u001b[0margs\u001b[0m\u001b[1;33m,\u001b[0m \u001b[1;33m**\u001b[0m\u001b[0mkwargs\u001b[0m\u001b[1;33m)\u001b[0m\u001b[1;33m\u001b[0m\u001b[0m\n\u001b[0m\u001b[0;32m    417\u001b[0m         \u001b[0mself\u001b[0m\u001b[1;33m.\u001b[0m\u001b[0mwinHandle\u001b[0m \u001b[1;33m=\u001b[0m \u001b[0mself\u001b[0m\u001b[1;33m.\u001b[0m\u001b[0mbackend\u001b[0m\u001b[1;33m.\u001b[0m\u001b[0mwinHandle\u001b[0m\u001b[1;33m\u001b[0m\u001b[0m\n\u001b[0;32m    418\u001b[0m         \u001b[1;32mglobal\u001b[0m \u001b[0mGL\u001b[0m\u001b[1;33m\u001b[0m\u001b[0m\n",
      "\u001b[1;32mc:\\users\\qu199\\appdata\\local\\programs\\python\\python37\\lib\\site-packages\\psychopy\\visual\\backends\\__init__.py\u001b[0m in \u001b[0;36mgetBackend\u001b[1;34m(win, *args, **kwargs)\u001b[0m\n\u001b[0;32m     30\u001b[0m                              \u001b[1;34m\"there is no backend definition to match that \"\u001b[0m\u001b[1;33m\u001b[0m\u001b[0m\n\u001b[0;32m     31\u001b[0m                              \"winType.\".format(win.winType))\n\u001b[1;32m---> 32\u001b[1;33m     \u001b[1;32mreturn\u001b[0m \u001b[0mBackend\u001b[0m\u001b[1;33m(\u001b[0m\u001b[0mwin\u001b[0m\u001b[1;33m,\u001b[0m \u001b[1;33m*\u001b[0m\u001b[0margs\u001b[0m\u001b[1;33m,\u001b[0m \u001b[1;33m**\u001b[0m\u001b[0mkwargs\u001b[0m\u001b[1;33m)\u001b[0m\u001b[1;33m\u001b[0m\u001b[0m\n\u001b[0m\u001b[0;32m     33\u001b[0m \u001b[1;33m\u001b[0m\u001b[0m\n",
      "\u001b[1;32mc:\\users\\qu199\\appdata\\local\\programs\\python\\python37\\lib\\site-packages\\psychopy\\visual\\backends\\pygletbackend.py\u001b[0m in \u001b[0;36m__init__\u001b[1;34m(self, win, *args, **kwargs)\u001b[0m\n\u001b[0;32m    237\u001b[0m         \u001b[0mself\u001b[0m\u001b[1;33m.\u001b[0m\u001b[0m_gammaErrorPolicy\u001b[0m \u001b[1;33m=\u001b[0m \u001b[0mwin\u001b[0m\u001b[1;33m.\u001b[0m\u001b[0mgammaErrorPolicy\u001b[0m\u001b[1;33m\u001b[0m\u001b[0m\n\u001b[0;32m    238\u001b[0m         \u001b[1;32mtry\u001b[0m\u001b[1;33m:\u001b[0m\u001b[1;33m\u001b[0m\u001b[0m\n\u001b[1;32m--> 239\u001b[1;33m             \u001b[0mself\u001b[0m\u001b[1;33m.\u001b[0m\u001b[0m_origGammaRamp\u001b[0m \u001b[1;33m=\u001b[0m \u001b[0mself\u001b[0m\u001b[1;33m.\u001b[0m\u001b[0mgetGammaRamp\u001b[0m\u001b[1;33m(\u001b[0m\u001b[1;33m)\u001b[0m\u001b[1;33m\u001b[0m\u001b[0m\n\u001b[0m\u001b[0;32m    240\u001b[0m             self._rampSize = getGammaRampSize(\n\u001b[0;32m    241\u001b[0m                 \u001b[0mself\u001b[0m\u001b[1;33m.\u001b[0m\u001b[0mscreenID\u001b[0m\u001b[1;33m,\u001b[0m \u001b[0mself\u001b[0m\u001b[1;33m.\u001b[0m\u001b[0mxDisplay\u001b[0m\u001b[1;33m,\u001b[0m \u001b[0mgammaErrorPolicy\u001b[0m\u001b[1;33m=\u001b[0m\u001b[0mself\u001b[0m\u001b[1;33m.\u001b[0m\u001b[0m_gammaErrorPolicy\u001b[0m\u001b[1;33m\u001b[0m\u001b[0m\n",
      "\u001b[1;32mc:\\users\\qu199\\appdata\\local\\programs\\python\\python37\\lib\\site-packages\\psychopy\\visual\\backends\\pygletbackend.py\u001b[0m in \u001b[0;36mgetGammaRamp\u001b[1;34m(self)\u001b[0m\n\u001b[0;32m    345\u001b[0m     \u001b[1;32mdef\u001b[0m \u001b[0mgetGammaRamp\u001b[0m\u001b[1;33m(\u001b[0m\u001b[0mself\u001b[0m\u001b[1;33m)\u001b[0m\u001b[1;33m:\u001b[0m\u001b[1;33m\u001b[0m\u001b[0m\n\u001b[0;32m    346\u001b[0m         return getGammaRamp(\n\u001b[1;32m--> 347\u001b[1;33m             \u001b[0mself\u001b[0m\u001b[1;33m.\u001b[0m\u001b[0mscreenID\u001b[0m\u001b[1;33m,\u001b[0m \u001b[0mself\u001b[0m\u001b[1;33m.\u001b[0m\u001b[0mxDisplay\u001b[0m\u001b[1;33m,\u001b[0m \u001b[0mgammaErrorPolicy\u001b[0m\u001b[1;33m=\u001b[0m\u001b[0mself\u001b[0m\u001b[1;33m.\u001b[0m\u001b[0m_gammaErrorPolicy\u001b[0m\u001b[1;33m\u001b[0m\u001b[0m\n\u001b[0m\u001b[0;32m    348\u001b[0m         )\n\u001b[0;32m    349\u001b[0m \u001b[1;33m\u001b[0m\u001b[0m\n",
      "\u001b[1;32mc:\\users\\qu199\\appdata\\local\\programs\\python\\python37\\lib\\site-packages\\psychopy\\visual\\backends\\gamma.py\u001b[0m in \u001b[0;36mgetGammaRamp\u001b[1;34m(screenID, xDisplay, gammaErrorPolicy)\u001b[0m\n\u001b[0;32m    157\u001b[0m             \u001b[0mfunc\u001b[0m \u001b[1;33m=\u001b[0m \u001b[1;34m'GetDeviceGammaRamp'\u001b[0m\u001b[1;33m\u001b[0m\u001b[0m\n\u001b[0;32m    158\u001b[0m             \u001b[1;32mif\u001b[0m \u001b[0mgammaErrorPolicy\u001b[0m \u001b[1;33m==\u001b[0m \u001b[1;34m'raise'\u001b[0m\u001b[1;33m:\u001b[0m\u001b[1;33m\u001b[0m\u001b[0m\n\u001b[1;32m--> 159\u001b[1;33m                 \u001b[1;32mraise\u001b[0m \u001b[0mOSError\u001b[0m\u001b[1;33m(\u001b[0m\u001b[0mraise_msg\u001b[0m\u001b[1;33m.\u001b[0m\u001b[0mformat\u001b[0m\u001b[1;33m(\u001b[0m\u001b[0mfunc\u001b[0m\u001b[1;33m=\u001b[0m\u001b[0mfunc\u001b[0m\u001b[1;33m)\u001b[0m\u001b[1;33m)\u001b[0m\u001b[1;33m\u001b[0m\u001b[0m\n\u001b[0m\u001b[0;32m    160\u001b[0m             \u001b[1;32melif\u001b[0m \u001b[0mgammaErrorPolicy\u001b[0m \u001b[1;33m==\u001b[0m \u001b[1;34m'warn'\u001b[0m\u001b[1;33m:\u001b[0m\u001b[1;33m\u001b[0m\u001b[0m\n\u001b[0;32m    161\u001b[0m                 \u001b[0mlogging\u001b[0m\u001b[1;33m.\u001b[0m\u001b[0mwarning\u001b[0m\u001b[1;33m(\u001b[0m\u001b[0mwarn_msg\u001b[0m\u001b[1;33m.\u001b[0m\u001b[0mformat\u001b[0m\u001b[1;33m(\u001b[0m\u001b[0mfunc\u001b[0m\u001b[1;33m=\u001b[0m\u001b[0mfunc\u001b[0m\u001b[1;33m)\u001b[0m\u001b[1;33m)\u001b[0m\u001b[1;33m\u001b[0m\u001b[0m\n",
      "\u001b[1;31mOSError\u001b[0m: The hardware look-up table (GetDeviceGammaRamp) was unable to be used. If you would like to proceed without look-up table (gamma) changes, you can set the `Window` parameter `gammaErrorPolicy` to `\"warn\"` or `\"ignore\"`."
     ],
     "ename": "OSError",
     "evalue": "The hardware look-up table (GetDeviceGammaRamp) was unable to be used. If you would like to proceed without look-up table (gamma) changes, you can set the `Window` parameter `gammaErrorPolicy` to `\"warn\"` or `\"ignore\"`.",
     "output_type": "error"
    }
   ],
   "source": [],
   "metadata": {
    "collapsed": false,
    "pycharm": {
     "name": "#%%\n",
     "is_executing": false
    }
   }
  }
 ],
 "metadata": {
  "kernelspec": {
   "display_name": "Python 3",
   "language": "python",
   "name": "python3"
  },
  "language_info": {
   "codemirror_mode": {
    "name": "ipython",
    "version": 3
   },
   "file_extension": ".py",
   "mimetype": "text/x-python",
   "name": "python",
   "nbconvert_exporter": "python",
   "pygments_lexer": "ipython3",
   "version": "3.7.0"
  },
  "pycharm": {
   "stem_cell": {
    "cell_type": "raw",
    "source": [],
    "metadata": {
     "collapsed": false
    }
   }
  }
 },
 "nbformat": 4,
 "nbformat_minor": 1
}