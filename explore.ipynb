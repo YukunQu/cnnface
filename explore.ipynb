{
 "cells": [
  {
   "cell_type": "code",
   "execution_count": 2,
   "outputs": [],
   "source": [
    "from cnnface.stimulus.Image_process import img_similarity,nor\n",
    "from PIL import Image\n",
    "import matplotlib.pyplot as plt\n",
    "import numpy as np\n",
    "import seaborn as sns\n",
    "import os"
   ],
   "metadata": {
    "collapsed": false,
    "pycharm": {
     "name": "#%%\n",
     "is_executing": false
    }
   }
  },
  {
   "cell_type": "code",
   "execution_count": 1,
   "outputs": [],
   "source": [
    "# 在anconda的python3.6里运行, 记录 平均面孔的代码\n",
    "\n",
    "from facemorpher import averager,list_imgpaths\n",
    "import os\n",
    "\n",
    "prepath = r'D:\\cnnface\\gender_analysis\\train_stimulus\\male'\n",
    "imgs_path = os.listdir(prepath)\n",
    "target_prepath = r'D:\\cnnface\\gender_analysis\\face_template'\n",
    "\n",
    "for img_path in imgs_path:\n",
    "    target_path = os.path.join(target_prepath, img_path + '.png')\n",
    "    img_path = os.path.join(prepath, img_path)\n",
    "    averager(list_imgpaths(img_path), None, int(512), int(512), 'transparent', True, target_path)"
   ],
   "metadata": {
    "collapsed": false,
    "pycharm": {
     "name": "#%%\n",
     "is_executing": false
    }
   }
  },
  {
   "cell_type": "code",
   "execution_count": 38,
   "outputs": [],
   "source": [
    "# 批量移动文件\n",
    "import os\n",
    "import shutil\n",
    "\n",
    "ori_path =r'D:\\RAF\\RAF\\basic\\Image\\aligned\\aligned'\n",
    "sub_list= os.listdir(ori_path)\n",
    "\n",
    "i = 1\n",
    "for sub in sub_list:\n",
    "   sub_path = os.path.join(ori_path,sub)\n",
    "   img_list = os.listdir(sub_path)\n",
    "   for img in img_list:\n",
    "       img_path = os.path.join(sub_path,img)\n",
    "       i_str = str(i).zfill(6)\n",
    "       tar_path = 'D:\\VGGface2\\overlap_male/{}.jpg'.format(i_str)\n",
    "       i = i + 1 \n",
    "       shutil.move(img_path,tar_path)\n",
    "\n"
   ],
   "metadata": {
    "collapsed": false,
    "pycharm": {
     "name": "#%%\n",
     "is_executing": false
    }
   }
  },
  {
   "cell_type": "code",
   "execution_count": 36,
   "outputs": [],
   "source": [
    "# 计算 roc 曲线\n",
    "    \n",
    "import numpy as np\n",
    "from sklearn.metrics import roc_curve, auc\n",
    "import matplotlib.pyplot as plt\n",
    "\n",
    "actual_label = np.random.choice((0,1),(100,))\n",
    "y_score = np.ones(100)\n",
    "y_score[:50] = 0\n",
    "\n",
    "fpr, tpr, threshold = roc_curve(actual_label,y_score)\n",
    "auc_value = auc(fpr,tpr)\n",
    "print(auc_value)\n",
    "\n",
    "plt.figure()\n",
    "lw = 2\n",
    "plt.figure(figsize=(10, 10))\n",
    "plt.plot(fpr, tpr, color='darkorange',\n",
    "         lw=lw, label='ROC curve (area = %0.3f)' % auc_value)  # 假正率为横坐标，真正率为纵坐标做曲线\n",
    "plt.plot([0, 1], [0, 1], color='navy', lw=lw, linestyle='--')\n",
    "plt.xlim([0.0, 1.0])\n",
    "plt.ylim([0.0, 1.05])\n",
    "plt.xlabel('False Positive Rate')\n",
    "plt.ylabel('True Positive Rate')\n",
    "plt.title('Receiver operating characteristic example')\n",
    "plt.legend(loc=\"lower right\")\n",
    "plt.show()\n"
   ],
   "metadata": {
    "collapsed": false,
    "pycharm": {
     "name": "#%%\n",
     "is_executing": false
    }
   }
  },
  {
   "cell_type": "code",
   "execution_count": 18,
   "outputs": [],
   "source": [
    "## 批量移除rcicr生成的 inv 文件\n",
    "import os\n",
    "for i in range(9,21):\n",
    "    prepath = r'D:\\cnnface\\gender_analysis\\noise_stimulus\\baseface\\part{}'.format(i)\n",
    "    imgs_list = os.listdir(prepath)\n",
    "    for img in imgs_list:\n",
    "        img_split = img.split('_')\n",
    "        if 'inv.png' in img_split:\n",
    "            img_path = os.path.join(prepath,img)\n",
    "            os.remove(img_path)\n"
   ],
   "metadata": {
    "collapsed": false,
    "pycharm": {
     "name": "#%%\n",
     "is_executing": false
    }
   }
  },
  {
   "cell_type": "code",
   "execution_count": 7,
   "outputs": [],
   "source": [
    "# 生成不同数量label 生成的ci\n",
    "from cnnface.analysis.generate_ci import cal_ci,generateCI\n",
    "from cnnface.stimulus.Image_process import nor\n",
    "from PIL import Image\n",
    "import numpy as np\n",
    "from cnnface.stimulus.Image_process import img_similarity\n",
    "import seaborn as sns\n",
    "import matplotlib.pyplot as plt\n",
    "\n",
    "param_20000 = np.load(r'D:\\cnnface\\gender_analysis\\human_result\\exp\\gender\\label/param_exp.npy')\n",
    "label = np.load(r'D:\\cnnface\\gender_analysis\\human_result\\exp\\gender\\label/label_sum.npy')\n",
    "target_path = r'D:\\cnnface\\gender_analysis\\CI_analysis\\CIs_img\\CIs/ci{}.jpg'\n",
    "cis = []\n",
    "for i in range(16000):\n",
    "    if i%50 == 0 and i > 100:\n",
    "        param_part = param_20000[:i]\n",
    "        label_part = label[:i]\n",
    "        param_ci = cal_ci(param_part, label_part)\n",
    "        ci = generateCI(param_ci)\n",
    "        ci_nor = nor(ci) *255\n",
    "        cis.append(ci_nor)\n",
    "        #ci_img = Image.fromarray(ci_nor).convert('RGB')\n",
    "        #save_path = target_path.format(i)\n",
    "        #ci_img.save(save_path)\n",
    "\n",
    "#  绘制不同trials重建的CI 跟最优的CI的相关变化曲线，从而说说明多少trials 图像就较为稳定了。\n",
    "sns.set_style('darkgrid')\n",
    "\n",
    "ci_max = cis[-1]\n",
    "cors = []\n",
    "for c in cis:\n",
    "    cor = img_similarity(ci_max,c,method='pearson')\n",
    "    cors.append(cor)\n",
    "\n",
    "bins = range(1,16000)\n",
    "x = [b  for b in bins if b%50 == 0 and b > 100]\n",
    "x.append(16000)\n",
    "cors.append(1)\n",
    "fig = sns.lineplot(x,cors)\n",
    "plt.savefig('D:\\cnnface\\gender_analysis\\CI_analysis\\CIs_img\\CIs/corr16000.png',dpi=800)\n"
   ],
   "metadata": {
    "collapsed": false,
    "pycharm": {
     "name": "#%%\n",
     "is_executing": false
    }
   }
  },
  {
   "cell_type": "code",
   "execution_count": null,
   "outputs": [],
   "source": [
    "import numpy as np\n",
    "import pandas as pd\n",
    "import os\n",
    "from cnnface.analysis.generate_ci import generateCI, cal_ci\n",
    "import matplotlib.pyplot as plt\n",
    "\n",
    "def hum_csv2label(csvfile_path):\n",
    "    humanData = pd.read_csv(csvfile_path, skiprows=1)\n",
    "    rating = humanData['Rating']\n",
    "    label_sub = np.array([1 if r == -1 or r == -0.1 else 0 for r in rating])\n",
    "    return label_sub\n",
    "\n",
    "prepath = 'D:\\cnnface\\gender_analysis\\human_result\\exp\\gender\\only/part{}'\n",
    "param_5000 = np.load(r'D:\\cnnface\\gender_analysis\\noise_stimulus\\metadata/params_5000.npy')\n",
    "for i in range(1, 6):\n",
    "    part_path = prepath.format(i)\n",
    "    part_sub = os.listdir(part_path)\n",
    "    for sub in part_sub:\n",
    "        csv_file_path = os.path.join(part_path, sub)\n",
    "        label_sub = hum_csv2label(csv_file_path)\n",
    "        name = sub.split('_')[-1].split('.')[0]\n",
    "        np.save(r'D:\\cnnface\\gender_analysis\\human_result\\CIs\\subject/label/label_{}'.format(name),label_sub)\n",
    "        param_sub = param_5000[(i-1)*1000:i*1000]\n",
    "        param_ci = cal_ci(param_sub, label_sub)\n",
    "        np.save(r'D:\\cnnface\\gender_analysis\\human_result\\CIs\\subject\\param_ci/param_ci_{}'.format(name),param_ci)\n",
    "        ci = generateCI(param_ci)\n",
    "        np.save(r'D:\\cnnface\\gender_analysis\\human_result\\CIs\\subject\\ci/ci_{}'.format(name),ci)\n",
    "        plt.imshow(ci,cmap='jet')\n",
    "        plt.colorbar()\n",
    "        plt.axis('off')\n",
    "        plt.show()\n",
    "        plt.imsave(r'D:\\cnnface\\gender_analysis\\human_result\\CIs\\subject\\ci_img/ci_{}.jpg'.format(name),ci,cmap='jet')"
   ],
   "metadata": {
    "collapsed": false,
    "pycharm": {
     "name": "#%%\n"
    }
   }
  },
  {
   "cell_type": "code",
   "execution_count": 7,
   "outputs": [],
   "source": [
    "# 叠加平均 CI\n",
    "import numpy as np\n",
    "import os\n",
    "from cnnface.stimulus.Image_process import nor\n",
    "\n",
    "prepath_ci= r'D:\\cnnface\\gender_analysis\\human_result\\CIs\\subject\\ci'\n",
    "ci_list = os.listdir(prepath_ci)\n",
    "cis = []\n",
    "for ci in ci_list:\n",
    "    ci_path = os.path.join(prepath_ci,ci)\n",
    "    ci = np.load(ci_path)\n",
    "    ci_nor = nor(ci) * 255\n",
    "    cis.append(ci)\n",
    "cis = np.array(cis)\n",
    "ci_sum = cis.sum(axis=0)\n"
   ],
   "metadata": {
    "collapsed": false,
    "pycharm": {
     "name": "#%%\n",
     "is_executing": false
    }
   }
  },
  {
   "cell_type": "code",
   "execution_count": 10,
   "outputs": [],
   "source": [
    "import matplotlib.pyplot as plt\n",
    "\n",
    "plt.imshow(ci_sum,cmap='jet')\n",
    "plt.imsave(r'D:\\cnnface\\gender_analysis\\human_result\\CIs\\subject/ci_sum.jpg',ci_sum,cmap='jet')"
   ],
   "metadata": {
    "collapsed": false,
    "pycharm": {
     "name": "#%%\n",
     "is_executing": false
    }
   }
  },
  {
   "cell_type": "code",
   "execution_count": 6,
   "outputs": [],
   "source": [
    "# 叠加平均 CI\n",
    "import numpy as np\n",
    "import os\n",
    "from cnnface.stimulus.Image_process import nor\n",
    "from cnnface.analysis.generate_ci import generateCI, cal_ci\n",
    "import matplotlib.pyplot as plt\n",
    "\n",
    "prepath_ci= r'D:\\cnnface\\gender_analysis\\human_result\\CIs\\subject\\param_ci\\param4'\n",
    "ci_list = os.listdir(prepath_ci)\n",
    "p_cis = []\n",
    "for ci in ci_list:\n",
    "    ci_path = os.path.join(prepath_ci,ci)\n",
    "    ci = np.load(ci_path)\n",
    "    ci_nor = nor(ci) * 255\n",
    "    p_cis.append(ci)\n",
    "p_cis = np.array(p_cis)\n",
    "p_ci_sum = p_cis.sum(axis=0)\n",
    "cixxx = generateCI(p_ci_sum)\n",
    "plt.imshow(cixxx,cmap='jet')"
   ],
   "metadata": {
    "collapsed": false,
    "pycharm": {
     "name": "#%%\n",
     "is_executing": false
    }
   }
  },
  {
   "cell_type": "code",
   "execution_count": 33,
   "outputs": [],
   "source": [
    "# 计算两张平均脸的物理差异\n",
    "import numpy as np\n",
    "from PIL import Image\n",
    "\n",
    "\n",
    "female_aver = np.array(Image.open(r'D:\\cnnface\\gender_analysis\\face_template\\gray/female_average_gray_enhance.jpg')).astype('int32')\n",
    "male_aver = np.array(Image.open(r'D:\\cnnface\\gender_analysis\\face_template\\gray/male_average_gray_enhance.jpg')).astype('int32')\n",
    "\n",
    "from cnnface.stimulus.Image_process import nor,image_freq_hist_plot\n",
    "contrast = nor(female_aver - male_aver)\n",
    "contrast_img = Image.fromarray(contrast).convert('L')\n",
    "\n",
    "import matplotlib.pyplot as plt\n",
    "import seaborn as sns\n",
    "plt.imshow(contrast,cmap='jet')\n",
    "plt.axis('off')\n",
    "plt.show()\n",
    "sns.set_style('dark')\n",
    "hist_arr = contrast.reshape(-1) \n",
    "sns.distplot(hist_arr)\n"
   ],
   "metadata": {
    "collapsed": false,
    "pycharm": {
     "name": "#%%\n",
     "is_executing": false
    }
   }
  },
  {
   "cell_type": "code",
   "execution_count": 44,
   "outputs": [],
   "source": [
    "# 整理RAF数据库图片\n",
    "import pandas as pd\n",
    "\n",
    "import os\n",
    "import shutil\n",
    "\n",
    "ori_path =r'D:\\RAF\\RAF\\basic\\Image\\aligned\\aligned'\n",
    "img_list= os.listdir(ori_path)\n",
    "\n",
    "\n",
    "for img in img_list:\n",
    "   img_path = os.path.join(ori_path,img)\n",
    "   img_strip = img.replace('_aligned','')\n",
    "\n",
    "   tar_path = r'D:\\RAF\\RAF\\basic\\Image\\aligned\\aligned/{}'.format(img_strip)\n",
    "   shutil.move(img_path,tar_path)\n",
    "\n",
    "label_file = pd.read_table(r'D:\\RAF\\RAF\\basic\\EmoLabel/list_patition_label.txt',sep=' ')\n",
    "\n",
    "happy = label_file[label_file.label==4]['picname']\n",
    "sad = label_file[label_file.label==5]['picname']\n",
    "neutral = label_file[label_file.label==7]['picname']\n",
    "\n",
    "\n",
    "prepath = r'D:\\RAF\\RAF\\basic\\Image\\aligned\\aligned'\n",
    "pretarget_path = r'D:\\RAF\\RAF'\n",
    "emotion = ['happy','sad','neutral']\n",
    "for e in emotion:\n",
    "    if os.path.exists(os.path.join(pretarget_path,e,'train')) == False:\n",
    "        os.mkdir(os.path.join(pretarget_path,e,'train'))\n",
    "    if os.path.exists(os.path.join(pretarget_path,e,'test')) == False:\n",
    "        os.mkdir(os.path.join(pretarget_path,e,'test'))\n",
    "    for picname in eval(e):\n",
    "        picpath = os.path.join(prepath, picname)\n",
    "        if 'train' in picname:\n",
    "            target_path = os.path.join(pretarget_path,e,'train',picname)\n",
    "        elif 'test' in picname:\n",
    "            target_path = os.path.join(pretarget_path,e,'test',picname)\n",
    "\n",
    "        shutil.move(picpath,target_path)"
   ],
   "metadata": {
    "collapsed": false,
    "pycharm": {
     "name": "#%%\n",
     "is_executing": false
    }
   }
  },
  {
   "cell_type": "code",
   "execution_count": 15,
   "outputs": [],
   "source": [
    "# 不同频率参数d的相关\n",
    "import numpy as np\n",
    "import matplotlib.pyplot as plt\n",
    "import seaborn as sns\n",
    "from scipy import stats\n",
    "\n",
    "def cnnParamContrib2humanSum(d_cnn,d_human,threshold):\n",
    "    # calculate the sum of contribution and calculate the contribution percentage of signal parameter.\n",
    "    sumContrib_cnn = d_cnn.sum()\n",
    "    percentContrib_cnn = d_cnn / sumContrib_cnn\n",
    "\n",
    "    # sort the contribution and calculate the cumulative contribution along the decreasing with contribution.\n",
    "    paramContribSortIndex = np.argsort(-percentContrib_cnn)\n",
    "    paramContribSorted_cnn = percentContrib_cnn[np.argsort(-percentContrib_cnn)]\n",
    "    cumSumContrib_cnn = np.cumsum(paramContribSorted_cnn)\n",
    "\n",
    "    # find the parameters which occupy 80% contribution and more informative than others.\n",
    "    # return the high informative parameters Index\n",
    "    paramOver = len(np.argwhere(cumSumContrib_cnn < threshold))+1\n",
    "    paramIndexOver = paramContribSortIndex[:paramOver]\n",
    "\n",
    "    # calculate the sum of contribution and calculate the contribution percentage of signal parameter.(human)\n",
    "    sumContrib_human = d_human.sum()\n",
    "    percentContrib_human = d_human / sumContrib_human\n",
    "\n",
    "    # Calculate the contribution of high informative parameters of cnn for human using the high informative parameters Index\n",
    "    cnnParamContrib2human = percentContrib_human[paramIndexOver]\n",
    "\n",
    "    # sum up the contribution percentages of the parameters\n",
    "    cnnParamContrib2humanSum = cnnParamContrib2human.sum()\n",
    "\n",
    "    x= d_cnn[paramIndexOver]\n",
    "    y= d_human[paramIndexOver]\n",
    "    paramContriSimilarity = stats.spearmanr(x,y)\n",
    "\n",
    "    return cnnParamContrib2humanSum, paramContriSimilarity\n",
    "\n",
    "d_cnn = np.load(r'D:\\cnnface\\gender_analysis\\CI_analysis\\para_significant/cohensd_sum.npy')\n",
    "d_human = np.load(r'D:\\cnnface\\gender_analysis\\human_result\\para_significant/cohensd_sum.npy')\n",
    "\n",
    "def dScale(d):\n",
    "    dScale = []\n",
    "    dScale.append(d[:12])\n",
    "    dScale.append(d[12:60])\n",
    "    dScale.append(d[60:252])\n",
    "    dScale.append(d[252:1020])\n",
    "    dScale.append(d[1020:])\n",
    "    return dScale\n",
    "\n",
    "d_cnnScale = dScale(d_cnn)\n",
    "d_humanScale = dScale(d_human)\n",
    "\n",
    "similarityScale = [cnnParamContrib2humanSum(cnn,human,1.0)[1][0] for cnn,human in zip(d_cnnScale, d_humanScale)]\n",
    "\n",
    "sns.set_style('darkgrid')\n",
    "scale= [2,4,8,16,32]\n",
    "sns.barplot(d_cnnScale,similarityScale)\n",
    "plt.show()"
   ],
   "metadata": {
    "collapsed": false,
    "pycharm": {
     "name": "#%%\n",
     "is_executing": false
    }
   }
  },
  {
   "cell_type": "code",
   "execution_count": null,
   "outputs": [],
   "source": [],
   "metadata": {
    "collapsed": false,
    "pycharm": {
     "name": "#%%\n"
    }
   }
  }
 ],
 "metadata": {
  "kernelspec": {
   "display_name": "Python 3",
   "language": "python",
   "name": "python3"
  },
  "language_info": {
   "codemirror_mode": {
    "name": "ipython",
    "version": 3
   },
   "file_extension": ".py",
   "mimetype": "text/x-python",
   "name": "python",
   "nbconvert_exporter": "python",
   "pygments_lexer": "ipython3",
   "version": "3.7.0"
  },
  "pycharm": {
   "stem_cell": {
    "cell_type": "raw",
    "source": [],
    "metadata": {
     "collapsed": false
    }
   }
  }
 },
 "nbformat": 4,
 "nbformat_minor": 1
}