{
 "cells": [
  {
   "cell_type": "code",
   "execution_count": 3,
   "metadata": {},
   "outputs": [],
   "source": [
    "#create folder in batchs\n",
    "import os, sys\n",
    "path1 = 'D:\\VGGface2\\overlap_vggface1_2/'  #指定名称文件夹所在路径\n",
    "path2 = 'D:/cnnface/female_male_test_51_addnoise/noise_0.05/'    #新建文件夹所在路径\n",
    " \n",
    "def MkDir():\n",
    "    dirs = os.listdir(path1)\n",
    "    for dir in dirs:\n",
    "        file_name = path2 + str(dir)\n",
    "        os.mkdir(file_name)\n",
    "        \n",
    "MkDir()"
   ]
  },
  {
   "cell_type": "code",
   "execution_count": null,
   "metadata": {},
   "outputs": [],
   "source": [
    "#extract dnn_activation\n",
    "import argparse\n",
    "from torchvision import transforms\n",
    "from torch.utils.data import DataLoader\n",
    "from dnnbrain.dnn import analyzer\n",
    "from dnnbrain.dnn import io as dnn_io\n",
    "\n",
    "stim = 'D:/cnnface/female_male_test_51_addnoise/Face_template.csv'\n",
    "netloader = dnn_io.NetLoader('vggface')\n",
    "imgcropsize = netloader.img_size\n",
    "transform = transforms.Compose([transforms.Resize(imgcropsize),\n",
    "                                    transforms.ToTensor()])  \n",
    "picdataset = dnn_io.PicDataset(stim, transform=transform)\n",
    "picdataloader = DataLoader(picdataset, batch_size=8, shuffle=False)\n",
    "dnn_act = analyzer.dnn_activation(picdataloader, 'vggface', 'fc3')\n"
   ]
  },
  {
   "cell_type": "code",
   "execution_count": null,
   "metadata": {},
   "outputs": [],
   "source": [
    "#Get classification result of network.\n",
    "\n",
    "import torch\n",
    "from torchvision import transforms\n",
    "\n",
    "from dnnbrain.dnn.models import dnn_test_model\n",
    "from dnnbrain.dnn.io import PicDataset,NetLoader,DataLoader\n",
    "from cnnface.core.vgg_identity_recons import Vgg_identity\n",
    "\n",
    "vggid = Vgg_identity()\n",
    "vggid.load_state_dict(torch.load('F:/Code/pretrained_model/vgg_male_female_CrossEntro.pth'))\n",
    "\n",
    "imgcsv_path = 'D:\\cnnface/female_male_test_51_addnoise/rcicr_gabor_noise.csv'\n",
    "transform = transforms.Compose([transforms.Resize((224,224)),\n",
    "                                transforms.ToTensor()])\n",
    "PicSet = PicDataset(imgcsv_path,transform)\n",
    "Picloader = DataLoader(PicSet,batch_size=32)\n",
    "\n",
    "output = dnn_test_model(Picloader,vggid)\n",
    "\n",
    "#save label to txt file\n",
    "label = output[0]\n",
    "label_f = np.argwhere(label==0)\n",
    "label_m = np.argwhere(label==1)\n",
    "\n",
    "np.savetxt('D:/cnnface/female_male_test_51_addnoise/label_f.txt',label_f)\n",
    "np.savetxt('D:/cnnface/female_male_test_51_addnoise/label_m.txt',label_m)"
   ]
  },
  {
   "cell_type": "markdown",
   "metadata": {},
   "source": [
    "一种就是很害怕的感觉，害怕出来结果意料之外。\n",
    "一个科研人不应该害怕未知，不应该自己的结果。因为实验中与理论不符，意料之外的结果才有可能掀开了真理的帘子。\n",
    "开拓未知的领域，验证未知，解释未知，变成人类所掌握的技术和理论，让冰冷地客观世界变得亲切和善。\n",
    "与人相伴"
   ]
  },
  {
   "cell_type": "code",
   "execution_count": 2,
   "metadata": {
    "scrolled": true
   },
   "outputs": [],
   "source": [
    "# \n",
    "import numpy as np\n",
    "from dnnbrain.dnn import io\n",
    "import os\n",
    "from PIL import Image \n",
    "import sys\n",
    "sys.path.append(\"..\")\n",
    "from core.Image_processing import average_img\n",
    "\n",
    "csv_file = 'D:/cnnface/female_male_test_51_addnoise/rcicr_gabor_noise.csv'\n",
    "index_f = np.loadtxt('D:/cnnface/female_male_test_51_addnoise/label_garbo_f.txt').astype('int64')\n",
    "index_m = np.loadtxt('D:/cnnface/female_male_test_51_addnoise/label_garbo_m.txt').astype('int64')\n",
    "\n",
    "savepath_aver_f = 'D:/cnnface/female_male_test_51_addnoise/Face_template/classification_noise/female_aver_garbo.jpg'\n",
    "savepath_aver_m = 'D:/cnnface/female_male_test_51_addnoise/Face_template/classification_noise/male_aver_garbo.jpg'\n",
    "savepath_CI = 'D:/cnnface/female_male_test_51_addnoise/Face_template/classification_noise/CI_garbo.jpg'\n",
    "\n",
    "#Get pictures path from stim_csv and label txt.\n",
    "picset= io.PicDataset(csv_file)\n",
    "pre_picpath = picset.picpath\n",
    "sub_picpath = picset.picname\n",
    "\n",
    "f_picpath = [os.path.join(pre_picpath,sub_picpath[i]) for i in index_f]\n",
    "m_picpath = [os.path.join(pre_picpath,sub_picpath[i]) for i in index_m]\n",
    "\n",
    "#average all of the pictures as their label.\n",
    "aver_img_f = average_img(f_picpath)\n",
    "aver_img_m = average_img(m_picpath)\n",
    "\n",
    "#calculate the CI and superimpose image and subtract image.\n",
    "ci = aver_img_f - aver_img_m\n",
    "\n",
    "\n",
    "\n",
    "(Image.fromarray(aver_img_f.astype('uint8'))).save(savepath_aver_f,quality=95)\n",
    "(Image.fromarray(aver_img_m.astype('uint8'))).save(savepath_aver_m,quality=95)"
   ]
  },
  {
   "cell_type": "code",
   "execution_count": 15,
   "metadata": {},
   "outputs": [],
   "source": [
    "import numpy as np\n",
    "from PIL import Image\n",
    "\n",
    "usecols = list(range(513))\n",
    "usecols.remove(0)\n",
    "sinusoid = np.loadtxt('D:/cnnface/rcrci/sinusoid/cycle/sinuoid_4.csv',delimiter=',',skiprows=1,usecols=usecols)\n",
    "sinusoid = ((sinusoid - sinusoid.min())/(sinusoid.max() - sinusoid.min()))*255\n",
    "img_sinu = Image.fromarray(sinusoid)\n",
    "img_sinu.show()"
   ]
  },
  {
   "cell_type": "code",
   "execution_count": 21,
   "metadata": {
    "scrolled": false
   },
   "outputs": [],
   "source": [
    "#generateSinusoid\n",
    "from PIL import Image\n",
    "import numpy as np\n",
    "\n",
    "img_size = 512\n",
    "cycles = 2\n",
    "angle = [0,30,60,90,120,150]\n",
    "phase = [0,np.pi/2]\n",
    "\n",
    "def generateSingleSinusoid(img_size, cycles, angle, phase):\n",
    "    angle = np.radians(angle)\n",
    "    sinepath = (np.linspace(0,cycles,img_size))[:,np.newaxis].repeat(img_size,axis=1)\n",
    "    sinusoid = (sinepath*np.sin(angle) + sinepath.T*np.cos(angle)) * 2 *np.pi\n",
    "    sinusoid = np.sin(sinusoid + phase)\n",
    "    return sinusoid\n",
    "\n",
    "def generateCombinSinusoid(img_size,cycles,angle,phase):\n",
    "    sinusoid_combined = []\n",
    "    for p in phase:\n",
    "        for a in angle:\n",
    "            sinusoid = generateSingleSinusoid(img_size,cycles,a,p)\n",
    "            sinusoid = np.random.randn() * sinusoid\n",
    "            sinusoid_combined.append(sinusoid)\n",
    "    sinusoid_combined = np.array(sinusoid_combined)\n",
    "    sinusoid_combined = np.sum(sinusoid_combined,axis=0)\n",
    "    sinusoid_combined = (sinusoid_combined - sinusoid_combined.min()) / (sinusoid_combined.max() - sinusoid_combined.min())\n",
    "    sinusoid_combined = sinusoid_combined *255\n",
    "    return sinusoid_combined\n",
    "\n",
    "sinusoid_combined = generateCombinSinusoid(img_size,cycles,angle,phase)\n",
    "img_sinu = Image.fromarray(sinusoid_combined)\n",
    "img_sinu.show()"
   ]
  },
  {
   "cell_type": "code",
   "execution_count": 19,
   "metadata": {},
   "outputs": [
    {
     "name": "stdout",
     "output_type": "stream",
     "text": [
      "[[ 0.22032912  0.22834871  0.23569744 ... -1.75558407 -1.69816976\n",
      "  -1.64056921]\n",
      " [ 0.17718014  0.18622546  0.19459741 ... -1.84725798 -1.78934569\n",
      "  -1.73122761]\n",
      " [ 0.13460175  0.14466297  0.15404832 ... -1.93803851 -1.87964531\n",
      "  -1.82102691]\n",
      " ...\n",
      " [ 3.2101291   3.17408147  3.13693572 ...  1.41485602  1.43012029\n",
      "   1.44508643]\n",
      " [ 3.16467427  3.1297722   3.09376962 ...  1.32005205  1.33594848\n",
      "   1.35156671]\n",
      " [ 3.11841759  3.08467077  3.04982125 ...  1.22471651  1.24124696\n",
      "   1.25751926]]\n"
     ]
    }
   ],
   "source": [
    "print(sinusoid_combined)"
   ]
  }
 ],
 "metadata": {
  "kernelspec": {
   "display_name": "Python 3",
   "language": "python",
   "name": "python3"
  },
  "language_info": {
   "codemirror_mode": {
    "name": "ipython",
    "version": 3
   },
   "file_extension": ".py",
   "mimetype": "text/x-python",
   "name": "python",
   "nbconvert_exporter": "python",
   "pygments_lexer": "ipython3",
   "version": "3.7.0"
  }
 },
 "nbformat": 4,
 "nbformat_minor": 2
}
