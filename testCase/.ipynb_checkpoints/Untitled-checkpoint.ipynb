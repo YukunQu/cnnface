{
 "cells": [
  {
   "cell_type": "code",
   "execution_count": 1,
   "metadata": {},
   "outputs": [
    {
     "name": "stderr",
     "output_type": "stream",
     "text": [
      "b'Skipping line 1308: expected 5 fields, saw 6\\nSkipping line 1365: expected 5 fields, saw 6\\nSkipping line 1413: expected 5 fields, saw 6\\nSkipping line 1451: expected 5 fields, saw 6\\nSkipping line 1729: expected 5 fields, saw 6\\nSkipping line 1814: expected 5 fields, saw 6\\nSkipping line 1854: expected 5 fields, saw 6\\nSkipping line 2151: expected 5 fields, saw 6\\nSkipping line 2243: expected 5 fields, saw 6\\nSkipping line 2988: expected 5 fields, saw 6\\nSkipping line 3308: expected 5 fields, saw 6\\nSkipping line 4201: expected 5 fields, saw 6\\nSkipping line 4401: expected 5 fields, saw 6\\nSkipping line 4404: expected 5 fields, saw 6\\nSkipping line 4656: expected 5 fields, saw 6\\nSkipping line 5056: expected 5 fields, saw 6\\nSkipping line 7238: expected 5 fields, saw 6\\nSkipping line 7309: expected 5 fields, saw 6\\n'\n"
     ]
    }
   ],
   "source": [
    "#extract meta data of special subject id from idenity_meta.csv file\n",
    "import os\n",
    "import pandas as pd\n",
    "\n",
    "subjectid = os.listdir('D:\\cnnface/female_male_test_51_addnoise/pure')\n",
    "\n",
    "subject_meta = pd.read_csv('D:/VGGface2/meta_data/identity_meta.csv',error_bad_lines=False)\n",
    "\n",
    "for i,subid in enumerate(subjectid):\n",
    "    if i == 0:\n",
    "        subject_meta_part = subject_meta[subject_meta[\"Class_ID\"].str.contains(subid)]\n",
    "    else:\n",
    "        subject_meta_tmp = subject_meta[subject_meta[\"Class_ID\"].str.contains(subid)]\n",
    "        subject_meta_part = pd.concat([subject_meta_part,subject_meta_tmp])"
   ]
  },
  {
   "cell_type": "code",
   "execution_count": 2,
   "metadata": {},
   "outputs": [],
   "source": [
    "#Count the number of female pictures or male pictures\n",
    "subject_fe_meta_part = subject_meta_part[subject_meta_part[\" Gender\"].str.contains(' f')]\n",
    "subject_ma_meta_part = subject_meta_part[subject_meta_part[\" Gender\"].str.contains(' m')]\n",
    "\n",
    "female_id = list(subject_fe_meta_part[\"Class_ID\"])\n",
    "male_id = list(subject_ma_meta_part[\"Class_ID\"])\n",
    "\n",
    "prepath = 'D:\\cnnface/female_male_test_51_addnoise/pure'\n",
    "female_path = [prepath +'/'+ id for id in female_id]\n",
    "male_path = [prepath + '/' + id for id in male_id]\n",
    "\n",
    "pic_num = [len(os.listdir(path)) for path in female_path]\n",
    "female_pic_num = sum(pic_num)\n",
    "pic_num = [len(os.listdir(path)) for path in male_path]\n",
    "male_pic_num = sum(pic_num)"
   ]
  },
  {
   "cell_type": "code",
   "execution_count": 5,
   "metadata": {
    "scrolled": false
   },
   "outputs": [
    {
     "name": "stdout",
     "output_type": "stream",
     "text": [
      "['n001181', 'n001333', 'n001459', 'n001617', 'n002085', 'n002285', 'n002464', 'n002724', 'n003381', 'n004029', 'n004626', 'n004655', 'n005458', 'n005591', 'n006309', 'n008049', 'n008148', 'n008391']\n",
      "['n000004', 'n000006', 'n000061', 'n000081', 'n000142', 'n000154', 'n000551', 'n000598', 'n000866', 'n001479', 'n001891', 'n001967', 'n002002', 'n002332', 'n002744', 'n003177', 'n004122', 'n004535', 'n005265', 'n005653', 'n006208', 'n006815', 'n006912', 'n007311', 'n007338', 'n007353', 'n007425', 'n007873', 'n008373', 'n008455', 'n008911', 'n009017']\n",
      "{'n003346'}\n",
      "7481\n",
      "13592\n"
     ]
    }
   ],
   "source": [
    "print(female_id)\n",
    "print(male_id)\n",
    "fe = set(female_id)\n",
    "ma = set(male_id)\n",
    "sid = set(os.listdir('D:\\cnnface/female_male_test_51_addnoise/pure'))\n",
    "print(sid-fe-ma)\n",
    "\n",
    "print(female_pic_num)\n",
    "print(male_pic_num)"
   ]
  },
  {
   "cell_type": "code",
   "execution_count": 32,
   "metadata": {
    "scrolled": true
   },
   "outputs": [
    {
     "data": {
      "image/png": "[encoded data removed]",
      "text/plain": [
       "<Figure size 432x288 with 1 Axes>"
      ]
     },
     "metadata": {
      "needs_background": "light"
     },
     "output_type": "display_data"
    }
   ],
   "source": [
    "# plot the frequence of image\n",
    "import numpy as np\n",
    "import matplotlib.pyplot as plt \n",
    "from PIL import Image\n",
    "\n",
    "image = Image.open('D:/cnnface/noise_picture/moise_picture_test/noise_img_99006.jpg')\n",
    "image_array = np.array(image)\n",
    "\n",
    "image_array = image_array.reshape(-1)\n",
    "\n",
    "bins = np.linspace(-10,300,3b10)\n",
    "plt.hist(image_array,bins)\n",
    "plt.show()\n"
   ]
  },
  {
   "cell_type": "code",
   "execution_count": 15,
   "metadata": {},
   "outputs": [
    {
     "name": "stdout",
     "output_type": "stream",
     "text": [
      "uint8\n",
      "[  0  10  20  30  40  50  60  70  80  90 100]\n",
      "0\n",
      "10\n",
      "20\n",
      "30\n",
      "40\n",
      "50\n",
      "60\n",
      "70\n",
      "80\n",
      "90\n",
      "100\n"
     ]
    }
   ],
   "source": [
    "# read face pictures from folder and add noise\n",
    "\n",
    "import numpy as np\n",
    "import matplotlib.pyplot as plt \n",
    "from PIL import Image\n",
    "\n",
    "pic = Image.open('D:/cnnface/female_male_test_51_addnoise/Face_template/mft_save_rgb.jpg')\n",
    "pic_arr = np.array(pic)\n",
    "print(pic_arr.dtype)\n",
    "\n",
    "sigma_list = np.arange(0,101,10).astype('uint8')\n",
    "print(sigma_list)\n",
    "\n",
    "for i,sigma in enumerate(sigma_list):\n",
    "    sigma = sigma\n",
    "    print(sigma)\n",
    "    \n",
    "    noise_image = pic_arr + np.random.randn(pic_arr.shape[0],pic_arr.shape[1],\n",
    "                                            pic_arr.shape[2]) * sigma\n",
    "    img_noise = Image.fromarray(noise_image.astype('uint8'))\n",
    "    plt.show(img_noise)\n",
    "    img_noise.save('D:\\cnnface/female_male_test_51_addnoise\\Face_template/0001_01_noise_{}.jpg'.format(i))"
   ]
  },
  {
   "cell_type": "code",
   "execution_count": null,
   "metadata": {
    "scrolled": true
   },
   "outputs": [],
   "source": [
    "#using the skimage package to add noise\n",
    "import skimage\n",
    "import numpy as np\n",
    "from skimage import io\n",
    "import matplotlib.pyplot as plt\n",
    "from PIL import Image\n",
    "\n",
    "pic = Image.open('D:/cnnface/female_male_test_51_addnoise/Face_template/mft_rgb.png')\n",
    "pic_arr = np.array(pic)\n",
    "\n",
    "var = ((np.arange(0,101,10)).astype('uint8')/255)**2\n",
    "print(var)\n",
    "for i,v in enumerate(var):\n",
    "    noise_gs_img = skimage.util.random_noise(pic_arr,mode='gaussian',clip=False,var=v)\n",
    "    noise_gs_img = Image.fromarray((noise_gs_img*255).astype('uint8'))\n",
    "    noise_gs_img.save('D:/cnnface/female_male_test_51_addnoise/Face_template/a_{}.png'.format(i))"
   ]
  },
  {
   "cell_type": "markdown",
   "metadata": {},
   "source": [
    "一种就是很害怕的感觉，害怕出来结果意料之外。\n",
    "一个科研人不应该害怕未知，不应该自己的结果。因为实验中与理论不符，意料之外的结果才有可能掀开了真理的帘子。\n",
    "开拓未知的领域，验证未知，解释未知，变成人类所掌握的技术和理论，让冰冷地客观世界变得亲切和善。\n",
    "与人相伴"
   ]
  },
  {
   "cell_type": "code",
   "execution_count": null,
   "metadata": {},
   "outputs": [],
   "source": [
    "#using the skimage package to add noise for 51 subjects\n",
    "import numpy as np\n",
    "import os\n",
    "import skimage\n",
    "import matplotlib.pyplot as plt\n",
    "from PIL import Image\n",
    "import pandas as pd\n",
    "\n",
    "picpath = 'D:\\cnnface/female_male_test_51'\n",
    "f = pd.read_csv('D:/cnnface/female_male_test_51_addnoise/51.csv',skiprows=1)\n",
    "img_path = np.array(f['stimID'])\n",
    "\n",
    "var = [0.001,0.005,0.01,0.02]\n",
    "\n",
    "for img_p in img_path:\n",
    "    picimg = Image.open(os.path.join(picpath, img_p))\n",
    "    pic = Image.open(img_p)\n",
    "    pic_arr = np.array(pic)\n",
    "    subid = img_p.split('/')[0]\n",
    "    suffix = img_p.split('/')[1]\n",
    "    \n",
    "    for v in var:\n",
    "        noise_gs_img = skimage.util.random_noise(pic_arr,mode='gaussian',clip=False,var=v)\n",
    "        noise_gs_img = Image.fromarray((noise_gs_img*255).astype('uint8'))\n",
    "        noise_gs_img.save('D:/cnnface/female_male_test_51_addnoise/{}/{}/{}'.format(v,subid,suffix))"
   ]
  },
  {
   "cell_type": "code",
   "execution_count": 3,
   "metadata": {},
   "outputs": [],
   "source": [
    "#create folder in batchs\n",
    "import os, sys\n",
    "path1 = 'D:\\VGGface2\\overlap_vggface1_2/'  #指定名称文件夹所在路径\n",
    "path2 = 'D:/cnnface/female_male_test_51_addnoise/noise_0.05/'    #新建文件夹所在路径\n",
    " \n",
    "def MkDir():\n",
    "    dirs = os.listdir(path1)\n",
    "    for dir in dirs:\n",
    "        file_name = path2 + str(dir)\n",
    "        os.mkdir(file_name)\n",
    "        \n",
    "MkDir()"
   ]
  },
  {
   "cell_type": "code",
   "execution_count": 105,
   "metadata": {
    "collapsed": true
   },
   "outputs": [
    {
     "data": {
      "text/plain": [
       "[<matplotlib.lines.Line2D at 0x1d4c54cf780>]"
      ]
     },
     "execution_count": 105,
     "metadata": {},
     "output_type": "execute_result"
    },
    {
     "data": {
      "image/png": "[encoded data removed]",
      "text/plain": [
       "<Figure size 432x288 with 1 Axes>"
      ]
     },
     "metadata": {
      "needs_background": "light"
     },
     "output_type": "display_data"
    }
   ],
   "source": [
    "#plot power specturm density \n",
    "import numpy as np\n",
    "import matplotlib.pyplot as plt\n",
    "from PIL import Image\n",
    "\n",
    "#pic = Image.open('')\n",
    "#data = np.array(pic)\n",
    "data = np.random.randn(224) \n",
    "ps = np.abs(np.fft.fft(data))**2\n",
    "\n",
    "time_step = 1 / 50\n",
    "\n",
    "freqs = np.fft.fftfreq(data.size, time_step)\n",
    "idx = np.argsort(freqs)\n",
    "\n",
    "plt.plot(freqs[idx], ps[idx])\n",
    "\n"
   ]
  },
  {
   "cell_type": "code",
   "execution_count": null,
   "metadata": {},
   "outputs": [],
   "source": [
    "import os\n",
    "subjectid = os.listdir('D:\\cnnface/female_male_test_51_addnoise\\pure')\n",
    "female_id = ['n001181', 'n001333', 'n001459', 'n001617', 'n002085', 'n002285',\n",
    "             'n002464', 'n002724', 'n003381', 'n004029', 'n004626', 'n004655', \n",
    "             'n005458', 'n005591', 'n006309', 'n008049', 'n008148', 'n008391']\n",
    "male_id = ['n000004', 'n000006', 'n000061', 'n000081', 'n000142', 'n000154', \n",
    "           'n000551', 'n000598', 'n000866', 'n001479', 'n001891', 'n001967', \n",
    "           'n002002', 'n002332', 'n002744', 'n003177', 'n003346', 'n004122', \n",
    "           'n004535', 'n005265', 'n005653', 'n006208', 'n006815', 'n006912', \n",
    "           'n007311', 'n007338', 'n007353', 'n007425', 'n007873', 'n008373', \n",
    "           'n008455', 'n008911', 'n009017']\n",
    "\n",
    "female_list = [subjectid.index(i) for i in female_id]\n",
    "male_list = [subjectid.index(i) for i in male_id]\n",
    "\n",
    "a = output1[0]\n",
    "label = output1[1]\n",
    "\n",
    "for i,l in enumerate(label):\n",
    "    if l in female_list:\n",
    "        label[i] = 0\n",
    "    elif l in male_list:\n",
    "        label[i] = 1 \n",
    "    else:\n",
    "        print('Unvailed l')\n",
    "        \n",
    "test_acc = 1.0*np.sum(a == label)/len(a)\n"
   ]
  },
  {
   "cell_type": "code",
   "execution_count": 2,
   "metadata": {
    "scrolled": false
   },
   "outputs": [],
   "source": [
    "#Adding gassian noise to the morph_face_template\n",
    "import numpy as np\n",
    "import os\n",
    "import skimage\n",
    "from PIL import Image\n",
    "\n",
    "mft = Image.open('D:\\cnnface/female_male_test_51_addnoise\\Face_template/face_template/frame054.jpg')\n",
    "mft_arr = np.array(mft)\n",
    "var = [0.09]\n",
    "for v in var:\n",
    "    for i in range(5000):\n",
    "        mft_noise = skimage.util.random_noise(mft_arr,mode='gaussian',var=v)\n",
    "        mft_noise = Image.fromarray((mft_noise*255).astype('uint8'))\n",
    "        mft_noise.save('D:/cnnface/female_male_test_51_addnoise\\Face_template_noise/frame54_noise_0.09/frame54_noise_0.09/{}.jpg'.format(i+1),quality=95)\n",
    "        "
   ]
  },
  {
   "cell_type": "code",
   "execution_count": 6,
   "metadata": {
    "scrolled": true
   },
   "outputs": [],
   "source": [
    "#Converting the png picture to jpg\n",
    "\n",
    "import numpy as np\n",
    "from PIL import Image\n",
    "\n",
    "a = Image.open('D:\\cnnface/female_male_test_51_addnoise\\Face_template/face_template/frame054.png')\n",
    "\n",
    "a = a.convert('RGB')\n",
    "\n",
    "a.save('D:\\cnnface/female_male_test_51_addnoise\\Face_template/face_template/frame054.jpg',quality=95)"
   ]
  },
  {
   "cell_type": "code",
   "execution_count": null,
   "metadata": {},
   "outputs": [],
   "source": [
    "#save label to txt file\n",
    "import numpy as np\n",
    "label = output[0]\n",
    "label_f = np.argwhere(label==0)\n",
    "label_m = np.argwhere(label==1)\n",
    "\n",
    "np.savetxt('D:/cnnface/female_male_test_51_addnoise/label_garbo_f.txt',label_f)\n",
    "np.savetxt('D:/cnnface/female_male_test_51_addnoise/label_garbo_m.txt',label_m)"
   ]
  },
  {
   "cell_type": "code",
   "execution_count": 1,
   "metadata": {},
   "outputs": [
    {
     "name": "stdout",
     "output_type": "stream",
     "text": [
      "The activation of the 100 image has been calculated.\n",
      "The activation of the 200 image has been calculated.\n",
      "The activation of the 300 image has been calculated.\n",
      "The activation of the 400 image has been calculated.\n",
      "The activation of the 500 image has been calculated.\n",
      "The activation of the 600 image has been calculated.\n",
      "The activation of the 700 image has been calculated.\n",
      "The activation of the 800 image has been calculated.\n",
      "The activation of the 900 image has been calculated.\n",
      "The activation of all images have been calculated.\n"
     ]
    }
   ],
   "source": [
    "#extract dnn_activation\n",
    "import argparse\n",
    "from torchvision import transforms\n",
    "from torch.utils.data import DataLoader\n",
    "from dnnbrain.dnn import analyzer\n",
    "from dnnbrain.dnn import io as dnn_io\n",
    "\n",
    "stim = 'D:/cnnface/male_famale_contrast_train.csv'\n",
    "netloader = dnn_io.NetLoader('alexnet')\n",
    "imgcropsize = netloader.img_size\n",
    "transform = transforms.Compose([transforms.Resize(imgcropsize),\n",
    "                                    transforms.ToTensor()])  \n",
    "picdataset = dnn_io.PicDataset(stim, transform=transform)\n",
    "picdataloader = DataLoader(picdataset, batch_size=1, shuffle=False)\n",
    "dnn_act = analyzer.dnn_activation(picdataloader, 'alexnet', 'fc3')\n"
   ]
  },
  {
   "cell_type": "code",
   "execution_count": 12,
   "metadata": {},
   "outputs": [],
   "source": [
    "import numpy as np\n",
    "from PIL import Image\n",
    "\n",
    "diff = Image.open('D:/cnnface/female_male_test_51_addnoise/Face_template/classification_noise/diff.jpg')\n",
    "diff_arr = np.array(diff)\n",
    "\n",
    "diff_mask = np.zeros(diff_arr)\n",
    "\n",
    "diff_r = diff_mask\n",
    "diff_r = diff_mask[:,:,0] "
   ]
  },
  {
   "cell_type": "code",
   "execution_count": 2,
   "metadata": {},
   "outputs": [],
   "source": [
    "#add CI to base image import os \n",
    "import numpy as np\n",
    "from PIL import Image\n",
    "\n",
    "CI_path = 'D:/cnnface/female_male_test_51_addnoise/Face_template/classification_noise/diff_g.jpg'\n",
    "base_face_path = 'D:/cnnface/female_male_test_51_addnoise/Face_template/face_template/frame054.jpg'\n",
    "\n",
    "CI = Image.open(CI_path)\n",
    "CI = CI.convert('RGB')\n",
    "base_face = Image.open(base_face_path)\n",
    "\n",
    "CI_arr = np.array(CI)\n",
    "base_face_arr = np.array(base_face)\n",
    "\n",
    "base_add_arr = base_face_arr + CI_arr\n",
    "base_sub_arr = base_face_arr - CI_arr\n",
    "\n",
    "base_add = Image.fromarray(base_add_arr)\n",
    "base_sub = Image.fromarray(base_sub_arr)\n",
    "\n",
    "base_add.save('D:/cnnface/female_male_test_51_addnoise/Face_template/classification_noise/diff_g_add.jpg')\n",
    "base_sub.save('D:/cnnface/female_male_test_51_addnoise/Face_template/classification_noise/diff_g_sub.jpg')"
   ]
  }
 ],
 "metadata": {
  "kernelspec": {
   "display_name": "Python 3",
   "language": "python",
   "name": "python3"
  },
  "language_info": {
   "codemirror_mode": {
    "name": "ipython",
    "version": 3
   },
   "file_extension": ".py",
   "mimetype": "text/x-python",
   "name": "python",
   "nbconvert_exporter": "python",
   "pygments_lexer": "ipython3",
   "version": "3.7.0"
  }
 },
 "nbformat": 4,
 "nbformat_minor": 2
}
