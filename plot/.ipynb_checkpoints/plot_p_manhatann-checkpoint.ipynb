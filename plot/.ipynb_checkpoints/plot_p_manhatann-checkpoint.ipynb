{
 "cells": [
  {
   "cell_type": "code",
   "execution_count": null,
   "metadata": {
    "collapsed": true,
    "pycharm": {
     "is_executing": true
    }
   },
   "outputs": [],
   "source": [
    "import numpy as np\n",
    "import seaborn as sns\n",
    "import matplotlib.pyplot as plt\n",
    "\n",
    "sns.set_style('darkgrid')\n",
    "\n",
    "# set x\n",
    "scale2 = ['scale2'] * 12\n",
    "scale4 = ['scale4'] * 48\n",
    "scale8 = ['scale8'] * 192\n",
    "scale16 = ['scale16'] * 768\n",
    "scale32 = ['scale32'] * 3072\n",
    "scale = scale2 + scale4 + scale8 + scale16 + scale32\n",
    "\n",
    "#set y\n",
    "p = np.load(r'D:\\cnnface\\female_male_test_51_addnoise\\Face_template\\CI_analysis/p_sum.npy')\n",
    "y_p = -np.log(p)\n",
    "\n",
    "sns.swarmplot(x=scale,y=y_p)\n",
    "\n",
    "bins = np.arange(0,5)\n",
    "y_p_sign = -np.log(0.01/4092)\n",
    "sns.lineplot(x=bins,y=y_p_sign)"
   ]
  },
  {
   "cell_type": "code",
   "execution_count": null,
   "metadata": {
    "pycharm": {
     "is_executing": true,
     "name": "#%%\n"
    }
   },
   "outputs": [],
   "source": []
  }
 ],
 "metadata": {
  "kernelspec": {
   "display_name": "Python 3",
   "language": "python",
   "name": "python3"
  },
  "language_info": {
   "codemirror_mode": {
    "name": "ipython",
    "version": 3
   },
   "file_extension": ".py",
   "mimetype": "text/x-python",
   "name": "python",
   "nbconvert_exporter": "python",
   "pygments_lexer": "ipython3",
   "version": "3.7.0"
  },
  "pycharm": {
   "stem_cell": {
    "cell_type": "raw",
    "metadata": {
     "collapsed": false
    },
    "source": []
   }
  }
 },
 "nbformat": 4,
 "nbformat_minor": 1
}
