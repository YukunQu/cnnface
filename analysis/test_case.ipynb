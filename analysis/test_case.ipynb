{
 "cells": [
  {
   "cell_type": "markdown",
   "source": [
    "Plot the tuning curve of vgg_gender for different level morph face."
   ],
   "metadata": {
    "collapsed": false,
    "pycharm": {
     "name": "#%% md\n",
     "is_executing": false
    }
   }
  },
  {
   "cell_type": "code",
   "execution_count": 17,
   "outputs": [
    {
     "name": "stdout",
     "text": [
      "Now loading batch 1",
      "\n",
      "Now loading batch 2",
      "\n",
      "Now loading batch 3",
      "\n",
      "Now loading batch 4",
      "\n",
      "Now loading batch 5",
      "\n",
      "Now loading batch 6",
      "\n",
      "Now loading batch 7",
      "\n",
      "Now loading batch 8",
      "\n",
      "Now loading batch 9",
      "\n",
      "Now loading batch 10",
      "\n",
      "Now loading batch 11",
      "\n",
      "Testing complete in 0m 5s",
      "\n"
     ],
     "output_type": "stream"
    },
    {
     "data": {
      "text/plain": "<Figure size 432x288 with 1 Axes>",
      "image/png": "[encoded data removed]"
     },
     "metadata": {},
     "output_type": "display_data"
    }
   ],
   "source": [
    "import numpy as np\n",
    "import seaborn as sns\n",
    "\n",
    "import torch\n",
    "from torchvision import transforms\n",
    "from dnnbrain.dnn.io import PicDataset, DataLoader\n",
    "from cnnface.dnn.vgg_identity_recons import Vgg_identity\n",
    "from cnnface.dnn.dnn_output import dnn_ouput\n",
    "import matplotlib.pyplot as plt\n",
    "\n",
    "#load model and data\n",
    "vggid = Vgg_identity()\n",
    "vggid.load_state_dict(torch.load('F:/Code/pretrained_model/vgg_emotion_CrossEntro.pth'))  # load model\n",
    "\n",
    "imgcsv_path =  r'D:\\cnnface\\Emotion_analysis/morphface.csv'\n",
    "transform = transforms.Compose([transforms.Resize((224,224)),transforms.ToTensor()])\n",
    "PicSet = PicDataset(imgcsv_path, transform)\n",
    "Picloader = DataLoader(PicSet, batch_size=10,shuffle=False)\n",
    "\n",
    "# get activation\n",
    "label, label_prob, dnn_act = dnn_ouput(Picloader,vggid)\n",
    "\n",
    "sns.set_style('darkgrid')\n",
    "x = np.arange(0,101,1)\n",
    "y1 = label_prob[:,0]\n",
    "y2= label_prob[:,1]\n",
    "sns.lineplot(x=x,y=y1)\n",
    "sns.lineplot(x=x,y=y2)\n",
    "plt.show()"
   ],
   "metadata": {
    "collapsed": false,
    "pycharm": {
     "name": "#%%\n",
     "is_executing": false
    }
   }
  },
  {
   "cell_type": "code",
   "source": [
    "print(y1[30:40])\n",
    "print(y1[34])\n",
    "print(y2[34])"
   ],
   "metadata": {
    "collapsed": false,
    "pycharm": {
     "name": "#%% \n",
     "is_executing": false
    }
   },
   "execution_count": 26,
   "outputs": [
    {
     "name": "stdout",
     "text": [
      "[0.5607421  0.54359186 0.5394952  0.5290848  0.4731296  0.44334537\n 0.44220003 0.4443532  0.47579584 0.43039665]",
      "\n",
      "0.4731296",
      "\n",
      "0.52687037",
      "\n"
     ],
     "output_type": "stream"
    }
   ]
  },
  {
   "cell_type": "code",
   "execution_count": 29,
   "outputs": [],
   "source": [
    "from cnnface.stimulus.Image_processing import img2gray\n",
    "\n",
    "img2gray('D:\\cnnface\\Emotion_analysis\\morphface/frame035.png','D:\\cnnface\\Emotion_analysis/face_template/baseface.jpg')"
   ],
   "metadata": {
    "collapsed": false,
    "pycharm": {
     "name": "#%%\n",
     "is_executing": false
    }
   }
  }
 ],
 "metadata": {
  "kernelspec": {
   "display_name": "Python 3",
   "language": "python",
   "name": "python3"
  },
  "language_info": {
   "codemirror_mode": {
    "name": "ipython",
    "version": 3
   },
   "file_extension": ".py",
   "mimetype": "text/x-python",
   "name": "python",
   "nbconvert_exporter": "python",
   "pygments_lexer": "ipython3",
   "version": "3.7.0"
  },
  "pycharm": {
   "stem_cell": {
    "cell_type": "raw",
    "source": [],
    "metadata": {
     "collapsed": false
    }
   }
  }
 },
 "nbformat": 4,
 "nbformat_minor": 1
}