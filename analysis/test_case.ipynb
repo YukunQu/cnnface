{
 "cells": [
  {
   "cell_type": "markdown",
   "source": [
    "Plot the tuning curve of vgg_gender for different level morph face."
   ],
   "metadata": {
    "collapsed": false,
    "pycharm": {
     "name": "#%% md\n",
     "is_executing": false
    }
   }
  },
  {
   "cell_type": "code",
   "execution_count": 39,
   "outputs": [
    {
     "name": "stdout",
     "text": [
      "Now loading batch 1",
      "\n",
      "Testing complete in 0m 0s",
      "\n"
     ],
     "output_type": "stream"
    }
   ],
   "source": [
    "import numpy as np\n",
    "import seaborn as sns\n",
    "\n",
    "import torch\n",
    "from torchvision import transforms\n",
    "from dnnbrain.dnn.io import PicDataset, DataLoader\n",
    "from cnnface.dnn.vgg_identity_recons import Vgg_identity\n",
    "from cnnface.dnn.dnn_output import dnn_ouput\n",
    "\n",
    "#load model and data\n",
    "vggid = Vgg_identity()\n",
    "vggid.load_state_dict(torch.load('F:/Code/pretrained_model/vgg_male_female_CrossEntro.pth'))  # load model\n",
    "\n",
    "imgcsv_path =  r'D:\\cnnface\\female_male_test_51_addnoise/frame054.csv'\n",
    "transform = transforms.Compose([transforms.Resize((224,224)),transforms.ToTensor()])\n",
    "PicSet = PicDataset(imgcsv_path, transform)\n",
    "Picloader = DataLoader(PicSet, batch_size=10,shuffle=False)\n",
    "\n",
    "# get activation\n",
    "label, label_prob, dnn_act = dnn_ouput(Picloader,vggid)\n",
    "\n",
    "sns.set_style('darkgrid')\n",
    "x = np.arange(0,101,1)\n",
    "y1 = label_prob[:,0]\n",
    "y2= label_prob[:,1]\n",
    "sns.lineplot(x=x,y=y1)\n",
    "sns.lineplot(x=x,y=y2)"
   ],
   "metadata": {
    "collapsed": false,
    "pycharm": {
     "name": "#%%\n",
     "is_executing": false
    }
   }
  },
  {
   "cell_type": "code",
   "source": [
    "import numpy as np\n",
    "import shutil\n",
    "import os\n",
    "\n",
    "# create parameter folder \n",
    "p_signIndex = np.load(r'D:\\cnnface\\female_male_test_51_addnoise\\Face_template\\CI_analysis/p_signIndex.npy')\n",
    "\n",
    "for p in p_signIndex:\n",
    "    os.mkdir('D:\\cnnface/female_male_test_51_addnoise\\SingleParameter_image/{}'.format(p+1))\n",
    "\n",
    "# select the files and move to the corresponding folder\n",
    "imgs_name = os.listdir(r'D:\\cnnface\\female_male_test_51_addnoise\\temp')\n",
    "search_key = ['param{}'.format(p+1) for p in p_signIndex]\n",
    "\n",
    "for img_name in imgs_name:\n",
    "    for key,p in zip(search_key,p_signIndex):\n",
    "        img_name_tmp = img_name.split('_')[0]   \n",
    "        if img_name_tmp == key:\n",
    "            shutil.move(os.path.join('D:\\cnnface/female_male_test_51_addnoise/temp',img_name), 'D:\\cnnface/female_male_test_51_addnoise\\SingleParameter_image/{}'.format(p+1))\n",
    "    \n",
    "\n"
   ],
   "metadata": {
    "collapsed": false,
    "pycharm": {
     "name": "#%% \n",
     "is_executing": false
    }
   },
   "execution_count": 7,
   "outputs": []
  }
 ],
 "metadata": {
  "kernelspec": {
   "display_name": "Python 3",
   "language": "python",
   "name": "python3"
  },
  "language_info": {
   "codemirror_mode": {
    "name": "ipython",
    "version": 3
   },
   "file_extension": ".py",
   "mimetype": "text/x-python",
   "name": "python",
   "nbconvert_exporter": "python",
   "pygments_lexer": "ipython3",
   "version": "3.7.0"
  },
  "pycharm": {
   "stem_cell": {
    "cell_type": "raw",
    "source": [],
    "metadata": {
     "collapsed": false
    }
   }
  }
 },
 "nbformat": 4,
 "nbformat_minor": 1
}