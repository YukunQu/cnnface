{
 "cells": [
  {
   "cell_type": "markdown",
   "metadata": {
    "pycharm": {
     "name": "#%% md\n"
    }
   },
   "source": [
    "Reconstruct CI image from the parameters of CI"
   ]
  },
  {
   "cell_type": "code",
   "execution_count": 15,
   "outputs": [
    {
     "name": "stdout",
     "text": [
      "Wall time: 1.72 s\n"
     ],
     "output_type": "stream"
    }
   ],
   "source": [
    "%%time\n",
    "import numpy as np\n",
    "import seaborn as sns\n",
    "\n",
    "from PIL import Image\n",
    "paras_ci = np.load(r'D:\\cnnface\\female_male_test_51_addnoise\\Face_template\\meta_data/params_5000.npy')\n",
    "patches = np.load('D:\\cnnface/female_male_test_51_addnoise\\Face_template\\meta_data/patches.npy')\n",
    "patchIdx = np.load('D:\\cnnface/female_male_test_51_addnoise\\Face_template\\meta_data/patchidx.npy').astype('int64')\n",
    "# Reconstruct CI image from the parameters of CI\n",
    "noise= generateCI(patches,patchIdx,paras_ci)\n",
    "nor = lambda x:(x-x.min())/(x.max() - x.min()) \n",
    "noise = nor(noise)*75"
   ],
   "metadata": {
    "collapsed": false,
    "pycharm": {
     "name": "#%%\n",
     "is_executing": false
    }
   }
  },
  {
   "cell_type": "code",
   "execution_count": 18,
   "outputs": [],
   "source": [
    "noise = nor(noise)*255\n",
    "noise_img = Image.fromarray(noise).convert('RGB')\n",
    "noise_img.save(r'D:\\cnnface\\Emotion_analysis\\CI_analysis\\ci/ci_paras.jpg')"
   ],
   "metadata": {
    "collapsed": false,
    "pycharm": {
     "name": "#%%\n",
     "is_executing": false
    }
   }
  },
  {
   "cell_type": "code",
   "execution_count": null,
   "outputs": [],
   "source": [
    "base_face = np.array(Image.open(r'D:\\cnnface\\Emotion_analysis\\face_template/neutral_average_gray.jpg').convert('L')).astype('int64')\n",
    "\n",
    "\n",
    "bf_add = base_face + noise \n",
    "bf_sub = base_face - noise\n",
    "\n",
    "bf_add = nor(bf_add)*255\n",
    "bf_sub = nor(bf_sub)*255\n",
    "\n",
    "(Image.fromarray(bf_add.astype('uint8'))).save('D:\\cnnface\\Emotion_analysis\\CI_analysis\\ci/neu_bf_add.jpg',quality=95)\n",
    "(Image.fromarray(bf_sub.astype('uint8'))).save('D:\\cnnface\\Emotion_analysis\\CI_analysis\\ci/neu_bf_sub.jpg',quality=95)"
   ],
   "metadata": {
    "collapsed": false,
    "pycharm": {
     "name": "#%%\n"
    }
   }
  },
  {
   "cell_type": "code",
   "execution_count": 236,
   "metadata": {
    "pycharm": {
     "is_executing": false,
     "name": "#%%\n"
    }
   },
   "outputs": [],
   "source": [
    "# calculate the index of different frequency noise\n",
    "scales = [2**i for i in range(1,5+1)]\n",
    "NumPatch = [(scale / 2) ** 2 for scale in scales]\n",
    "NumParam = [ int(num*12) for num in NumPatch]\n",
    "print(NumParam)\n",
    "l = [sum(NumParam[:i+1]) for i in range(len(NumParam))]\n",
    "print(l)\n",
    "idx = [i*12 for i in range(6)]\n",
    "print(idx)"
   ]
  },
  {
   "cell_type": "markdown",
   "metadata": {
    "pycharm": {
     "name": "#%% md\n"
    }
   },
   "source": [
    "Slice the different level of frequency from CI"
   ]
  },
  {
   "cell_type": "code",
   "execution_count": 57,
   "metadata": {
    "pycharm": {
     "is_executing": false,
     "name": "#%%\n"
    }
   },
   "outputs": [],
   "source": [
    "# slice the different level of frequency from ci\n",
    "noise_2 = np.sum(patches[:,:,:12] * patchIdx[:,:,:12],axis=2)\n",
    "noise_4 = np.sum(patches[:,:,12:24] * patchIdx[:,:,12:24],axis=2)\n",
    "noise_8 = np.sum(patches[:,:,24:36] * patchIdx[:,:,24:36],axis=2)\n",
    "noise_16 = np.sum(patches[:,:,36:48] * patchIdx[:,:,36:48],axis=2)\n",
    "noise_32 = np.sum(patches[:,:,48:60] * patchIdx[:,:,48:60],axis=2)\n",
    "\n",
    "noise_list = [noise_2,noise_4, noise_8, noise_16,noise_32]\n",
    "nor = lambda x:(x-x.min())/(x.max() - x.min())\n",
    "for i,noi in enumerate(noise_list):\n",
    "     noise_list[i] = nor(noi) * 40"
   ]
  },
  {
   "cell_type": "code",
   "execution_count": 58,
   "metadata": {
    "pycharm": {
     "is_executing": false,
     "name": "#%%\n"
    }
   },
   "outputs": [],
   "source": [
    "# baseface add noise or subtract noise and save the different frequency CI\n",
    "from PIL import Image\n",
    "\n",
    "frame54 = Image.open('D:\\cnnface/female_male_test_51_addnoise\\Face_template/face_template/frame054_gray_512.jpg')\n",
    "baseFace = np.array(frame54).astype('float64')\n",
    "scale = [2,4,8,16,32]\n",
    "print('baseface max:{} min:{}'.format(baseFace.max(),baseFace.min()))\n",
    "\n",
    "for s,nx in zip(scale,noise_list):\n",
    "    \n",
    "    bf_add = baseFace + nx\n",
    "    bf_sub = baseFace - nx\n",
    "    print(bf_add.max())\n",
    "    print(bf_sub.min())\n",
    "\n",
    "    bf_add = nor(bf_add) *255\n",
    "    bf_sub = nor(bf_sub) *255\n",
    "    \n",
    "    bf_add_img = Image.fromarray(bf_add).convert('RGB')\n",
    "    bf_sub_img = Image.fromarray(bf_sub).convert('RGB')\n",
    "    bf_add_img.save('D:\\cnnface/female_male_test_51_addnoise\\Face_template\\classification_noise\\different_level_CI/40_CI_add_{}.jpg'.format(s))\n",
    "    bf_sub_img.save('D:\\cnnface/female_male_test_51_addnoise\\Face_template\\classification_noise\\different_level_CI/40_CI_sub_{}.jpg'.format(s))\n"
   ]
  },
  {
   "cell_type": "markdown",
   "metadata": {},
   "source": [
    "#### Multi variable linear regression model for each of the 4092 components"
   ]
  },
  {
   "cell_type": "code",
   "execution_count": 33,
   "metadata": {
    "pycharm": {
     "is_executing": false,
     "name": "#%%\n"
    }
   },
   "outputs": [],
   "source": [
    "import numpy as np\n",
    "import statsmodels.api as sm\n",
    "\n",
    "x = np.load('D:\\cnnface/female_male_test_51_addnoise\\Face_template\\meta_data/params_5000.npy')\n",
    "\n",
    "label_f = np.loadtxt('D:\\cnnface/female_male_test_51_addnoise/label_sinusoid_f.txt').astype('int64')\n",
    "label_m = np.loadtxt('D:\\cnnface/female_male_test_51_addnoise/label_sinusoid_m.txt').astype('int64')\n",
    "\n",
    "y = np.arange(5000)\n",
    "y[label_f] = int(0)\n",
    "y[label_m] = int(1)\n",
    "\n",
    "rm = sm.OLS(endog=y,exog=x[:,12:60]).fit()\n",
    "print(rm.summary())\n",
    "print('pvalues <0.05:',np.argwhere(np.array(rm.pvalues)<0.05))"
   ]
  },
  {
   "cell_type": "markdown",
   "metadata": {
    "pycharm": {
     "name": "#%% md\n"
    }
   },
   "source": [
    "Independent t test for 4092 parameters"
   ]
  },
  {
   "cell_type": "code",
   "execution_count": 4,
   "metadata": {
    "pycharm": {
     "is_executing": false,
     "name": "#%%\n"
    }
   },
   "outputs": [],
   "source": [
    "import numpy as np\n",
    "from scipy import stats\n",
    " \n",
    "params_5000 = np.load('D:\\cnnface/female_male_test_51_addnoise\\Face_template\\meta_data/params_5000.npy')\n",
    "\n",
    "label_f = np.loadtxt('D:\\cnnface/female_male_test_51_addnoise/label_sinusoid_f.txt').astype('int64')\n",
    "label_m = np.loadtxt('D:\\cnnface/female_male_test_51_addnoise/label_sinusoid_m.txt').astype('int64')\n",
    "\n",
    "\n",
    "s_sum = []\n",
    "p_sum= [] \n",
    "for i in range(4092):\n",
    "    x_5000 = params_5000[:,i]\n",
    "    x_f = x_5000[label_f]\n",
    "    x_m = x_5000[label_m]\n",
    "    \n",
    "    s,p = stats.ttest_ind(x_f,x_m)\n",
    "    s,p = stats.f_oneway(x_f,x_m)\n",
    "    s_sum.append(s)\n",
    "    p_sum.append(p)"
   ]
  },
  {
   "cell_type": "code",
   "execution_count": 13,
   "metadata": {
    "pycharm": {
     "is_executing": false,
     "name": "#%%\n"
    }
   },
   "outputs": [],
   "source": [
    "p_sum = np.array(p_sum)\n",
    "s_sum = np.array(s_sum)\n",
    "p_sum_sign = p_sum[p_sum<(0.01/4092)]\n",
    "p_signIndex = np.squeeze(np.argwhere(p_sum<(0.01/4092)))\n",
    "p_minIndex = np.argwhere(p_sum==p_sum.min())\n",
    "\n",
    "\n",
    "np.save('D:\\cnnface/female_male_test_51_addnoise\\Face_template\\CI_analysis/p_signIndex_0.01',p_signIndex)\n",
    "# np.save('D:\\cnnface/female_male_test_51_addnoise\\Face_template\\CI_analysis/p_sum',p_sum)\n",
    "# np.save('D:\\cnnface/female_male_test_51_addnoise\\Face_template\\CI_analysis/s_sum',s_sum)"
   ]
  },
  {
   "cell_type": "code",
   "execution_count": 35,
   "outputs": [
    {
     "data": {
      "text/plain": "array([[2216]], dtype=int64)"
     },
     "metadata": {},
     "output_type": "execute_result",
     "execution_count": 35
    }
   ],
   "source": [
    "np.argwhere(p_sum==p_sum[p_signIndex].max())"
   ],
   "metadata": {
    "collapsed": false,
    "pycharm": {
     "name": "#%%\n",
     "is_executing": false
    }
   }
  },
  {
   "cell_type": "code",
   "execution_count": 269,
   "metadata": {
    "pycharm": {
     "is_executing": false,
     "name": "#%% \n"
    }
   },
   "outputs": [],
   "source": [
    "import matplotlib.pyplot as plt\n",
    "x_5000 = params_5000[:,595]\n",
    "x_f = x_5000[label_f]\n",
    "x_m = x_5000[label_m]\n",
    "\n",
    "bins = np.arange(-1,1,2/10) \n",
    "plt.hist(x_f,bins,normed=True,alpha = 0.9)\n",
    "plt.hist(x_m,bins,normed=True,alpha = 0.4)\n",
    "plt.savefig('D:\\cnnface/female_male_test_51_addnoise\\Face_template\\meta_data/x_56_scatter.png')\n"
   ]
  },
  {
   "cell_type": "code",
   "execution_count": 270,
   "metadata": {
    "pycharm": {
     "is_executing": false,
     "name": "#%%\n"
    }
   },
   "outputs": [],
   "source": [
    "ss = s_sum[p_signIndex]\n",
    "ss_pos = ss[ss>0]\n",
    "ss_neg = ss[ss<0]\n",
    "\n",
    "bin = np.arange(ss_neg.min(),ss_pos.max(),2/5)\n",
    "sns.distplot(ss_pos,bin)\n",
    "sns.distplot(ss_neg,bin)\n",
    "#plt.savefig('D:\\cnnface/female_male_test_51_addnoise\\Face_template\\CI_analysis/s_sign_hist.jpg')\n"
   ]
  },
  {
   "cell_type": "code",
   "execution_count": 254,
   "metadata": {
    "pycharm": {
     "is_executing": false,
     "name": "#%%\n"
    }
   },
   "outputs": [],
   "source": [
    "scale2_pSign = p_signIndex[p_signIndex<12 ]\n",
    "scale4_pSign = p_signIndex[(p_signIndex>=12) & (p_signIndex<60)]\n",
    "scale8_pSign = p_signIndex[(p_signIndex>=60) & (p_signIndex<252)]\n",
    "scale16_pSign = p_signIndex[(p_signIndex>=252) & (p_signIndex<1020)]\n",
    "scale32_pSign = p_signIndex[(p_signIndex>=1020) & (p_signIndex<4092)]\n",
    "\n",
    "pSign_num = [len(scale2_pSign),len(scale4_pSign),len(scale8_pSign),len(scale16_pSign),\n",
    "             len(scale32_pSign)]\n",
    "print(pSign_num)\n",
    "plt.hist()\n",
    "pSign_prop = [len(scale2_pSign)/12,len(scale4_pSign)/48,len(scale8_pSign)/192,\n",
    "              len(scale16_pSign)/768,len(scale32_pSign)/3072]\n",
    "print(pSign_prop)"
   ]
  },
  {
   "cell_type": "code",
   "execution_count": 294,
   "metadata": {
    "pycharm": {
     "is_executing": false,
     "name": "#%%\n"
    }
   },
   "outputs": [],
   "source": [
    "p_posIndex = np.intersect1d(p_signIndex,np.argwhere(s_sum>0))\n",
    "p_negIndex = np.intersect1d(p_signIndex,np.argwhere(s_sum<0))\n",
    "np.save('D:\\cnnface/female_male_test_51_addnoise\\Face_template\\CI_analysis/p_posIndex',p_posIndex)\n",
    "np.save('D:\\cnnface/female_male_test_51_addnoise\\Face_template\\CI_analysis/p_negIndex',p_negIndex)"
   ]
  },
  {
   "cell_type": "code",
   "execution_count": 296,
   "metadata": {
    "pycharm": {
     "is_executing": false,
     "name": "#%% reconstruct\n"
    }
   },
   "outputs": [],
   "source": [
    "para_sign = np.zeros(4092)\n",
    "para_sign[p_posIndex.astype('int64')] = 1\n",
    "para_sign[p_posIndex.astype('int64')] = -1\n",
    "\n",
    "#noise generate \n",
    "patches = np.load('D:\\cnnface/female_male_test_51_addnoise\\Face_template\\meta_data/patches.npy')\n",
    "patchIdx = np.load('D:\\cnnface/female_male_test_51_addnoise\\Face_template\\meta_data/patchidx.npy')\n",
    "for i in range(4092):\n",
    "    if i%100 == 0:print(i)\n",
    "    patchIdx[patchIdx==i+1] = para_sign[i]\n",
    "noise = np.sum(patches * patchIdx,axis=2)\n",
    "print(noise.shape)\n",
    "nor = lambda x:(x-x.min())/(x.max() - x.min()) \n",
    "noise = nor(noise) *80\n",
    "from PIL import Image\n",
    "noise_img = Image.fromarray(noise)\n",
    "noise_img.show()\n",
    "\n",
    "# base face add CI\n",
    "\n",
    "# "
   ]
  },
  {
   "cell_type": "code",
   "execution_count": 305,
   "metadata": {
    "pycharm": {
     "is_executing": false,
     "name": "#%%\n"
    }
   },
   "outputs": [],
   "source": [
    "nor = lambda x:(x-x.min())/(x.max() - x.min()) \n",
    "noise = nor(noise) *43\n",
    "\n",
    "frame54 = Image.open('D:\\cnnface/female_male_test_51_addnoise\\Face_template/face_template/frame054_gray_512.jpg')\n",
    "baseFace = np.array(frame54).astype('float64')\n",
    "\n",
    "bf_add = baseFace + noise\n",
    "bf_sub = baseFace - noise\n",
    "print(bf_add.max())\n",
    "print(bf_sub.min())\n",
    "\n",
    "bf_add = nor(bf_add) *255\n",
    "bf_sub = nor(bf_sub) *255\n",
    "\n",
    "bf_add_img = Image.fromarray(bf_add).convert('RGB')\n",
    "bf_sub_img = Image.fromarray(bf_sub).convert('RGB')\n",
    "bf_add_img.save('D:\\cnnface/female_male_test_51_addnoise\\Face_template\\classification_noise\\different_level_CI/Sign_CI_add.jpg')\n",
    "bf_sub_img.save('D:\\cnnface/female_male_test_51_addnoise\\Face_template\\classification_noise\\different_level_CI/Sign_CI_sub.jpg')"
   ]
  },
  {
   "cell_type": "markdown",
   "metadata": {
    "pycharm": {
     "name": "#%% md\n"
    }
   },
   "source": [
    "Plot Manhattan map of distance which measure the distance of two distributions"
   ]
  },
  {
   "cell_type": "code",
   "execution_count": 5,
   "metadata": {
    "pycharm": {
     "is_executing": false,
     "name": "#%%\n"
    }
   },
   "outputs": [
    {
     "data": {
      "text/plain": "<Figure size 432x288 with 1 Axes>",
      "image/png": "[encoded data removed]"
     },
     "metadata": {},
     "output_type": "display_data"
    }
   ],
   "source": [
    "import numpy as np\n",
    "import matplotlib.pyplot as plt\n",
    "import seaborn as sns\n",
    "\n",
    "sns.set_style('darkgrid')\n",
    "# load data \n",
    "params_5000 = np.load('D:\\cnnface/female_male_test_51_addnoise\\Face_template\\meta_data/params_5000.npy')\n",
    "label_f = np.loadtxt('D:\\cnnface/female_male_test_51_addnoise/label_sinusoid_f.txt').astype('int64')\n",
    "label_m = np.loadtxt('D:\\cnnface/female_male_test_51_addnoise/label_sinusoid_m.txt').astype('int64')\n",
    "\n",
    "# Calculate the distance of two distributions\n",
    "# distance can be t-Statistic , KL divergence, Js divergence, Wasserstein distance\n",
    "dis_sum = [] \n",
    "for i in range(4092):\n",
    "    x_5000 = params_5000[:,i]\n",
    "    x_f = x_5000[label_f]\n",
    "    x_m = x_5000[label_m]\n",
    "    \n",
    "    # dis = stats.ttest_ind(x_f,x_m)    \n",
    "    \n",
    "    d = lambda x1,x2: (x1.mean() - x2.mean()) / np.sqrt(((np.std(x1))**2 + (np.std(x2))**2)/2)\n",
    "    dis = np.abs(d(x_f,x_m))\n",
    "\n",
    "    dis_sum.append(dis)\n",
    "    \n",
    "\n",
    "dis_sum = np.array(dis_sum)\n",
    "\n",
    "scale2 = ['scale2'] * 12\n",
    "scale4 = ['scale4'] * 48\n",
    "scale8 = ['scale8'] * 192\n",
    "scale16 = ['scale16'] * 768\n",
    "scale32 = ['scale32'] * 3072\n",
    "scale = scale2 + scale4 + scale8 + scale16 + scale32\n",
    "\n",
    "\n",
    "# plot the manhattan map\n",
    "snsplt =sns.swarmplot(x=scale,y=dis_sum)\n",
    "plt.tick_params(labelsize=12)\n",
    "# plot the significant line\n",
    "bin = np.arange(0,5)\n",
    "y = np.full((5,),dis_sum[2216])\n",
    "snsplt = sns.lineplot(x=bin,y=y)\n",
    "\n",
    "fig =snsplt.get_figure()\n",
    "fig.savefig('D:\\cnnface/female_male_test_51_addnoise\\Face_template\\CI_analysis/Manhatannx_cohensd.jpg')\n",
    "plt.show()\n"
   ]
  },
  {
   "cell_type": "code",
   "execution_count": null,
   "outputs": [],
   "source": [],
   "metadata": {
    "collapsed": false,
    "pycharm": {
     "name": "#%%\n"
    }
   }
  }
 ],
 "metadata": {
  "kernelspec": {
   "display_name": "Python 3",
   "language": "python",
   "name": "python3"
  },
  "language_info": {
   "codemirror_mode": {
    "name": "ipython",
    "version": 3
   },
   "file_extension": ".py",
   "mimetype": "text/x-python",
   "name": "python",
   "nbconvert_exporter": "python",
   "pygments_lexer": "ipython3",
   "version": "3.7.0"
  },
  "pycharm": {
   "stem_cell": {
    "cell_type": "raw",
    "source": [],
    "metadata": {
     "collapsed": false
    }
   }
  }
 },
 "nbformat": 4,
 "nbformat_minor": 1
}