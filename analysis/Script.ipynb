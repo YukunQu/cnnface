{
 "cells": [
  {
   "cell_type": "code",
   "execution_count": 15,
   "outputs": [
    {
     "name": "stdout",
     "text": [
      "30",
      " ",
      "-20",
      "\n"
     ],
     "output_type": "stream"
    }
   ],
   "source": [
    "import numpy as np\n",
    "from dnnbrain.dnn import io\n",
    "import os\n",
    "from PIL import Image \n",
    "import sys\n",
    "from cnnface.stimulus.Image_process import average_img\n",
    "\n",
    "csv_file = 'D:\\cnnface\\Emotion_analysis/noiseface.csv'\n",
    "index_f = np.loadtxt('D:\\cnnface\\Emotion_analysis\\CI_analysis/label_happy.txt').astype('int64')\n",
    "index_m = np.loadtxt('D:\\cnnface\\Emotion_analysis\\CI_analysis/label_sad.txt').astype('int64')\n",
    "\n",
    "savepath_aver_f = 'D:\\cnnface\\Emotion_analysis\\CI_analysis\\ci/aver_happy_noise.jpg'\n",
    "savepath_aver_m = 'D:\\cnnface\\Emotion_analysis\\CI_analysis\\ci/aver_sad_noise.jpg'\n",
    "savepath_CI = 'D:\\cnnface\\Emotion_analysis\\CI_analysis\\ci/ci_noise.jpg'\n",
    "\n",
    "#Get pictures path from stimulus csv and label txt.\n",
    "picset= io.PicDataset(csv_file)\n",
    "pre_picpath = picset.picpath\n",
    "sub_picpath = picset.picname\n",
    "\n",
    "f_picpath = [os.path.join(pre_picpath,sub_picpath[i]) for i in index_f]\n",
    "m_picpath = [os.path.join(pre_picpath,sub_picpath[i]) for i in index_m]\n",
    "\n",
    "#average all of the pictures as their label.\n",
    "aver_img_f = average_img(f_picpath)\n",
    "aver_img_m = average_img(m_picpath)\n",
    "\n",
    "#calculate the CI and superimpose image and subtract image.\n",
    "ci = aver_img_f.astype('int64') - aver_img_m.astype('int64')\n",
    "#ci = ci - ci.min()\n",
    "ci = ci * 5\n",
    "print(ci.max(),ci.min())\n",
    "\n",
    "# (Image.fromarray(aver_img_f.astype('uint8'))).save(savepath_aver_f,quality=95)\n",
    "# (Image.fromarray(aver_img_m.astype('uint8'))).save(savepath_aver_m,quality=95)\n",
    "# (Image.fromarray(ci.astype('uint8'))).save(savepath_CI,quality=95)"
   ],
   "metadata": {
    "collapsed": false,
    "pycharm": {
     "name": "#%% \n",
     "is_executing": false
    }
   }
  },
  {
   "cell_type": "code",
   "execution_count": 2,
   "outputs": [],
   "source": [
    "# savepath_CI = 'D:\\cnnface\\Emotion_analysis\\CI_analysis\\ci/ci_noise_nor.jpg'\n",
    "# nor = lambda x:(x-x.min())/(x.max() - x.min()) \n",
    "# ci  = nor(ci) * 255\n",
    "# (Image.fromarray(ci.astype('uint8'))).save(savepath_CI,quality=95)"
   ],
   "metadata": {
    "collapsed": false,
    "pycharm": {
     "name": "#%%\n",
     "is_executing": false
    }
   }
  },
  {
   "cell_type": "code",
   "execution_count": 34,
   "metadata": {
    "pycharm": {
     "is_executing": false
    }
   },
   "outputs": [],
   "source": [
    "base_face = np.array(Image.open(r'D:\\cnnface\\Emotion_analysis\\face_template/baseface.jpg')).astype('int64')\n",
    "\n",
    "ci =  np.array(Image.open('D:\\cnnface\\Emotion_analysis\\CI_analysis\\ci/ci_noise.jpg')).astype('int64')\n",
    "\n",
    "bf_add = base_face + ci \n",
    "bf_sub = base_face - ci \n",
    "\n",
    "bf_add[bf_add>255] = 255\n",
    "bf_sub[bf_sub<0] = 0\n",
    "\n",
    "# nor = lambda x:(x-x.min())/(x.max() - x.min()) \n",
    "# bf_add_x = nor(bf_add) *255\n",
    "# bf_sub_x = nor(bf_sub) *255\n",
    "(Image.fromarray(bf_add.astype('uint8'))).save('D:\\cnnface\\Emotion_analysis\\CI_analysis\\ci/bf_add.jpg',quality=95)\n",
    "(Image.fromarray(bf_sub.astype('uint8'))).save('D:\\cnnface\\Emotion_analysis\\CI_analysis\\ci/bf_sub.jpg',quality=95)"
   ]
  },
  {
   "cell_type": "code",
   "execution_count": null,
   "metadata": {
    "scrolled": true,
    "pycharm": {
     "is_executing": false,
     "name": "#%%\n"
    }
   },
   "outputs": [],
   "source": []
  }
 ],
 "metadata": {
  "kernelspec": {
   "name": "python3",
   "language": "python",
   "display_name": "Python 3"
  },
  "language_info": {
   "codemirror_mode": {
    "name": "ipython",
    "version": 3
   },
   "file_extension": ".py",
   "mimetype": "text/x-python",
   "name": "python",
   "nbconvert_exporter": "python",
   "pygments_lexer": "ipython3",
   "version": "3.7.0"
  },
  "pycharm": {
   "stem_cell": {
    "cell_type": "raw",
    "source": [],
    "metadata": {
     "collapsed": false
    }
   }
  }
 },
 "nbformat": 4,
 "nbformat_minor": 2
}