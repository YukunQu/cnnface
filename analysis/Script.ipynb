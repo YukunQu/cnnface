{
 "cells": [
  {
   "cell_type": "code",
   "execution_count": 15,
   "outputs": [
    {
     "name": "stdout",
     "text": [
      "30",
      " ",
      "-20",
      "\n"
     ],
     "output_type": "stream"
    }
   ],
   "source": [
    "import numpy as np\n",
    "from dnnbrain.dnn import io\n",
    "import os\n",
    "from PIL import Image \n",
    "import sys\n",
    "sys.path.append(\"..\")\n",
    "from cnnface.stimulus.Image_processing import average_img\n",
    "\n",
    "csv_file = 'D:\\cnnface\\Emotion_analysis/noiseface.csv'\n",
    "index_f = np.loadtxt('D:\\cnnface\\Emotion_analysis\\CI_analysis/label_happy.txt').astype('int64')\n",
    "index_m = np.loadtxt('D:\\cnnface\\Emotion_analysis\\CI_analysis/label_sad.txt').astype('int64')\n",
    "\n",
    "savepath_aver_f = 'D:\\cnnface\\Emotion_analysis\\CI_analysis\\ci/aver_happy_noise.jpg'\n",
    "savepath_aver_m = 'D:\\cnnface\\Emotion_analysis\\CI_analysis\\ci/aver_sad_noise.jpg'\n",
    "savepath_CI = 'D:\\cnnface\\Emotion_analysis\\CI_analysis\\ci/ci_noise.jpg'\n",
    "\n",
    "#Get pictures path from stim_csv and label txt.\n",
    "picset= io.PicDataset(csv_file)\n",
    "pre_picpath = picset.picpath\n",
    "sub_picpath = picset.picname\n",
    "\n",
    "f_picpath = [os.path.join(pre_picpath,sub_picpath[i]) for i in index_f]\n",
    "m_picpath = [os.path.join(pre_picpath,sub_picpath[i]) for i in index_m]\n",
    "\n",
    "#average all of the pictures as their label.\n",
    "aver_img_f = average_img(f_picpath)\n",
    "aver_img_m = average_img(m_picpath)\n",
    "\n",
    "#calculate the CI and superimpose image and subtract image.\n",
    "ci = aver_img_f.astype('int64') - aver_img_m.astype('int64')\n",
    "#ci = ci - ci.min()\n",
    "ci = ci * 5\n",
    "print(ci.max(),ci.min())\n",
    "\n",
    "# (Image.fromarray(aver_img_f.astype('uint8'))).save(savepath_aver_f,quality=95)\n",
    "# (Image.fromarray(aver_img_m.astype('uint8'))).save(savepath_aver_m,quality=95)\n",
    "# (Image.fromarray(ci.astype('uint8'))).save(savepath_CI,quality=95)"
   ],
   "metadata": {
    "collapsed": false,
    "pycharm": {
     "name": "#%% \n",
     "is_executing": false
    }
   }
  },
  {
   "cell_type": "code",
   "execution_count": 2,
   "outputs": [],
   "source": [
    "# savepath_CI = 'D:\\cnnface\\Emotion_analysis\\CI_analysis\\ci/ci_noise_nor.jpg'\n",
    "# nor = lambda x:(x-x.min())/(x.max() - x.min()) \n",
    "# ci  = nor(ci) * 255\n",
    "# (Image.fromarray(ci.astype('uint8'))).save(savepath_CI,quality=95)"
   ],
   "metadata": {
    "collapsed": false,
    "pycharm": {
     "name": "#%%\n",
     "is_executing": false
    }
   }
  },
  {
   "cell_type": "code",
   "execution_count": 34,
   "metadata": {
    "pycharm": {
     "is_executing": false
    }
   },
   "outputs": [],
   "source": [
    "base_face = np.array(Image.open(r'D:\\cnnface\\Emotion_analysis\\face_template/baseface.jpg')).astype('int64')\n",
    "\n",
    "ci =  np.array(Image.open('D:\\cnnface\\Emotion_analysis\\CI_analysis\\ci/ci_noise.jpg')).astype('int64')\n",
    "\n",
    "bf_add = base_face + ci \n",
    "bf_sub = base_face - ci \n",
    "\n",
    "bf_add[bf_add>255] = 255\n",
    "bf_sub[bf_sub<0] = 0\n",
    "\n",
    "# nor = lambda x:(x-x.min())/(x.max() - x.min()) \n",
    "# bf_add_x = nor(bf_add) *255\n",
    "# bf_sub_x = nor(bf_sub) *255\n",
    "(Image.fromarray(bf_add.astype('uint8'))).save('D:\\cnnface\\Emotion_analysis\\CI_analysis\\ci/bf_add.jpg',quality=95)\n",
    "(Image.fromarray(bf_sub.astype('uint8'))).save('D:\\cnnface\\Emotion_analysis\\CI_analysis\\ci/bf_sub.jpg',quality=95)"
   ]
  },
  {
   "cell_type": "code",
   "execution_count": 25,
   "outputs": [
    {
     "name": "stdout",
     "text": [
      "-20",
      "\n"
     ],
     "output_type": "stream"
    }
   ],
   "source": [],
   "metadata": {
    "collapsed": false,
    "pycharm": {
     "name": "#%%\n",
     "is_executing": false
    }
   }
  },
  {
   "cell_type": "code",
   "execution_count": null,
   "outputs": [],
   "source": [
    "import numpy as np\n",
    "from PIL import Image\n",
    "\n",
    "usecols = list(range(513))\n",
    "usecols.remove(0)\n",
    "sinusoid = np.loadtxt('D:/cnnface/rcrci/sinusoid/cycle/sinuoid_4.csv',delimiter=',',skiprows=1,usecols=usecols)\n",
    "sinusoid = ((sinusoid - sinusoid.min())/(sinusoid.max() - sinusoid.min()))*255\n",
    "img_sinu = Image.fromarray(sinusoid)\n",
    "img_sinu.show()\n"
   ],
   "metadata": {
    "collapsed": false,
    "pycharm": {
     "name": "#%%\n"
    }
   }
  },
  {
   "cell_type": "code",
   "execution_count": null,
   "metadata": {
    "scrolled": false,
    "pycharm": {
     "is_executing": false
    }
   },
   "outputs": [],
   "source": [
    "import sys\n",
    "sys.path.append(\"..\")\n",
    "from cnnface.stimulus import Image_processing\n",
    "\n",
    "CI_ori_p = 'D:/cnnface/female_male_test_51_addnoise\\Face_template/classification_noise/CI_ori.jpg'\n",
    "CI_ori_5 = 'D:/cnnface/female_male_test_51_addnoise\\Face_template/classification_noise/CI_ori_5.jpg'\n",
    "CI_ori_20 = 'D:/cnnface/female_male_test_51_addnoise\\Face_template/classification_noise/CI_ori_20.jpg'\n",
    "CI_sinusoid_nor = 'D:/cnnface/female_male_test_51_addnoise\\Face_template/classification_noise/CI_sinusoid_nor.jpg'\n",
    "CI_sinusoid5_nor = 'D:/cnnface/female_male_test_51_addnoise\\Face_template/classification_noise/CI_sinusoid5_nor.jpg'\n",
    "\n",
    "# Image_processing.image_freq_hist_plot(CI_ori_p)\n",
    "# Image_processing.image_freq_hist_plot(CI_ori_5)\n",
    "# Image_processing.image_freq_hist_plot(CI_ori_20)\n",
    "# Image_processing.image_freq_hist_plot(CI_sinusoid_nor)\n",
    "# Image_processing.image_freq_hist_plot(CI_sinusoid5_nor)\n",
    "\n",
    "\n",
    "Image_processing.img_zmap(CI_ori_p)\n",
    "Image_processing.img_zmap(CI_ori_5)\n",
    "Image_processing.img_zmap(CI_ori_20)\n",
    "Image_processing.img_zmap(CI_sinusoid_nor)"
   ]
  },
  {
   "cell_type": "code",
   "execution_count": null,
   "metadata": {
    "scrolled": false,
    "pycharm": {
     "is_executing": false
    }
   },
   "outputs": [],
   "source": [
    "import numpy as np\n",
    "from PIL import Image\n",
    "import matplotlib.pyplot as plt\n",
    "import matplotlib.image as pg\n",
    "\n",
    "CI_sinusoid_nor = 'D:/cnnface/female_male_test_51_addnoise\\Face_template/classification_noise/CI_sinusoid_nor.jpg'\n",
    "CI = Image.open(CI_sinusoid_nor)\n",
    "CI_arr = np.array(CI)\n",
    "\n",
    "ci_map = plt.imshow(CI_arr,cmap = 'jet',interpolation='nearest')\n",
    "save_path  ='D:/cnnface/female_male_test_51_addnoise/Face_template/classification_noise/CI_jet.jpg'\n",
    "pg.imsave(save_path,CI_arr,cmap = 'jet',format='jpg',dpi=1000)\n",
    "\n"
   ]
  },
  {
   "cell_type": "code",
   "execution_count": null,
   "metadata": {
    "scrolled": false,
    "pycharm": {
     "is_executing": false
    }
   },
   "outputs": [],
   "source": [
    "import os\n",
    "import numpy as np\n",
    "import pandas as pd\n",
    "from PIL import Image\n",
    "\n",
    "import matplotlib.pyplot as plt\n",
    "\n",
    "#read image path from csv.file\n",
    "csv_file = 'D:/cnnface/female_male_test_51_addnoise/rcicr_sinusoid_noise.csv'\n",
    "pd = pd.read_csv(csv_file,skiprows=1)\n",
    "stimID = np.array(pd['stimID'])\n",
    "with open(csv_file,'r') as f:\n",
    "    picpath = f.readline().rstrip()\n",
    "    \n",
    "#read base img \n",
    "base_img = Image.open('D:/cnnface/female_male_test_51_addnoise/Face_template/face_template/frame054_gray_512.jpg')\n",
    "baseimg_arr = np.array(base_img).astype('int32')\n",
    "img_min = []\n",
    "img_mean = []\n",
    "img_max = []\n",
    "\n",
    "#read image from array\n",
    "#calculate the min mean max of singal pictures\n",
    "for x,i in enumerate(stimID):\n",
    "    picimg = Image.open(os.path.join(picpath, i))\n",
    "    picimg_arr = np.array(picimg).astype('int32')\n",
    "    contrast = picimg_arr - baseimg_arr\n",
    "    # - base image to get the pixel (positive and negative)\n",
    "    con_min = contrast.min()\n",
    "    con_mean = contrast.mean()\n",
    "    con_max = contrast.max()\n",
    "    \n",
    "    if x <5:\n",
    "        plt.hist(contrast)\n",
    "        plt.show()\n",
    "    img_min.append(con_min)\n",
    "    img_mean.append(con_mean)\n",
    "    img_max.append(con_max)\n",
    "#sum and plot the hist of min ,mean,max of all pictures\n",
    "\n",
    "plt.hist(img_min)\n",
    "plt.show()\n",
    "plt.hist(img_mean)\n",
    "plt.show()\n",
    "plt.hist(img_max)\n",
    "plt.show()"
   ]
  },
  {
   "cell_type": "code",
   "execution_count": null,
   "metadata": {
    "scrolled": true,
    "pycharm": {
     "is_executing": false
    }
   },
   "outputs": [],
   "source": [
    "#load RData file to python\n",
    "import rpy2.robjects as robjects\n",
    "import numpy as np\n",
    "robjects.r['load'](\"D:/cnnface/female_male_test_51_addnoise/Face_template/meta_data/pythonRead/sinusoid1000_patches.RData\")\n",
    "\n",
    "x = robjects.r['patches']\n",
    "print(np.array(x))"
   ]
  },
  {
   "cell_type": "code",
   "execution_count": 10,
   "metadata": {
    "scrolled": false,
    "pycharm": {
     "is_executing": false
    }
   },
   "outputs": [],
   "source": [
    "#convert .RData to npy file\n",
    "import rpy2.robjects as robjects\n",
    "import numpy as np\n",
    "\n",
    "robjects.r['load'](r\"D:\\cnnface\\Emotion_analysis\\noise_metadata/neu_run1.Rdata\")\n",
    "params = robjects.r['stimuli_params'][0]\n",
    "\n",
    "# robjects.r['load'](r\"D:\\cnnface\\Identity_analysis\\meat_data/run2.Rdata\")\n",
    "# params = robjects.r['stimuli_params'][0]\n",
    "\n",
    "params_5000_ori = np.array(params)\n",
    "params_5000_inv = -np.array(params)\n",
    "params_5000 = np.zeros((5000,4092))\n",
    "for i in range(2500):\n",
    "    params_5000[i*2+1,:] = params_5000_ori[i,:]\n",
    "    params_5000[i*2,:] = params_5000_inv[i,:]\n",
    "    \n",
    "#p = np.concatenate((params_1000,params_5000),axis=0)\n",
    "\n",
    "np.save(r'D:\\cnnface\\Emotion_analysis\\noise_metadata/neu_params_5000',params_5000)\n"
   ]
  },
  {
   "cell_type": "code",
   "execution_count": null,
   "metadata": {
    "pycharm": {
     "is_executing": false,
     "name": "#%%\n"
    }
   },
   "outputs": [],
   "source": [
    "#convert .RData to npy file\n",
    "import rpy2.robjects as robjects\n",
    "import numpy as np\n",
    "\n",
    "robjects.r['load'](\"D:/cnnface/female_male_test_51_addnoise/Face_template/meta_data/rcic_seed_1_time_9月_18_2019_10_07.Rdata\")\n",
    "p = robjects.r['p']\n",
    "print(p.names)\n",
    "patches = p[0]\n",
    "patchidx = p[1]\n",
    "\n",
    "patches = np.array(patches)\n",
    "patchidx = np.array(patchidx)\n",
    "\n",
    "np.save('D:/cnnface/female_male_test_51_addnoise/Face_template/meta_data/patches.npy',patches)\n",
    "np.save('D:/cnnface/female_male_test_51_addnoise/Face_template/meta_data/patchidx.npy',patchidx)\n",
    "\n",
    "\n"
   ]
  }
 ],
 "metadata": {
  "kernelspec": {
   "name": "python3",
   "language": "python",
   "display_name": "Python 3"
  },
  "language_info": {
   "codemirror_mode": {
    "name": "ipython",
    "version": 3
   },
   "file_extension": ".py",
   "mimetype": "text/x-python",
   "name": "python",
   "nbconvert_exporter": "python",
   "pygments_lexer": "ipython3",
   "version": "3.7.0"
  },
  "pycharm": {
   "stem_cell": {
    "cell_type": "raw",
    "source": [],
    "metadata": {
     "collapsed": false
    }
   }
  }
 },
 "nbformat": 4,
 "nbformat_minor": 2
}